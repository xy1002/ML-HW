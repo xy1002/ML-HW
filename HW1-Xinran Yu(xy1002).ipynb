{
 "cells": [
  {
   "cell_type": "markdown",
   "metadata": {
    "deletable": true,
    "editable": true
   },
   "source": [
    "#### For this homework you can get 100 points + 20 bonus points. The bonus points will be counted into your total homework score until you get the maximum homework score, 400.\n",
    "\n",
    "Copying and pasting other people's code is absolutely prohibited.  I will report to the education team if I find any such cases. Collaboration and discussion is highly encouraged, and feel free to exchange ideas with your classmates, but write your own code please. "
   ]
  },
  {
   "cell_type": "markdown",
   "metadata": {
    "collapsed": true,
    "deletable": true,
    "editable": true
   },
   "source": [
    "### Question 1: Accuracy and interpretability (10 pts)\n",
    "\n",
    "a) Describe a real-world prediction problem using urban data for which _interpretability_ of your models and results is essential, and for which it might be preferable to use decision trees rather than random forests.  Argue why this is the case. (3 pts)\n",
    "\n",
    "\n",
    "\n"
   ]
  },
  {
   "cell_type": "markdown",
   "metadata": {
    "deletable": true,
    "editable": true
   },
   "source": [
    "### For example, if we want to use building energy consumption data to predict how many energy a building can use, it will be essential for the customer to understand why this building can consume this amount of energy instead of a simple answer. Using decision trees rather than random forests can provide a more interpretable model to the customer. "
   ]
  },
  {
   "cell_type": "markdown",
   "metadata": {
    "deletable": true,
    "editable": true
   },
   "source": [
    "b) Describe a real-world prediction problem using urban data for which accuracy is paramount and interpretability may be less important, and for which it might be preferable to use random forests rather than decision trees. Argue why this is the case. (3 pts)\n"
   ]
  },
  {
   "cell_type": "markdown",
   "metadata": {
    "deletable": true,
    "editable": true
   },
   "source": [
    "### If we want to use census data and health record to predict the occurrence of a disease, accuracy will be our priority in this case. Using random forests can provide a better result, in this case, is more preferable. "
   ]
  },
  {
   "cell_type": "markdown",
   "metadata": {
    "deletable": true,
    "editable": true
   },
   "source": [
    "c) Let's imagine that you want to try to get the best of both worlds (accuracy _and_ interpretability).  So you decide to start by learning a random forest classifier.  Describe at least one way of getting some interpretability out of the model by post-processing.  You could either pick a method from the literature (e.g., Domingos's work on combining multiple models or some method of computing variable importance), or come up with your own approach (doesn't have to be ground-breaking, but feel free to be creative!) (4 pts)"
   ]
  },
  {
   "cell_type": "markdown",
   "metadata": {
    "deletable": true,
    "editable": true
   },
   "source": [
    "**From a paper I found about how to Make Tree Ensembles Interpretable, the paper mentioned Post-hoc ATM Interpretation Method, which is:\n",
    "1.reducing the number of regions, while 2. minimizing model error**\n",
    "\n",
    "**I think it is a pretty good way to decrease the complexity of the model meanwhile minimizing the error. That way, we will have a model that is easy to understand and still have a rather good proformance.**\n",
    "\n",
    "Ref:https://arxiv.org/pdf/1606.05390.pdf\n",
    "\n"
   ]
  },
  {
   "cell_type": "markdown",
   "metadata": {
    "deletable": true,
    "editable": true
   },
   "source": [
    "###  Question 2: Build a tree by hand following exactly the lecture notes. Note that the dataset has been slightly modified, so you will get a different tree than the one shown in the lecture notes. (30 pts + 20 pts)\n",
    "\n",
    "30 points for parts a, b, c, d, f.\n",
    "20 bonus points for optional part e."
   ]
  },
  {
   "cell_type": "code",
   "execution_count": 1,
   "metadata": {
    "collapsed": true,
    "deletable": true,
    "editable": true
   },
   "outputs": [],
   "source": [
    "import pandas as pd\n",
    "import numpy as np"
   ]
  },
  {
   "cell_type": "code",
   "execution_count": 2,
   "metadata": {
    "collapsed": true,
    "deletable": true,
    "editable": true
   },
   "outputs": [],
   "source": [
    "data='MPG, cylinders, HP, weight\\ngood, 4, 75, light\\nbad, 6, 90, medium\\nbad, 4, 110, medium\\nbad, 8, 175, weighty\\nbad, 6, 95, medium\\nbad, 4, 94, light\\nbad, 4, 95, light\\nbad, 8, 139, weighty\\nbad, 8, 190, weighty\\nbad, 8, 145, weighty\\nbad, 6, 100, medium\\ngood, 4, 92, medium\\nbad, 6, 100, weighty\\nbad, 8, 170, weighty\\ngood, 4, 89, medium\\ngood, 4, 65, light\\nbad, 6, 85, medium\\ngood, 4, 81, light\\nbad, 6, 95, medium\\ngood, 4, 93, light'"
   ]
  },
  {
   "cell_type": "code",
   "execution_count": 3,
   "metadata": {
    "collapsed": false,
    "deletable": true,
    "editable": true
   },
   "outputs": [
    {
     "name": "stdout",
     "output_type": "stream",
     "text": [
      "MPG,cylinders,HP,weight\n",
      "good,4,75,light\n",
      "bad,6,90,medium\n",
      "bad,4,110,medium\n",
      "bad,8,175,weighty\n",
      "bad,6,95,medium\n",
      "bad,4,94,light\n",
      "bad,4,95,light\n",
      "bad,8,139,weighty\n",
      "bad,8,190,weighty\n",
      "bad,8,145,weighty\n",
      "bad,6,100,medium\n",
      "good,4,92,medium\n",
      "bad,6,100,weighty\n",
      "bad,8,170,weighty\n",
      "good,4,89,medium\n",
      "good,4,65,light\n",
      "bad,6,85,medium\n",
      "good,4,81,light\n",
      "bad,6,95,medium\n",
      "good,4,93,light\n"
     ]
    }
   ],
   "source": [
    "data=\",\".join(data.split(\", \"))\n",
    "print data"
   ]
  },
  {
   "cell_type": "markdown",
   "metadata": {
    "deletable": true,
    "editable": true
   },
   "source": [
    "#### Please use numpy and pandas to do the calculation for parts a) through d):\n",
    "\n"
   ]
  },
  {
   "cell_type": "markdown",
   "metadata": {
    "collapsed": true,
    "deletable": true,
    "editable": true
   },
   "source": [
    "**_a) Prepare the data set to a pandas dataframe from the given string (2 pts)_**\n"
   ]
  },
  {
   "cell_type": "code",
   "execution_count": 4,
   "metadata": {
    "collapsed": true,
    "deletable": true,
    "editable": true
   },
   "outputs": [],
   "source": [
    "import sys\n",
    "if sys.version_info[0] < 3: \n",
    "    from StringIO import StringIO\n",
    "else:\n",
    "    from io import StringIO"
   ]
  },
  {
   "cell_type": "code",
   "execution_count": 5,
   "metadata": {
    "collapsed": false,
    "deletable": true,
    "editable": true
   },
   "outputs": [
    {
     "data": {
      "text/html": [
       "<div>\n",
       "<table border=\"1\" class=\"dataframe\">\n",
       "  <thead>\n",
       "    <tr style=\"text-align: right;\">\n",
       "      <th></th>\n",
       "      <th>MPG</th>\n",
       "      <th>cylinders</th>\n",
       "      <th>HP</th>\n",
       "      <th>weight</th>\n",
       "    </tr>\n",
       "  </thead>\n",
       "  <tbody>\n",
       "    <tr>\n",
       "      <th>0</th>\n",
       "      <td>good</td>\n",
       "      <td>4</td>\n",
       "      <td>75</td>\n",
       "      <td>light</td>\n",
       "    </tr>\n",
       "    <tr>\n",
       "      <th>1</th>\n",
       "      <td>bad</td>\n",
       "      <td>6</td>\n",
       "      <td>90</td>\n",
       "      <td>medium</td>\n",
       "    </tr>\n",
       "    <tr>\n",
       "      <th>2</th>\n",
       "      <td>bad</td>\n",
       "      <td>4</td>\n",
       "      <td>110</td>\n",
       "      <td>medium</td>\n",
       "    </tr>\n",
       "    <tr>\n",
       "      <th>3</th>\n",
       "      <td>bad</td>\n",
       "      <td>8</td>\n",
       "      <td>175</td>\n",
       "      <td>weighty</td>\n",
       "    </tr>\n",
       "    <tr>\n",
       "      <th>4</th>\n",
       "      <td>bad</td>\n",
       "      <td>6</td>\n",
       "      <td>95</td>\n",
       "      <td>medium</td>\n",
       "    </tr>\n",
       "  </tbody>\n",
       "</table>\n",
       "</div>"
      ],
      "text/plain": [
       "    MPG  cylinders   HP   weight\n",
       "0  good          4   75    light\n",
       "1   bad          6   90   medium\n",
       "2   bad          4  110   medium\n",
       "3   bad          8  175  weighty\n",
       "4   bad          6   95   medium"
      ]
     },
     "execution_count": 5,
     "metadata": {},
     "output_type": "execute_result"
    }
   ],
   "source": [
    "data_1 = StringIO(data)\n",
    "df = pd.read_csv(data_1, sep=\",\")\n",
    "df.head(5)"
   ]
  },
  {
   "cell_type": "markdown",
   "metadata": {
    "collapsed": false,
    "deletable": true,
    "editable": true
   },
   "source": [
    "**_b) Start with the entire dataset and find the most common value (3 pts)_**"
   ]
  },
  {
   "cell_type": "code",
   "execution_count": 6,
   "metadata": {
    "collapsed": false,
    "deletable": true,
    "editable": true
   },
   "outputs": [
    {
     "data": {
      "text/html": [
       "<div>\n",
       "<table border=\"1\" class=\"dataframe\">\n",
       "  <thead>\n",
       "    <tr style=\"text-align: right;\">\n",
       "      <th></th>\n",
       "      <th>MPG</th>\n",
       "      <th>cylinders</th>\n",
       "      <th>HP</th>\n",
       "      <th>weight</th>\n",
       "    </tr>\n",
       "  </thead>\n",
       "  <tbody>\n",
       "    <tr>\n",
       "      <th>0</th>\n",
       "      <td>bad</td>\n",
       "      <td>4</td>\n",
       "      <td>95</td>\n",
       "      <td>medium</td>\n",
       "    </tr>\n",
       "  </tbody>\n",
       "</table>\n",
       "</div>"
      ],
      "text/plain": [
       "   MPG  cylinders  HP  weight\n",
       "0  bad          4  95  medium"
      ]
     },
     "execution_count": 6,
     "metadata": {},
     "output_type": "execute_result"
    }
   ],
   "source": [
    "#most common value in each column\n",
    "df.mode()\n",
    "#(axis = 0)"
   ]
  },
  {
   "cell_type": "code",
   "execution_count": 7,
   "metadata": {
    "collapsed": false,
    "deletable": true,
    "editable": true
   },
   "outputs": [
    {
     "data": {
      "text/plain": [
       "'bad'"
      ]
     },
     "execution_count": 7,
     "metadata": {},
     "output_type": "execute_result"
    }
   ],
   "source": [
    "#most common value in the whole dataset\n",
    "items_counts = df['MPG'].value_counts()\n",
    "items_counts.append(df['cylinders'].value_counts())\n",
    "items_counts.append(df['HP'].value_counts())\n",
    "items_counts.append(df['weight'].value_counts())\n",
    "items_counts.idxmax()\n"
   ]
  },
  {
   "cell_type": "markdown",
   "metadata": {},
   "source": [
    "#### So MPG will be our target value."
   ]
  },
  {
   "cell_type": "markdown",
   "metadata": {
    "deletable": true,
    "editable": true
   },
   "source": [
    "**_c) Use \"information gain\" as your decision rule to split your data into two groups. What is the split rule and what is the maximum value of the information gain? (5 pts)_**"
   ]
  },
  {
   "cell_type": "code",
   "execution_count": 8,
   "metadata": {
    "collapsed": false,
    "deletable": true,
    "editable": true
   },
   "outputs": [],
   "source": [
    "def RealValue (column, target_column):\n",
    "    DecisionRule_h = []\n",
    "    for i in range(len(column) - 1):\n",
    "        if target_column[i] != target_column[i+1]:\n",
    "            DecisionRule_h.append((float(column[i]) + float(column[i+1]))/2)\n",
    "    return DecisionRule_h"
   ]
  },
  {
   "cell_type": "code",
   "execution_count": 9,
   "metadata": {
    "collapsed": false
   },
   "outputs": [],
   "source": [
    "#Split rule: Discrete: choose a class, split into = and !=\n",
    "DecisionRule_c = df.cylinders.unique()\n",
    "DecisionRule_w = df.weight.unique()"
   ]
  },
  {
   "cell_type": "code",
   "execution_count": 10,
   "metadata": {
    "collapsed": false
   },
   "outputs": [
    {
     "name": "stderr",
     "output_type": "stream",
     "text": [
      "/usr/local/lib/python2.7/site-packages/ipykernel/__main__.py:2: FutureWarning: sort(columns=....) is deprecated, use sort_values(by=.....)\n",
      "  from ipykernel import kernelapp as app\n"
     ]
    }
   ],
   "source": [
    "# Real: choose a threshold, first sort the value and use the midpoints.\n",
    "df = df.sort('HP')\n",
    "df = df.reset_index(drop = True)"
   ]
  },
  {
   "cell_type": "code",
   "execution_count": 11,
   "metadata": {
    "collapsed": false
   },
   "outputs": [],
   "source": [
    "DecisionRule_h = RealValue(df.HP, df.MPG)"
   ]
  },
  {
   "cell_type": "code",
   "execution_count": 12,
   "metadata": {
    "collapsed": false
   },
   "outputs": [
    {
     "data": {
      "text/plain": [
       "[83.0, 87.0, 89.5, 91.0, 93.5]"
      ]
     },
     "execution_count": 12,
     "metadata": {},
     "output_type": "execute_result"
    }
   ],
   "source": [
    "DecisionRule_h"
   ]
  },
  {
   "cell_type": "code",
   "execution_count": 13,
   "metadata": {
    "collapsed": false,
    "deletable": true,
    "editable": true
   },
   "outputs": [],
   "source": [
    "def Rule(DecisionRule_c,DecisionRule_w,DecisionRule_h):\n",
    "    DecisionRule = []\n",
    "    for x in map(lambda x: x, DecisionRule_c):\n",
    "        DecisionRule.append('df.cylinders == {}'.format(x))\n",
    "    \n",
    "    for x in map(lambda x: x, DecisionRule_w):\n",
    "        DecisionRule.append('df.weight == \\'{}\\''.format(x))\n",
    "    \n",
    "    for x in map(lambda x: x, DecisionRule_h):\n",
    "        DecisionRule.append('df.HP > {}'.format(x))\n",
    "    \n",
    "    rule = pd.DataFrame({'Split': DecisionRule})\n",
    "    rule['Gain'] = np.zeros(len(DecisionRule))\n",
    "    return rule"
   ]
  },
  {
   "cell_type": "code",
   "execution_count": 14,
   "metadata": {
    "collapsed": false
   },
   "outputs": [
    {
     "data": {
      "text/html": [
       "<div>\n",
       "<table border=\"1\" class=\"dataframe\">\n",
       "  <thead>\n",
       "    <tr style=\"text-align: right;\">\n",
       "      <th></th>\n",
       "      <th>Split</th>\n",
       "      <th>Gain</th>\n",
       "    </tr>\n",
       "  </thead>\n",
       "  <tbody>\n",
       "    <tr>\n",
       "      <th>0</th>\n",
       "      <td>df.cylinders == 4</td>\n",
       "      <td>0.0</td>\n",
       "    </tr>\n",
       "    <tr>\n",
       "      <th>1</th>\n",
       "      <td>df.cylinders == 6</td>\n",
       "      <td>0.0</td>\n",
       "    </tr>\n",
       "    <tr>\n",
       "      <th>2</th>\n",
       "      <td>df.cylinders == 8</td>\n",
       "      <td>0.0</td>\n",
       "    </tr>\n",
       "    <tr>\n",
       "      <th>3</th>\n",
       "      <td>df.weight == 'light'</td>\n",
       "      <td>0.0</td>\n",
       "    </tr>\n",
       "    <tr>\n",
       "      <th>4</th>\n",
       "      <td>df.weight == 'medium'</td>\n",
       "      <td>0.0</td>\n",
       "    </tr>\n",
       "    <tr>\n",
       "      <th>5</th>\n",
       "      <td>df.weight == 'weighty'</td>\n",
       "      <td>0.0</td>\n",
       "    </tr>\n",
       "    <tr>\n",
       "      <th>6</th>\n",
       "      <td>df.HP &gt; 83.0</td>\n",
       "      <td>0.0</td>\n",
       "    </tr>\n",
       "    <tr>\n",
       "      <th>7</th>\n",
       "      <td>df.HP &gt; 87.0</td>\n",
       "      <td>0.0</td>\n",
       "    </tr>\n",
       "    <tr>\n",
       "      <th>8</th>\n",
       "      <td>df.HP &gt; 89.5</td>\n",
       "      <td>0.0</td>\n",
       "    </tr>\n",
       "    <tr>\n",
       "      <th>9</th>\n",
       "      <td>df.HP &gt; 91.0</td>\n",
       "      <td>0.0</td>\n",
       "    </tr>\n",
       "    <tr>\n",
       "      <th>10</th>\n",
       "      <td>df.HP &gt; 93.5</td>\n",
       "      <td>0.0</td>\n",
       "    </tr>\n",
       "  </tbody>\n",
       "</table>\n",
       "</div>"
      ],
      "text/plain": [
       "                     Split  Gain\n",
       "0        df.cylinders == 4   0.0\n",
       "1        df.cylinders == 6   0.0\n",
       "2        df.cylinders == 8   0.0\n",
       "3     df.weight == 'light'   0.0\n",
       "4    df.weight == 'medium'   0.0\n",
       "5   df.weight == 'weighty'   0.0\n",
       "6             df.HP > 83.0   0.0\n",
       "7             df.HP > 87.0   0.0\n",
       "8             df.HP > 89.5   0.0\n",
       "9             df.HP > 91.0   0.0\n",
       "10            df.HP > 93.5   0.0"
      ]
     },
     "execution_count": 14,
     "metadata": {},
     "output_type": "execute_result"
    }
   ],
   "source": [
    "rule = Rule(DecisionRule_c,DecisionRule_w,DecisionRule_h)\n",
    "rule"
   ]
  },
  {
   "cell_type": "code",
   "execution_count": 15,
   "metadata": {
    "collapsed": false
   },
   "outputs": [],
   "source": [
    "def Gain(Y_G, Y_B, N_G, N_B):\n",
    "    def F(x, y):\n",
    "        if x == 0:\n",
    "            F = y * np.log2((float(x) + float(y)) / float(y))\n",
    "        elif y == 0:\n",
    "            F = x * np.log2((float(x) + float(y)) / float(x))\n",
    "        else:\n",
    "            F = x * np.log2((float(x) + float(y)) / float(x)) + y * np.log2((float(x) + float(y)) / float(y))\n",
    "        return F\n",
    "    G = (F((Y_G + N_G), (Y_B + N_B)) - F(Y_G, Y_B) - F(N_G, N_B))/(Y_G + Y_B + N_G + N_B)\n",
    "    return G"
   ]
  },
  {
   "cell_type": "code",
   "execution_count": 16,
   "metadata": {
    "collapsed": false
   },
   "outputs": [],
   "source": [
    "def InformationGain(Rule, df):\n",
    "    for i in range(len(Rule)):\n",
    "        condition_s = eval(Rule.Split[i])\n",
    "        #condition_t = df.MPG == 'good'\n",
    "        data_y = df[condition_s]\n",
    "        data_n = df[~condition_s]\n",
    "        y_g = len(data_y[df.MPG == 'good'])\n",
    "        y_b = len(data_y[~(df.MPG == 'good')])\n",
    "        n_g = len(data_n[df.MPG == 'good'])\n",
    "        n_b = len(data_n[~(df.MPG == 'good')])\n",
    "        g = Gain(y_g, y_b, n_g, n_b)\n",
    "        Rule['Gain'].iloc[i] = g\n",
    "        "
   ]
  },
  {
   "cell_type": "code",
   "execution_count": 17,
   "metadata": {
    "collapsed": false
   },
   "outputs": [
    {
     "name": "stderr",
     "output_type": "stream",
     "text": [
      "/usr/local/lib/python2.7/site-packages/ipykernel/__main__.py:7: UserWarning: Boolean Series key will be reindexed to match DataFrame index.\n",
      "/usr/local/lib/python2.7/site-packages/ipykernel/__main__.py:8: UserWarning: Boolean Series key will be reindexed to match DataFrame index.\n",
      "/usr/local/lib/python2.7/site-packages/ipykernel/__main__.py:9: UserWarning: Boolean Series key will be reindexed to match DataFrame index.\n",
      "/usr/local/lib/python2.7/site-packages/ipykernel/__main__.py:10: UserWarning: Boolean Series key will be reindexed to match DataFrame index.\n",
      "/usr/local/lib/python2.7/site-packages/pandas/core/indexing.py:141: SettingWithCopyWarning: \n",
      "A value is trying to be set on a copy of a slice from a DataFrame\n",
      "\n",
      "See the caveats in the documentation: http://pandas.pydata.org/pandas-docs/stable/indexing.html#indexing-view-versus-copy\n",
      "  self._setitem_with_indexer(indexer, value)\n"
     ]
    },
    {
     "data": {
      "text/html": [
       "<div>\n",
       "<table border=\"1\" class=\"dataframe\">\n",
       "  <thead>\n",
       "    <tr style=\"text-align: right;\">\n",
       "      <th></th>\n",
       "      <th>Split</th>\n",
       "      <th>Gain</th>\n",
       "    </tr>\n",
       "  </thead>\n",
       "  <tbody>\n",
       "    <tr>\n",
       "      <th>0</th>\n",
       "      <td>df.cylinders == 4</td>\n",
       "      <td>0.468058</td>\n",
       "    </tr>\n",
       "    <tr>\n",
       "      <th>1</th>\n",
       "      <td>df.cylinders == 6</td>\n",
       "      <td>0.191631</td>\n",
       "    </tr>\n",
       "    <tr>\n",
       "      <th>2</th>\n",
       "      <td>df.cylinders == 8</td>\n",
       "      <td>0.153078</td>\n",
       "    </tr>\n",
       "    <tr>\n",
       "      <th>3</th>\n",
       "      <td>df.weight == 'light'</td>\n",
       "      <td>0.191631</td>\n",
       "    </tr>\n",
       "    <tr>\n",
       "      <th>4</th>\n",
       "      <td>df.weight == 'medium'</td>\n",
       "      <td>0.005802</td>\n",
       "    </tr>\n",
       "    <tr>\n",
       "      <th>5</th>\n",
       "      <td>df.weight == 'weighty'</td>\n",
       "      <td>0.191631</td>\n",
       "    </tr>\n",
       "    <tr>\n",
       "      <th>6</th>\n",
       "      <td>df.HP &gt; 83.0</td>\n",
       "      <td>0.309840</td>\n",
       "    </tr>\n",
       "    <tr>\n",
       "      <th>7</th>\n",
       "      <td>df.HP &gt; 87.0</td>\n",
       "      <td>0.162065</td>\n",
       "    </tr>\n",
       "    <tr>\n",
       "      <th>8</th>\n",
       "      <td>df.HP &gt; 89.5</td>\n",
       "      <td>0.275927</td>\n",
       "    </tr>\n",
       "    <tr>\n",
       "      <th>9</th>\n",
       "      <td>df.HP &gt; 91.0</td>\n",
       "      <td>0.191631</td>\n",
       "    </tr>\n",
       "    <tr>\n",
       "      <th>10</th>\n",
       "      <td>df.HP &gt; 93.5</td>\n",
       "      <td>0.556780</td>\n",
       "    </tr>\n",
       "  </tbody>\n",
       "</table>\n",
       "</div>"
      ],
      "text/plain": [
       "                     Split      Gain\n",
       "0        df.cylinders == 4  0.468058\n",
       "1        df.cylinders == 6  0.191631\n",
       "2        df.cylinders == 8  0.153078\n",
       "3     df.weight == 'light'  0.191631\n",
       "4    df.weight == 'medium'  0.005802\n",
       "5   df.weight == 'weighty'  0.191631\n",
       "6             df.HP > 83.0  0.309840\n",
       "7             df.HP > 87.0  0.162065\n",
       "8             df.HP > 89.5  0.275927\n",
       "9             df.HP > 91.0  0.191631\n",
       "10            df.HP > 93.5  0.556780"
      ]
     },
     "execution_count": 17,
     "metadata": {},
     "output_type": "execute_result"
    }
   ],
   "source": [
    "InformationGain(rule, df)\n",
    "rule"
   ]
  },
  {
   "cell_type": "code",
   "execution_count": 18,
   "metadata": {
    "collapsed": false
   },
   "outputs": [
    {
     "data": {
      "text/html": [
       "<div>\n",
       "<table border=\"1\" class=\"dataframe\">\n",
       "  <thead>\n",
       "    <tr style=\"text-align: right;\">\n",
       "      <th></th>\n",
       "      <th>Split</th>\n",
       "      <th>Gain</th>\n",
       "    </tr>\n",
       "  </thead>\n",
       "  <tbody>\n",
       "    <tr>\n",
       "      <th>10</th>\n",
       "      <td>df.HP &gt; 93.5</td>\n",
       "      <td>0.55678</td>\n",
       "    </tr>\n",
       "  </tbody>\n",
       "</table>\n",
       "</div>"
      ],
      "text/plain": [
       "           Split     Gain\n",
       "10  df.HP > 93.5  0.55678"
      ]
     },
     "execution_count": 18,
     "metadata": {},
     "output_type": "execute_result"
    }
   ],
   "source": [
    "GainMax = rule.Gain.max()\n",
    "MaxRule = rule[rule.Gain == GainMax]\n",
    "MaxRule"
   ]
  },
  {
   "cell_type": "markdown",
   "metadata": {
    "deletable": true,
    "editable": true
   },
   "source": [
    "** d) Repeat the process b) and c) until that you can perfectly split the training data.  Show the resulting decision tree in a format of your choice, as long as the tree structure and the prediction at each leaf node are clearly shown.  Note that you are _not_ expected to prune the tree in parts d) and e). (10 pts) **\n",
    "\n"
   ]
  },
  {
   "cell_type": "code",
   "execution_count": 19,
   "metadata": {
    "collapsed": false,
    "deletable": true,
    "editable": true
   },
   "outputs": [],
   "source": [
    "def BuildDecisionTree (df):\n",
    "    node = []\n",
    "    while (len(df) != 0): \n",
    "        DecisionRule_c = df.cylinders.unique()\n",
    "        DecisionRule_w = df.weight.unique()\n",
    "        df = df.sort('HP')\n",
    "        df = df.reset_index(drop = True)\n",
    "        DecisionRule_h = RealValue(df.HP, df.MPG)\n",
    "        rule = Rule(DecisionRule_c,DecisionRule_w,DecisionRule_h)\n",
    "        InformationGain(rule, df)\n",
    "        GainMax = rule.Gain.max()\n",
    "        MaxRule = rule[rule.Gain == GainMax]\n",
    "        r = MaxRule.index[0]\n",
    "        condition = eval(rule.Split[r])\n",
    "        node.append(rule.Split[r])\n",
    "        data_y = df[condition]\n",
    "        data_n = df[~condition]\n",
    "        y_g = len(data_y[df.MPG == 'good'])\n",
    "        y_b = len(data_y[~(df.MPG == 'good')])\n",
    "        n_g = len(data_n[df.MPG == 'good'])\n",
    "        n_b = len(data_n[~(df.MPG == 'good')])\n",
    "        if(y_g != 0 and y_b != 0):\n",
    "            df = data_y\n",
    "            \n",
    "        elif(n_g != 0 and n_b != 0):\n",
    "            if len(df) == len(data_y):\n",
    "                df.append(data_n)\n",
    "            else:\n",
    "                df = data_n\n",
    "        elif((n_g == 0 or n_b != 0) and (y_g == 0 or y_b == 0)):\n",
    "            df = []\n",
    "    return node"
   ]
  },
  {
   "cell_type": "code",
   "execution_count": 20,
   "metadata": {
    "collapsed": false
   },
   "outputs": [
    {
     "name": "stderr",
     "output_type": "stream",
     "text": [
      "/usr/local/lib/python2.7/site-packages/ipykernel/__main__.py:6: FutureWarning: sort(columns=....) is deprecated, use sort_values(by=.....)\n",
      "/usr/local/lib/python2.7/site-packages/ipykernel/__main__.py:7: UserWarning: Boolean Series key will be reindexed to match DataFrame index.\n",
      "/usr/local/lib/python2.7/site-packages/ipykernel/__main__.py:8: UserWarning: Boolean Series key will be reindexed to match DataFrame index.\n",
      "/usr/local/lib/python2.7/site-packages/ipykernel/__main__.py:9: UserWarning: Boolean Series key will be reindexed to match DataFrame index.\n",
      "/usr/local/lib/python2.7/site-packages/ipykernel/__main__.py:10: UserWarning: Boolean Series key will be reindexed to match DataFrame index.\n",
      "/usr/local/lib/python2.7/site-packages/ipykernel/__main__.py:18: UserWarning: Boolean Series key will be reindexed to match DataFrame index.\n",
      "/usr/local/lib/python2.7/site-packages/ipykernel/__main__.py:19: UserWarning: Boolean Series key will be reindexed to match DataFrame index.\n",
      "/usr/local/lib/python2.7/site-packages/ipykernel/__main__.py:20: UserWarning: Boolean Series key will be reindexed to match DataFrame index.\n",
      "/usr/local/lib/python2.7/site-packages/ipykernel/__main__.py:21: UserWarning: Boolean Series key will be reindexed to match DataFrame index.\n"
     ]
    },
    {
     "data": {
      "text/plain": [
       "['df.HP > 93.5', 'df.cylinders == 4']"
      ]
     },
     "execution_count": 20,
     "metadata": {},
     "output_type": "execute_result"
    }
   ],
   "source": [
    "nodes = BuildDecisionTree(df)\n",
    "nodes"
   ]
  },
  {
   "cell_type": "code",
   "execution_count": 21,
   "metadata": {
    "collapsed": false
   },
   "outputs": [],
   "source": [
    "def printtree(nodes, df):\n",
    "    for i in range(len(nodes)):\n",
    "        if i < (len(nodes)-1):\n",
    "            print ('{}.'.format(i) + nodes[i] + '?')\n",
    "            condition = eval(nodes[i])\n",
    "            data_y = df[condition]\n",
    "            data_n = df[~condition]\n",
    "            y_g = len(data_y[df.MPG == 'good'])\n",
    "            y_b = len(data_y[~(df.MPG == 'good')])\n",
    "            n_g = len(data_n[df.MPG == 'good'])\n",
    "            n_b = len(data_n[~(df.MPG == 'good')])\n",
    "            if(y_g != 0 and y_b != 0):\n",
    "                df = data_y\n",
    "                if n_g == 0:\n",
    "                    print ('F-> BAD: {}'.format(n_b))\n",
    "                    print ('T->')\n",
    "                elif n_b == 0:\n",
    "                    print ('F-> GOOD: {}'.format(n_g))\n",
    "                    print ('T->')\n",
    "            elif(n_g != 0 and n_b != 0):\n",
    "                df = data_n\n",
    "                if y_g == 0:\n",
    "                    print ('T-> BAD: {}'.format(y_b))\n",
    "                    print ('F->')\n",
    "                elif y_b == 0:\n",
    "                    print ('T-> GOOD: {}'.format(y_g))\n",
    "                    print ('F->')            \n",
    "        else:\n",
    "            print ('{}.'.format(i) + nodes[i] + '?')\n",
    "            condition = eval(nodes[i])\n",
    "            data_y = df[condition]\n",
    "            data_n = df[~condition]\n",
    "            y_g = len(data_y[df.MPG == 'good'])\n",
    "            y_b = len(data_y[~(df.MPG == 'good')])\n",
    "            n_g = len(data_n[df.MPG == 'good'])\n",
    "            n_b = len(data_n[~(df.MPG == 'good')])\n",
    "            if n_g == 0:\n",
    "                print ('F-> BAD: {}'.format(n_b))\n",
    "                if y_g == 0:\n",
    "                    print ('T-> BAD: {}'.format(y_b))\n",
    "                elif y_b == 0:\n",
    "                    print ('T-> GOOD: {}'.format(y_g))\n",
    "            if n_b == 0:\n",
    "                print ('F-> GOOD: {}'.format(n_g))\n",
    "                if y_g == 0:\n",
    "                    print ('T-> BAD: {}'.format(y_b))\n",
    "                elif y_b == 0:\n",
    "                    print ('T-> GOOD: {}'.format(y_g))\n",
    "            "
   ]
  },
  {
   "cell_type": "code",
   "execution_count": 22,
   "metadata": {
    "collapsed": false
   },
   "outputs": [
    {
     "name": "stdout",
     "output_type": "stream",
     "text": [
      "0.df.HP > 93.5?\n",
      "T-> BAD: 12\n",
      "F->\n",
      "1.df.cylinders == 4?\n",
      "F-> BAD: 2\n",
      "T-> GOOD: 6\n"
     ]
    },
    {
     "name": "stderr",
     "output_type": "stream",
     "text": [
      "/usr/local/lib/python2.7/site-packages/ipykernel/__main__.py:8: UserWarning: Boolean Series key will be reindexed to match DataFrame index.\n",
      "/usr/local/lib/python2.7/site-packages/ipykernel/__main__.py:9: UserWarning: Boolean Series key will be reindexed to match DataFrame index.\n",
      "/usr/local/lib/python2.7/site-packages/ipykernel/__main__.py:10: UserWarning: Boolean Series key will be reindexed to match DataFrame index.\n",
      "/usr/local/lib/python2.7/site-packages/ipykernel/__main__.py:11: UserWarning: Boolean Series key will be reindexed to match DataFrame index.\n",
      "/usr/local/lib/python2.7/site-packages/ipykernel/__main__.py:33: UserWarning: Boolean Series key will be reindexed to match DataFrame index.\n",
      "/usr/local/lib/python2.7/site-packages/ipykernel/__main__.py:34: UserWarning: Boolean Series key will be reindexed to match DataFrame index.\n",
      "/usr/local/lib/python2.7/site-packages/ipykernel/__main__.py:35: UserWarning: Boolean Series key will be reindexed to match DataFrame index.\n",
      "/usr/local/lib/python2.7/site-packages/ipykernel/__main__.py:36: UserWarning: Boolean Series key will be reindexed to match DataFrame index.\n"
     ]
    }
   ],
   "source": [
    "printtree(nodes, df)"
   ]
  },
  {
   "cell_type": "markdown",
   "metadata": {
    "collapsed": true,
    "deletable": true,
    "editable": true
   },
   "source": [
    "e)*OPTIONAL- 20 bonus points* \n",
    "Define a function: Tree(data_train, data_test) which learns a decision tree from data_train and uses it to predict the values for data_test.\n",
    "Example:\n",
    "\n",
    "##### Input of the desired function:\n",
    "\n",
    "data_train=\"good,4,75,light\\nbad,6,90,medium\\nbad,4,110,medium\"\n",
    "\n",
    "data_test=\"?,6,95,medium\\n?,4,93,light\"\n",
    "\n",
    "##### Output of the desired function should be data_test with the unknown values replaced by your tree's predictions, e.g.:\n",
    "\n",
    "data_test_predicted=\"bad,6,95,medium\\ngood,4,93,light\"\n",
    "\n",
    "\n"
   ]
  },
  {
   "cell_type": "code",
   "execution_count": 66,
   "metadata": {
    "collapsed": true
   },
   "outputs": [],
   "source": [
    "def Tree(data_train, data_test):\n",
    "    nodes = BuildDecisionTree(data_train)\n",
    "    for i in range(len(nodes)):\n",
    "        if i < (len(nodes)-1):\n",
    "            condition = eval(nodes[i])\n",
    "            data_y = data_train[condition]\n",
    "            data_n = data_train[~condition]\n",
    "            y_g = len(data_y[data_train.MPG == 'good'])\n",
    "            y_b = len(data_y[~(data_train.MPG == 'good')])\n",
    "            n_g = len(data_n[data_train.MPG == 'good'])\n",
    "            n_b = len(data_n[~(data_train.MPG == 'good')])\n",
    "            if(y_g != 0 and y_b != 0):\n",
    "                data_train = data_y\n",
    "                if n_g == 0:\n",
    "                    data_test.MPG[~condition] = 'bad'\n",
    "                elif n_b == 0:\n",
    "                    data_test.MPG[~condition] = 'good'\n",
    "                data_test = data_test[condition]\n",
    "            elif(n_g != 0 and n_b != 0):\n",
    "                data_train = data_n\n",
    "                if y_g == 0:\n",
    "                    data_test.MPG[condition] = 'bad'\n",
    "                elif y_b == 0:\n",
    "                    data_test.MPG[condition] = 'good'\n",
    "                data_test = data_test[~condition]\n",
    "        else:\n",
    "            condition = eval(nodes[i])\n",
    "            data_y = data_train[condition]\n",
    "            data_n = data_train[~condition]\n",
    "            y_g = len(data_y[data_train.MPG == 'good'])\n",
    "            y_b = len(data_y[~(data_train.MPG == 'good')])\n",
    "            n_g = len(data_n[data_train.MPG == 'good'])\n",
    "            n_b = len(data_n[~(data_train.MPG == 'good')])\n",
    "            if n_g == 0:\n",
    "                data_test.MPG[~condition] = 'bad'\n",
    "                if y_g == 0:\n",
    "                    data_test.MPG[condition] = 'bad'\n",
    "                elif y_b == 0:\n",
    "                    data_test.MPG[condition] = 'good'\n",
    "            if n_b == 0:\n",
    "                data_test.MPG[~condition] = 'good'\n",
    "                if y_g == 0:\n",
    "                    data_test.MPG[condition] = 'bad'\n",
    "                elif y_b == 0:\n",
    "                    data_test.MPG[condition] = 'good'\n",
    "    return data_test"
   ]
  },
  {
   "cell_type": "code",
   "execution_count": 67,
   "metadata": {
    "collapsed": false
   },
   "outputs": [
    {
     "data": {
      "text/html": [
       "<div>\n",
       "<table border=\"1\" class=\"dataframe\">\n",
       "  <thead>\n",
       "    <tr style=\"text-align: right;\">\n",
       "      <th></th>\n",
       "      <th>MPG</th>\n",
       "      <th>cylinders</th>\n",
       "      <th>HP</th>\n",
       "      <th>weight</th>\n",
       "    </tr>\n",
       "  </thead>\n",
       "  <tbody>\n",
       "    <tr>\n",
       "      <th>0</th>\n",
       "      <td>?</td>\n",
       "      <td>6</td>\n",
       "      <td>95</td>\n",
       "      <td>medium</td>\n",
       "    </tr>\n",
       "    <tr>\n",
       "      <th>1</th>\n",
       "      <td>?</td>\n",
       "      <td>4</td>\n",
       "      <td>93</td>\n",
       "      <td>light</td>\n",
       "    </tr>\n",
       "  </tbody>\n",
       "</table>\n",
       "</div>"
      ],
      "text/plain": [
       "  MPG  cylinders  HP  weight\n",
       "0   ?          6  95  medium\n",
       "1   ?          4  93   light"
      ]
     },
     "execution_count": 67,
     "metadata": {},
     "output_type": "execute_result"
    }
   ],
   "source": [
    "data_test = \"MPG, cylinders, HP, weight\\n?,6,95,medium\\n?,4,93,light\"\n",
    "data_test=\",\".join(data_test.split(\", \"))\n",
    "data_test = StringIO(data_test)\n",
    "df_test = pd.read_csv(data_test, sep=\",\")\n",
    "df_test.head(5)"
   ]
  },
  {
   "cell_type": "code",
   "execution_count": 69,
   "metadata": {
    "collapsed": false
   },
   "outputs": [
    {
     "name": "stderr",
     "output_type": "stream",
     "text": [
      "/usr/local/lib/python2.7/site-packages/ipykernel/__main__.py:6: FutureWarning: sort(columns=....) is deprecated, use sort_values(by=.....)\n",
      "/usr/local/lib/python2.7/site-packages/ipykernel/__main__.py:7: UserWarning: Boolean Series key will be reindexed to match DataFrame index.\n",
      "/usr/local/lib/python2.7/site-packages/ipykernel/__main__.py:8: UserWarning: Boolean Series key will be reindexed to match DataFrame index.\n",
      "/usr/local/lib/python2.7/site-packages/ipykernel/__main__.py:9: UserWarning: Boolean Series key will be reindexed to match DataFrame index.\n",
      "/usr/local/lib/python2.7/site-packages/ipykernel/__main__.py:10: UserWarning: Boolean Series key will be reindexed to match DataFrame index.\n",
      "/usr/local/lib/python2.7/site-packages/ipykernel/__main__.py:18: UserWarning: Boolean Series key will be reindexed to match DataFrame index.\n",
      "/usr/local/lib/python2.7/site-packages/ipykernel/__main__.py:19: UserWarning: Boolean Series key will be reindexed to match DataFrame index.\n",
      "/usr/local/lib/python2.7/site-packages/ipykernel/__main__.py:20: UserWarning: Boolean Series key will be reindexed to match DataFrame index.\n",
      "/usr/local/lib/python2.7/site-packages/ipykernel/__main__.py:21: UserWarning: Boolean Series key will be reindexed to match DataFrame index.\n",
      "/usr/local/lib/python2.7/site-packages/ipykernel/__main__.py:11: UserWarning: Boolean Series key will be reindexed to match DataFrame index.\n",
      "/usr/local/lib/python2.7/site-packages/ipykernel/__main__.py:22: SettingWithCopyWarning: \n",
      "A value is trying to be set on a copy of a slice from a DataFrame\n",
      "\n",
      "See the caveats in the documentation: http://pandas.pydata.org/pandas-docs/stable/indexing.html#indexing-view-versus-copy\n",
      "/usr/local/lib/python2.7/site-packages/ipykernel/__main__.py:25: UserWarning: Boolean Series key will be reindexed to match DataFrame index.\n",
      "/usr/local/lib/python2.7/site-packages/ipykernel/__main__.py:28: UserWarning: Boolean Series key will be reindexed to match DataFrame index.\n",
      "/usr/local/lib/python2.7/site-packages/ipykernel/__main__.py:29: UserWarning: Boolean Series key will be reindexed to match DataFrame index.\n",
      "/usr/local/lib/python2.7/site-packages/ipykernel/__main__.py:30: UserWarning: Boolean Series key will be reindexed to match DataFrame index.\n",
      "/usr/local/lib/python2.7/site-packages/ipykernel/__main__.py:31: UserWarning: Boolean Series key will be reindexed to match DataFrame index.\n",
      "/usr/local/lib/python2.7/site-packages/ipykernel/__main__.py:32: UserWarning: Boolean Series key will be reindexed to match DataFrame index.\n",
      "/usr/local/lib/python2.7/site-packages/ipykernel/__main__.py:33: UserWarning: Boolean Series key will be reindexed to match DataFrame index.\n",
      "/usr/local/lib/python2.7/site-packages/ipykernel/__main__.py:35: SettingWithCopyWarning: \n",
      "A value is trying to be set on a copy of a slice from a DataFrame\n",
      "\n",
      "See the caveats in the documentation: http://pandas.pydata.org/pandas-docs/stable/indexing.html#indexing-view-versus-copy\n",
      "/usr/local/lib/python2.7/site-packages/ipykernel/__main__.py:39: SettingWithCopyWarning: \n",
      "A value is trying to be set on a copy of a slice from a DataFrame\n",
      "\n",
      "See the caveats in the documentation: http://pandas.pydata.org/pandas-docs/stable/indexing.html#indexing-view-versus-copy\n"
     ]
    },
    {
     "data": {
      "text/html": [
       "<div>\n",
       "<table border=\"1\" class=\"dataframe\">\n",
       "  <thead>\n",
       "    <tr style=\"text-align: right;\">\n",
       "      <th></th>\n",
       "      <th>MPG</th>\n",
       "      <th>cylinders</th>\n",
       "      <th>HP</th>\n",
       "      <th>weight</th>\n",
       "    </tr>\n",
       "  </thead>\n",
       "  <tbody>\n",
       "    <tr>\n",
       "      <th>0</th>\n",
       "      <td>good</td>\n",
       "      <td>6</td>\n",
       "      <td>95</td>\n",
       "      <td>medium</td>\n",
       "    </tr>\n",
       "    <tr>\n",
       "      <th>1</th>\n",
       "      <td>good</td>\n",
       "      <td>4</td>\n",
       "      <td>93</td>\n",
       "      <td>light</td>\n",
       "    </tr>\n",
       "  </tbody>\n",
       "</table>\n",
       "</div>"
      ],
      "text/plain": [
       "    MPG  cylinders  HP  weight\n",
       "0  good          6  95  medium\n",
       "1  good          4  93   light"
      ]
     },
     "execution_count": 69,
     "metadata": {},
     "output_type": "execute_result"
    }
   ],
   "source": [
    "df_test = Tree(df,df_test)\n",
    "df_test"
   ]
  },
  {
   "cell_type": "markdown",
   "metadata": {},
   "source": [
    "**f) Classify the following five vehicles as having \"good\" or \"bad\" fuel efficiency (miles per gallon).  You can do this by hand using the tree structure learned in part d), or automatically using the function you wrote in part e). (10 pts)**\n",
    "\n",
    "?,4,93,weighty\n",
    "?,8,70,light\n",
    "?,6,113,medium\n",
    "?,6,95,weighty\n",
    "?,4,115,medium\n",
    "\n",
    "\n"
   ]
  },
  {
   "cell_type": "code",
   "execution_count": 70,
   "metadata": {
    "collapsed": false
   },
   "outputs": [
    {
     "data": {
      "text/html": [
       "<div>\n",
       "<table border=\"1\" class=\"dataframe\">\n",
       "  <thead>\n",
       "    <tr style=\"text-align: right;\">\n",
       "      <th></th>\n",
       "      <th>MPG</th>\n",
       "      <th>cylinders</th>\n",
       "      <th>HP</th>\n",
       "      <th>weight</th>\n",
       "    </tr>\n",
       "  </thead>\n",
       "  <tbody>\n",
       "    <tr>\n",
       "      <th>0</th>\n",
       "      <td>?</td>\n",
       "      <td>4</td>\n",
       "      <td>93</td>\n",
       "      <td>weighty</td>\n",
       "    </tr>\n",
       "    <tr>\n",
       "      <th>1</th>\n",
       "      <td>?</td>\n",
       "      <td>8</td>\n",
       "      <td>70</td>\n",
       "      <td>light</td>\n",
       "    </tr>\n",
       "    <tr>\n",
       "      <th>2</th>\n",
       "      <td>?</td>\n",
       "      <td>6</td>\n",
       "      <td>113</td>\n",
       "      <td>medium</td>\n",
       "    </tr>\n",
       "    <tr>\n",
       "      <th>3</th>\n",
       "      <td>?</td>\n",
       "      <td>6</td>\n",
       "      <td>95</td>\n",
       "      <td>weighty</td>\n",
       "    </tr>\n",
       "    <tr>\n",
       "      <th>4</th>\n",
       "      <td>?</td>\n",
       "      <td>4</td>\n",
       "      <td>115</td>\n",
       "      <td>medium</td>\n",
       "    </tr>\n",
       "  </tbody>\n",
       "</table>\n",
       "</div>"
      ],
      "text/plain": [
       "  MPG  cylinders   HP   weight\n",
       "0   ?          4   93  weighty\n",
       "1   ?          8   70    light\n",
       "2   ?          6  113   medium\n",
       "3   ?          6   95  weighty\n",
       "4   ?          4  115   medium"
      ]
     },
     "execution_count": 70,
     "metadata": {},
     "output_type": "execute_result"
    }
   ],
   "source": [
    "data_test = \"MPG, cylinders, HP, weight\\n?,4,93,weighty\\n?,8,70,light\\n?,6,113,medium\\n?,6,95,weighty\\n?,4,115,medium\"\n",
    "data_test=\",\".join(data_test.split(\", \"))\n",
    "data_test = StringIO(data_test)\n",
    "df_test = pd.read_csv(data_test, sep=\",\")\n",
    "df_test.head(5)\n"
   ]
  },
  {
   "cell_type": "code",
   "execution_count": 71,
   "metadata": {
    "collapsed": false
   },
   "outputs": [
    {
     "name": "stderr",
     "output_type": "stream",
     "text": [
      "/usr/local/lib/python2.7/site-packages/ipykernel/__main__.py:6: FutureWarning: sort(columns=....) is deprecated, use sort_values(by=.....)\n",
      "/usr/local/lib/python2.7/site-packages/ipykernel/__main__.py:7: UserWarning: Boolean Series key will be reindexed to match DataFrame index.\n",
      "/usr/local/lib/python2.7/site-packages/ipykernel/__main__.py:8: UserWarning: Boolean Series key will be reindexed to match DataFrame index.\n",
      "/usr/local/lib/python2.7/site-packages/ipykernel/__main__.py:9: UserWarning: Boolean Series key will be reindexed to match DataFrame index.\n",
      "/usr/local/lib/python2.7/site-packages/ipykernel/__main__.py:10: UserWarning: Boolean Series key will be reindexed to match DataFrame index.\n",
      "/usr/local/lib/python2.7/site-packages/ipykernel/__main__.py:18: UserWarning: Boolean Series key will be reindexed to match DataFrame index.\n",
      "/usr/local/lib/python2.7/site-packages/ipykernel/__main__.py:19: UserWarning: Boolean Series key will be reindexed to match DataFrame index.\n",
      "/usr/local/lib/python2.7/site-packages/ipykernel/__main__.py:20: UserWarning: Boolean Series key will be reindexed to match DataFrame index.\n",
      "/usr/local/lib/python2.7/site-packages/ipykernel/__main__.py:21: UserWarning: Boolean Series key will be reindexed to match DataFrame index.\n",
      "/usr/local/lib/python2.7/site-packages/ipykernel/__main__.py:11: UserWarning: Boolean Series key will be reindexed to match DataFrame index.\n",
      "/usr/local/lib/python2.7/site-packages/ipykernel/__main__.py:22: SettingWithCopyWarning: \n",
      "A value is trying to be set on a copy of a slice from a DataFrame\n",
      "\n",
      "See the caveats in the documentation: http://pandas.pydata.org/pandas-docs/stable/indexing.html#indexing-view-versus-copy\n",
      "/usr/local/lib/python2.7/site-packages/ipykernel/__main__.py:25: UserWarning: Boolean Series key will be reindexed to match DataFrame index.\n",
      "/usr/local/lib/python2.7/site-packages/ipykernel/__main__.py:28: UserWarning: Boolean Series key will be reindexed to match DataFrame index.\n",
      "/usr/local/lib/python2.7/site-packages/ipykernel/__main__.py:29: UserWarning: Boolean Series key will be reindexed to match DataFrame index.\n",
      "/usr/local/lib/python2.7/site-packages/ipykernel/__main__.py:30: UserWarning: Boolean Series key will be reindexed to match DataFrame index.\n",
      "/usr/local/lib/python2.7/site-packages/ipykernel/__main__.py:31: UserWarning: Boolean Series key will be reindexed to match DataFrame index.\n",
      "/usr/local/lib/python2.7/site-packages/ipykernel/__main__.py:32: UserWarning: Boolean Series key will be reindexed to match DataFrame index.\n",
      "/usr/local/lib/python2.7/site-packages/ipykernel/__main__.py:33: UserWarning: Boolean Series key will be reindexed to match DataFrame index.\n",
      "/usr/local/lib/python2.7/site-packages/ipykernel/__main__.py:35: SettingWithCopyWarning: \n",
      "A value is trying to be set on a copy of a slice from a DataFrame\n",
      "\n",
      "See the caveats in the documentation: http://pandas.pydata.org/pandas-docs/stable/indexing.html#indexing-view-versus-copy\n",
      "/usr/local/lib/python2.7/site-packages/ipykernel/__main__.py:39: SettingWithCopyWarning: \n",
      "A value is trying to be set on a copy of a slice from a DataFrame\n",
      "\n",
      "See the caveats in the documentation: http://pandas.pydata.org/pandas-docs/stable/indexing.html#indexing-view-versus-copy\n"
     ]
    },
    {
     "data": {
      "text/html": [
       "<div>\n",
       "<table border=\"1\" class=\"dataframe\">\n",
       "  <thead>\n",
       "    <tr style=\"text-align: right;\">\n",
       "      <th></th>\n",
       "      <th>MPG</th>\n",
       "      <th>cylinders</th>\n",
       "      <th>HP</th>\n",
       "      <th>weight</th>\n",
       "    </tr>\n",
       "  </thead>\n",
       "  <tbody>\n",
       "    <tr>\n",
       "      <th>0</th>\n",
       "      <td>good</td>\n",
       "      <td>4</td>\n",
       "      <td>93</td>\n",
       "      <td>weighty</td>\n",
       "    </tr>\n",
       "    <tr>\n",
       "      <th>1</th>\n",
       "      <td>good</td>\n",
       "      <td>8</td>\n",
       "      <td>70</td>\n",
       "      <td>light</td>\n",
       "    </tr>\n",
       "    <tr>\n",
       "      <th>2</th>\n",
       "      <td>good</td>\n",
       "      <td>6</td>\n",
       "      <td>113</td>\n",
       "      <td>medium</td>\n",
       "    </tr>\n",
       "    <tr>\n",
       "      <th>3</th>\n",
       "      <td>bad</td>\n",
       "      <td>6</td>\n",
       "      <td>95</td>\n",
       "      <td>weighty</td>\n",
       "    </tr>\n",
       "    <tr>\n",
       "      <th>4</th>\n",
       "      <td>good</td>\n",
       "      <td>4</td>\n",
       "      <td>115</td>\n",
       "      <td>medium</td>\n",
       "    </tr>\n",
       "  </tbody>\n",
       "</table>\n",
       "</div>"
      ],
      "text/plain": [
       "    MPG  cylinders   HP   weight\n",
       "0  good          4   93  weighty\n",
       "1  good          8   70    light\n",
       "2  good          6  113   medium\n",
       "3   bad          6   95  weighty\n",
       "4  good          4  115   medium"
      ]
     },
     "execution_count": 71,
     "metadata": {},
     "output_type": "execute_result"
    }
   ],
   "source": [
    "df_test = Tree(df,df_test)\n",
    "df_test"
   ]
  },
  {
   "cell_type": "markdown",
   "metadata": {
    "deletable": true,
    "editable": true
   },
   "source": [
    "### Question 3, Predicting burden of disease （40 pts)"
   ]
  },
  {
   "cell_type": "code",
   "execution_count": null,
   "metadata": {
    "collapsed": false,
    "deletable": true,
    "editable": true
   },
   "outputs": [],
   "source": [
    "data=pd.read_csv(\"https://serv.cusp.nyu.edu/classes/ML_2016_Spring/ML_2017/Burden of diarrheal illness by country.csv\")\n",
    "print(\"Here are the first three rows:\")\n",
    "data.iloc[0:3,:]"
   ]
  },
  {
   "cell_type": "raw",
   "metadata": {
    "deletable": true,
    "editable": true
   },
   "source": [
    "### Data dictionary\n",
    "NAME: Burden of diarrheal illness by country\n",
    "SIZE: 130 Countries, 16 Variables\n",
    "\n",
    "VARIABLE DESCRIPTIONS:\n",
    "Country: Country name\n",
    "FrxnPeaceIn10: Fraction of the past ten years in which a country has been at peace \n",
    "ODA4H2OPcptaDol: Per Capita Official Developmental Assistance for water projects\n",
    "RenewResm3PcptaYr: Renewable Water Resources in cubic meters per capita per year\n",
    "SustAccImprWatRur: Fraction of rural population with sustainable access to improved water\n",
    "SustAccImprWatUrb: Fraction of urban population with sustainable access to improved water\n",
    "SustAccImprSanRur: Fraction of rural population with sustainable access to improved sanitation\n",
    "SustAccImprSanUrb: Fraction of urban population with sustainable access to improved sanitation\n",
    "TotHlthExpPctofGDP: Fraction of a country's GDP devoted to health spending\n",
    "GenGovtPctofTotHlthExp: The fraction of total health expenditures for a country which is provided by the government\n",
    "ExtResHlthPctTotExpHlth: The fraction of total health expenditures for a country which is comes from sources external to the country\n",
    "PCptaGovtExpHlthAvgExcRt: Per Capita Government Health Expenditures at the average exchange rate\n",
    "GDPPCptaIntDol: Gross Domestic Product per capita in international dollars\n",
    "AdultLtrcyRate: Adult Literacy rate\n",
    "FemaleLtrcyRate: Female Literacy rate\n",
    "\n",
    "BurdenOfDisease: Our target variable for classification.  The burden of disease due to diarrheal illness, categorized into \"low\", \"medium\", \"high\", and \"awful\" quartiles.  For each country, we have estimates of the number of Disability-Adjusted Life Years lost per 1000 persons per year (DALYs) due to diarrheal illness.  Countries with \"low\" burden of disease have up to 2.75345 DALYs; countries with \"medium\" burden of disease have between 2.75345 and 8.2127 DALYs; countries with \"high\" burden of disease have between 8.2127 and 26.699 DALYs; and countries with \"awful\" burden of diease have more than 26.699 DALYs."
   ]
  },
  {
   "cell_type": "markdown",
   "metadata": {
    "deletable": true,
    "editable": true
   },
   "source": [
    "#### Your goal is to train a decision tree classifier for the attribute “BurdenOfDisease\" using all other variables (except country name) as features using sklearn.tree.DecisionTreeClassifier. http://scikit-learn.org/stable/modules/generated/sklearn.tree.DecisionTreeClassifier.html"
   ]
  },
  {
   "cell_type": "markdown",
   "metadata": {
    "collapsed": true,
    "deletable": true,
    "editable": true
   },
   "source": [
    "a) Please choose a test/train split and choose a hyper-parameter governing model simplicity. For example, the maximum tree depth or maximum number of leaf nodes. Then, fit your decision tree classifier for different values of this parameter and for each such value, record the corresponding AUC score. (10 pts)"
   ]
  },
  {
   "cell_type": "code",
   "execution_count": null,
   "metadata": {
    "collapsed": false
   },
   "outputs": [],
   "source": [
    "from sklearn.cross_validation import train_test_split\n",
    "from sklearn import preprocessing\n",
    "from sklearn.tree import DecisionTreeClassifier as DTC\n",
    "from sklearn.metrics import roc_auc_score as rs\n",
    "import matplotlib.pylab as plt\n",
    "%matplotlib inline\n",
    "from sklearn.externals.six import StringIO  \n",
    "from sklearn import tree\n",
    "from IPython.display import Image  \n",
    "import pydotplus"
   ]
  },
  {
   "cell_type": "code",
   "execution_count": null,
   "metadata": {
    "collapsed": false
   },
   "outputs": [],
   "source": [
    "lb = preprocessing.LabelBinarizer()\n",
    "lb.fit(data.BurdenOfDisease)\n",
    "lb.classes_"
   ]
  },
  {
   "cell_type": "code",
   "execution_count": null,
   "metadata": {
    "collapsed": false
   },
   "outputs": [],
   "source": [
    "data.BurdenOfDisease = lb.transform(data.BurdenOfDisease)\n"
   ]
  },
  {
   "cell_type": "code",
   "execution_count": null,
   "metadata": {
    "collapsed": false
   },
   "outputs": [],
   "source": [
    "# Prepare target variable and feature space:\n",
    "Y=data.loc[:,\"BurdenOfDisease\"]\n",
    "\n",
    "#Get the features space and make dummy variables. \n",
    "X=data.loc[:,\"FrxnPeaceIn10\":\"FemaleLtrcyRate\"]\n",
    "X=pd.get_dummies(X)\n",
    "\n",
    "#a)Split data set to training and testing data:\n",
    "\n",
    "X_train,X_test,Y_train,Y_test = train_test_split(X, Y, test_size=0.2, random_state=999)"
   ]
  },
  {
   "cell_type": "code",
   "execution_count": null,
   "metadata": {
    "collapsed": false
   },
   "outputs": [],
   "source": [
    "#hyper-parameter: the Max Depth\n",
    "real=np.array(Y_test.apply(int))\n",
    "AUC=[]\n",
    "for i in range(1,10,2):    \n",
    "    rf = DTC(max_depth=i)\n",
    "    rf.fit(X_train, Y_train)\n",
    "    pred=rf.predict_proba(X_test)[:,1]\n",
    "    AUC.append(rs(real,pred))"
   ]
  },
  {
   "cell_type": "code",
   "execution_count": null,
   "metadata": {
    "collapsed": false
   },
   "outputs": [],
   "source": [
    "plt.figure(figsize=(7,5))\n",
    "plt.plot(range(1,10,2),AUC)\n",
    "plt.xlabel(\"Max Depth\")\n",
    "plt.ylabel(\"AUC\")\n",
    "plt.title(\"AUC vs Simplicity (max depth)\")\n",
    "#plt.axvline(32,color='r',linestyle='--')\n",
    "plt.xlim(2,10)\n",
    "plt.show()"
   ]
  },
  {
   "cell_type": "code",
   "execution_count": null,
   "metadata": {
    "collapsed": true
   },
   "outputs": [],
   "source": [
    "# Max-depth = 3\n",
    "AUC_IS=[]\n",
    "AUC_OS=[]\n",
    "for i in range(10):\n",
    "    X_train,X_test,Y_train,Y_test=train_test_split(X, Y, test_size=0.2)\n",
    "    rf=DTC(max_depth=3)\n",
    "    rf.fit(X_train,Y_train)\n",
    "    pred=rf.predict(X_test)\n",
    "    AUC_OS.append(rs(np.array(Y_test.apply(int)),pred))\n",
    "    AUC_IS.append(rs(np.array(Y_train.apply(int)),rf.predict(X_train)))"
   ]
  },
  {
   "cell_type": "code",
   "execution_count": null,
   "metadata": {
    "collapsed": false
   },
   "outputs": [],
   "source": [
    "print \"For Max Depth equals to 3:\"\n",
    "print \"IS AUC: {}\".format(np.mean(AUC_IS))\n",
    "print \"OS AUC: {}\".format(np.mean(AUC_OS))"
   ]
  },
  {
   "cell_type": "code",
   "execution_count": null,
   "metadata": {
    "collapsed": true
   },
   "outputs": [],
   "source": [
    "# Max-depth = 5\n",
    "AUC_IS=[]\n",
    "AUC_OS=[]\n",
    "for i in range(10):\n",
    "    X_train,X_test,Y_train,Y_test=train_test_split(X, Y, test_size=0.3)\n",
    "    rf=DTC(max_depth=5)\n",
    "    rf.fit(X_train,Y_train)\n",
    "    pred=rf.predict(X_test)\n",
    "    AUC_OS.append(rs(np.array(Y_test.apply(int)),pred))\n",
    "    AUC_IS.append(rs(np.array(Y_train.apply(int)),rf.predict(X_train)))"
   ]
  },
  {
   "cell_type": "code",
   "execution_count": null,
   "metadata": {
    "collapsed": false
   },
   "outputs": [],
   "source": [
    "print \"For Max Depth equals to 5:\"\n",
    "print \"IS AUC: {}\".format(np.mean(AUC_IS))\n",
    "print \"OS AUC: {}\".format(np.mean(AUC_OS))"
   ]
  },
  {
   "cell_type": "code",
   "execution_count": null,
   "metadata": {
    "collapsed": true
   },
   "outputs": [],
   "source": [
    "# Max-depth = 8\n",
    "AUC_IS=[]\n",
    "AUC_OS=[]\n",
    "for i in range(10):\n",
    "    X_train,X_test,Y_train,Y_test=train_test_split(X, Y, test_size=0.2)\n",
    "    rf=DTC(max_depth=8)\n",
    "    rf.fit(X_train,Y_train)\n",
    "    pred=rf.predict(X_test)\n",
    "    AUC_OS.append(rs(np.array(Y_test.apply(int)),pred))\n",
    "    AUC_IS.append(rs(np.array(Y_train.apply(int)),rf.predict(X_train)))"
   ]
  },
  {
   "cell_type": "code",
   "execution_count": null,
   "metadata": {
    "collapsed": false
   },
   "outputs": [],
   "source": [
    "print \"For Max Depth equals to 8:\"\n",
    "print \"IS AUC: {}\".format(np.mean(AUC_IS))\n",
    "print \"OS AUC: {}\".format(np.mean(AUC_OS))"
   ]
  },
  {
   "cell_type": "markdown",
   "metadata": {},
   "source": [
    "b) Make a plot of performance vs. simplicity for different values of the hyper-parameter chosen in part a). That is, the x-axis should be hyper-parameter value (e.g. tree depth) and the y-axis should be AUC score. (10 pts)"
   ]
  },
  {
   "cell_type": "code",
   "execution_count": null,
   "metadata": {
    "collapsed": true
   },
   "outputs": [],
   "source": [
    "#hyper-parameter: the Max Depth\n",
    "real=np.array(Y_test.apply(int))\n",
    "AUC=[]\n",
    "for i in range(1,10,2):    \n",
    "    rf = DTC(max_depth=i)\n",
    "    rf.fit(X_train, Y_train)\n",
    "    pred=rf.predict_proba(X_test)[:,1]\n",
    "    AUC.append(rs(real,pred))"
   ]
  },
  {
   "cell_type": "code",
   "execution_count": null,
   "metadata": {
    "collapsed": false
   },
   "outputs": [],
   "source": [
    "plt.figure(figsize=(7,5))\n",
    "plt.plot(range(1,10,2),AUC)\n",
    "plt.xlabel(\"Max Depth\")\n",
    "plt.ylabel(\"AUC\")\n",
    "plt.title(\"AUC vs Simplicity (max depth)\")\n",
    "plt.axvline(3,color='r',linestyle='--')\n",
    "plt.axvline(5,color='r',linestyle='--')\n",
    "plt.axvline(8,color='r',linestyle='--')\n",
    "plt.xlim(2,10)\n",
    "plt.show()"
   ]
  },
  {
   "cell_type": "markdown",
   "metadata": {},
   "source": [
    "\n",
    "c) Tune the hyper-parameter you choose in part a) by cross-validation using the training data. You can choose to use package from sklearn or write your own code to do cross-validation by spliting the training data into training and validation data. What is the OS accuracy after tuning the hyper-parameter? (10 pts)"
   ]
  },
  {
   "cell_type": "code",
   "execution_count": null,
   "metadata": {
    "collapsed": true
   },
   "outputs": [],
   "source": [
    "#max_depth=8\n",
    "OS=[]\n",
    "for i in range(10):\n",
    "    X_train,X_test,Y_train,Y_test=train_test_split(X, Y, test_size=0.2)\n",
    "    rf=DTC(max_depth=8)\n",
    "    rf.fit(X_train,Y_train)\n",
    "    OS.append(rf.score(X_test,Y_test))"
   ]
  },
  {
   "cell_type": "code",
   "execution_count": null,
   "metadata": {
    "collapsed": false
   },
   "outputs": [],
   "source": [
    "print ('Average OS Accuracy for 8 max depth: {}'.format(np.mean(OS)))"
   ]
  },
  {
   "cell_type": "markdown",
   "metadata": {},
   "source": [
    "d) Visualize a simple decision tree (e.g. a “shallow” tree, or a tree with\n",
    "few leaf nodes) classifier and report its performance. You can draw\n",
    "the decision tree by hand or use a graphical representation (e.g.\n",
    "http://scikit-learn.org/stable/modules/generated/sklearn.tree.export_graphviz.html), but make sure it is easy to understand (e.g. the\n",
    "features chosen for each split should be clearly labeled in each\n",
    "internal node, as well as the prediction at each leaf node). (10 pts)"
   ]
  },
  {
   "cell_type": "code",
   "execution_count": null,
   "metadata": {
    "collapsed": false
   },
   "outputs": [],
   "source": [
    "Feature_importance=pd.DataFrame([list(X_train.columns),list(rf.feature_importances_)]).T\n",
    "Feature_importance.columns=[\"variables\",\"importance\"]\n",
    "Feature_importance.sort_values(by=\"importance\",ascending=False).iloc[:3,:]"
   ]
  },
  {
   "cell_type": "code",
   "execution_count": null,
   "metadata": {
    "collapsed": true
   },
   "outputs": [],
   "source": [
    "X_train_simple=X_train.loc[:,[\"SustAccImprSanUrb\",\"SustAccImprWatUrb\",\"SustAccImprSanRur\"]]\n",
    "X_test_simple=X_test.loc[:,[\"SustAccImprSanUrb\",\"SustAccImprWatUrb\",\"SustAccImprWatRur\"]]"
   ]
  },
  {
   "cell_type": "code",
   "execution_count": null,
   "metadata": {
    "collapsed": false
   },
   "outputs": [],
   "source": [
    "real=np.array(Y_test.apply(int))\n",
    "rf = DTC(max_depth=4) # Here of course we could remove this limit. But you could have a very \n",
    "                             #big graph for next question.\n",
    "rf.fit(X_train_simple, Y_train)\n",
    "pred=rf.predict_proba(X_test_simple)[:,1]\n",
    "print(\"The AUC score for this simple model with 3 features is : {}\".format(rs(real,pred)))"
   ]
  },
  {
   "cell_type": "code",
   "execution_count": null,
   "metadata": {
    "collapsed": false
   },
   "outputs": [],
   "source": [
    "dot_data = StringIO()  \n",
    "tree.export_graphviz(rf, out_file=dot_data,  \n",
    "                         feature_names=[\"SustAccImprSanUrb\",\"SustAccImprWatUrb\",\"SustAccImprWatRur\"],  \n",
    "                         class_names=[\"awful\", \"high\", \"low\", \"medium\"], \n",
    "                     filled=True, rounded=True, special_characters = True)  \n",
    "graph = pydotplus.graph_from_dot_data(dot_data.getvalue())  \n",
    "Image(graph.create_png())  "
   ]
  },
  {
   "cell_type": "markdown",
   "metadata": {
    "deletable": true,
    "editable": true
   },
   "source": [
    "### Question 4, Fit a random forest to the data from question 3 (20 pts)\n",
    "\n",
    "a) Please use the same test/train split from previous question and feel free to tune the hyper-parameters for Random Forest model using training data. The package from sklearn is here: http://scikit-learn.org/stable/modules/generated/sklearn.ensemble.RandomForestClassifier.html.\n",
    "Then please report your out of sample prediction result and compare this model's performance with 2c). (10 pts)\n",
    "\n"
   ]
  },
  {
   "cell_type": "code",
   "execution_count": null,
   "metadata": {
    "collapsed": true,
    "deletable": true,
    "editable": true
   },
   "outputs": [],
   "source": [
    "from sklearn.ensemble import RandomForestClassifier as RFC\n"
   ]
  },
  {
   "cell_type": "code",
   "execution_count": null,
   "metadata": {
    "collapsed": false
   },
   "outputs": [],
   "source": [
    "rf = RFC(n_estimators=30, n_jobs=-1,max_depth = 8)\n",
    "rf.fit(X_train, Y_train)"
   ]
  },
  {
   "cell_type": "code",
   "execution_count": null,
   "metadata": {
    "collapsed": false
   },
   "outputs": [],
   "source": [
    "pred=rf.predict_proba(X_test)[:,1]\n",
    "print \"OS AUC: {}\".format(rs(np.array(Y_test.apply(int)),pred))"
   ]
  },
  {
   "cell_type": "code",
   "execution_count": null,
   "metadata": {
    "collapsed": false
   },
   "outputs": [],
   "source": [
    "#Practice Three. Let's fix max_depth = 8, try to build trees from 1 to 30 \n",
    "#and take a look the AUC. (n_estimators from range(1,30,2))\n",
    "res=[]\n",
    "for i in range(1,30,2):\n",
    "    rf = RFC(n_estimators=i, n_jobs=4,max_depth = 8)\n",
    "    rf.fit(X_train, Y_train)\n",
    "    pred=rf.predict_proba(X_test)[:,1]\n",
    "    res.append(rs(np.array(Y_test.apply(int)),pred))\n",
    "print \"OS AUC: {}\".format(np.mean(res))"
   ]
  },
  {
   "cell_type": "markdown",
   "metadata": {
    "collapsed": true,
    "deletable": true,
    "editable": true
   },
   "source": [
    "b) Write one paragraph comparing the results from those two models (Random Forest vs Decision Tree) in terms of both accuracy and interpretability. (10 pts)"
   ]
  },
  {
   "cell_type": "markdown",
   "metadata": {
    "collapsed": true,
    "deletable": true,
    "editable": true
   },
   "source": [
    "The average AUC score for Decision Tree from Question 3 is 0.819230769231 for 8 max depth, and 0.956140350877 for Random Forest with the same max depth, which indicate that random forest model has a better accuracy prefomance(17% better). But by using decision tree, we can have a clear plot which can show how the model works for individual data. Random forest, however, since it is a ensemble model, it's really hard to either understand or interprete how it works. "
   ]
  },
  {
   "cell_type": "code",
   "execution_count": null,
   "metadata": {
    "collapsed": true,
    "deletable": true,
    "editable": true
   },
   "outputs": [],
   "source": []
  },
  {
   "cell_type": "code",
   "execution_count": null,
   "metadata": {
    "collapsed": true,
    "deletable": true,
    "editable": true
   },
   "outputs": [],
   "source": []
  }
 ],
 "metadata": {
  "anaconda-cloud": {},
  "celltoolbar": "Raw Cell Format",
  "kernelspec": {
   "display_name": "Python 2",
   "language": "python",
   "name": "python2"
  },
  "language_info": {
   "codemirror_mode": {
    "name": "ipython",
    "version": 2
   },
   "file_extension": ".py",
   "mimetype": "text/x-python",
   "name": "python",
   "nbconvert_exporter": "python",
   "pygments_lexer": "ipython2",
   "version": "2.7.13"
  }
 },
 "nbformat": 4,
 "nbformat_minor": 2
}
