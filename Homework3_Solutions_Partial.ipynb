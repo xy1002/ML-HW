{
 "cells": [
  {
   "cell_type": "markdown",
   "metadata": {},
   "source": [
    "Bayesian Networks (10 points)\n",
    "*** This question is to be solved by hand ***\n",
    "\n",
    "Given the following learned Bayesian network structure explaining the relationships between variables in container shipping data:\n",
    "\n",
    "\n",
    "\n",
    "\n",
    "1)  Which of the following conditional independence relationships hold?  Choose “Independent” or “Dependent” for each (4 points):\n",
    "\n",
    "CI (Shipper Name, Value | F Port)?\t\t\tDependent\n",
    "CI (Shipper Name, Value | Shipping Line)? \t\tIndependent\n",
    "CI (Foreign Port, Commodity | Country)?\t\tIndependent\n",
    "CI (Foreign Port, Commodity | County, Weight)?\tDependent\n",
    "\n",
    "\n",
    "2)  Now consider a smaller dataset with only four discrete attributes (Shipping Line, US Port, Foreign Port, Weight), and the following conditional probability distributions:\n",
    "\n",
    "Shipping Line: CSCO (70%), ASCO (30%)\n",
    "Foreign Port | Shipping Line = CSCO: Yokohama (40%), Vancouver (60%)\n",
    "Foreign Port | Shipping Line = ASCO: Vancouver (100%)\n",
    "US Port | Shipping Line = ASCO: Seattle (100%)\n",
    "US Port | Shipping Line = CSCO: Seattle (10%), Los Angeles (90%)\n",
    "Weight | Shipping Line = ASCO, Foreign Port = Vancouver: Light (30%), Medium (50%), Heavy (20%) \n",
    "Weight | Shipping Line = CSCO, Foreign Port = Vancouver: Light (15%), Medium (70%), Heavy (15%)\n",
    "Weight | Shipping Line = CSCO, Foreign Port = Yokohama: Light (10%), Medium (30%), Heavy (60%)\n",
    "\n",
    "Which of the following packages is most anomalous?  \n",
    "\n",
    "a) A heavy package shipped from Vancouver to Seattle by ASCO\t\n",
    "b) A heavy package shipped from Vancouver to Seattle by CSCO\t\n",
    "c) A heavy package shipped from Yokohama to Los Angeles by CSCO\n",
    "\n",
    "To answer this question, compute the likelihood of each package given the Bayesian Network (lowest likelihood = most anomalous).  You must show your calculations to receive credit.  (6 points)\n",
    "\n",
    "a) Pr = (0.3)(1)(1)(0.2) = .06\n",
    "b) Pr = (0.7)(0.6)(0.1)(0.15) = .0063\n",
    "c) Pr = (0.7)(0.4)(0.9)(0.6) = .1512\n",
    "\n",
    "So package b is most anomalous given the Bayesian Network.\n"
   ]
  },
  {
   "cell_type": "code",
   "execution_count": null,
   "metadata": {
    "collapsed": true
   },
   "outputs": [],
   "source": []
  },
  {
   "cell_type": "markdown",
   "metadata": {},
   "source": [
    "Q2"
   ]
  },
  {
   "cell_type": "code",
   "execution_count": 1,
   "metadata": {
    "collapsed": false
   },
   "outputs": [
    {
     "name": "stderr",
     "output_type": "stream",
     "text": [
      "/home/lingjing/anaconda2/lib/python2.7/site-packages/sklearn/cross_validation.py:44: DeprecationWarning: This module was deprecated in version 0.18 in favor of the model_selection module into which all the refactored classes and functions are moved. Also note that the interface of the new CV iterators are different from that of this module. This module will be removed in 0.20.\n",
      "  \"This module will be removed in 0.20.\", DeprecationWarning)\n"
     ]
    }
   ],
   "source": [
    "import pandas as pd\n",
    "from IPython.display import Image\n",
    "from matplotlib import pyplot as plt\n",
    "import numpy as np\n",
    "import pandas as pd\n",
    "from sklearn.cluster import KMeans\n",
    "from scipy.cluster.hierarchy import fcluster\n",
    "import scipy.cluster.hierarchy as hac\n",
    "from collections import Counter\n",
    "from sklearn.metrics import silhouette_samples, silhouette_score\n",
    "from sklearn.cross_validation import train_test_split\n",
    "from sklearn import mixture\n",
    "from pgmpy.estimators import HillClimbSearch\n",
    "from pgmpy.estimators import BdeuScore, K2Score, BicScore\n",
    "from pgmpy.models import BayesianModel\n",
    "from pgmpy.estimators import MaximumLikelihoodEstimator,BayesianEstimator\n",
    "\n",
    "\n",
    "%matplotlib inline\n",
    "data2=pd.read_csv(\"https://serv.cusp.nyu.edu/classes/ML_2016_Spring/ML_2017/Q2.csv\")\n",
    "from sklearn.cross_validation import train_test_split\n",
    "train,test=train_test_split(data2,random_state=9,test_size=0.4)"
   ]
  },
  {
   "cell_type": "code",
   "execution_count": 2,
   "metadata": {
    "collapsed": false,
    "scrolled": false
   },
   "outputs": [
    {
     "name": "stdout",
     "output_type": "stream",
     "text": [
      "Structure:  [('A', 'C'), ('A', 'B'), ('A', 'D'), ('H', 'A'), ('H', 'G')]\n",
      "CPD of A:\n",
      "+------+------------------+--------+------------------+-------------------+-------------------+-------------------+-------------------+-------------------+-------------------+------------------+-------------------+-----------------+-----------------+\n",
      "| H    | H(0)             | H(1)   | H(2)             | H(3)              | H(4)              | H(5)              | H(6)              | H(7)              | H(8)              | H(9)             | H(10)             | H(11)           | H(12)           |\n",
      "+------+------------------+--------+------------------+-------------------+-------------------+-------------------+-------------------+-------------------+-------------------+------------------+-------------------+-----------------+-----------------+\n",
      "| A(0) | 0.921052631579   | 0.2625 | 0.248414376321   | 0.0197172619048   | 0.000247524752475 | 0.000138657792568 | 0.000132450331126 | 0.000140686550366 | 0.000187265917603 | 0.00045045045045 | 0.000847457627119 | 0.0037037037037 | 0.0161290322581 |\n",
      "+------+------------------+--------+------------------+-------------------+-------------------+-------------------+-------------------+-------------------+-------------------+------------------+-------------------+-----------------+-----------------+\n",
      "| A(1) | 0.00877192982456 | 0.7175 | 0.330866807611   | 0.145461309524    | 0.0324257425743   | 0.000138657792568 | 0.000132450331126 | 0.000140686550366 | 0.000187265917603 | 0.00045045045045 | 0.000847457627119 | 0.0037037037037 | 0.0161290322581 |\n",
      "+------+------------------+--------+------------------+-------------------+-------------------+-------------------+-------------------+-------------------+-------------------+------------------+-------------------+-----------------+-----------------+\n",
      "| A(2) | 0.00877192982456 | 0.0025 | 0.413319238901   | 0.454985119048    | 0.225495049505    | 0.0830560177482   | 0.000132450331126 | 0.000140686550366 | 0.000187265917603 | 0.00045045045045 | 0.000847457627119 | 0.0037037037037 | 0.0161290322581 |\n",
      "+------+------------------+--------+------------------+-------------------+-------------------+-------------------+-------------------+-------------------+-------------------+------------------+-------------------+-----------------+-----------------+\n",
      "| A(3) | 0.00877192982456 | 0.0025 | 0.00105708245243 | 0.377604166667    | 0.437871287129    | 0.252495840266    | 0.134437086093    | 0.000140686550366 | 0.000187265917603 | 0.00045045045045 | 0.000847457627119 | 0.0037037037037 | 0.0161290322581 |\n",
      "+------+------------------+--------+------------------+-------------------+-------------------+-------------------+-------------------+-------------------+-------------------+------------------+-------------------+-----------------+-----------------+\n",
      "| A(4) | 0.00877192982456 | 0.0025 | 0.00105708245243 | 0.000372023809524 | 0.302722772277    | 0.443566278425    | 0.354834437086    | 0.186691052335    | 0.000187265917603 | 0.00045045045045 | 0.000847457627119 | 0.0037037037037 | 0.0161290322581 |\n",
      "+------+------------------+--------+------------------+-------------------+-------------------+-------------------+-------------------+-------------------+-------------------+------------------+-------------------+-----------------+-----------------+\n",
      "| A(5) | 0.00877192982456 | 0.0025 | 0.00105708245243 | 0.000372023809524 | 0.000247524752475 | 0.220049916805    | 0.38582781457     | 0.420793472144    | 0.311797752809    | 0.00045045045045 | 0.000847457627119 | 0.0037037037037 | 0.0161290322581 |\n",
      "+------+------------------+--------+------------------+-------------------+-------------------+-------------------+-------------------+-------------------+-------------------+------------------+-------------------+-----------------+-----------------+\n",
      "| A(6) | 0.00877192982456 | 0.0025 | 0.00105708245243 | 0.000372023809524 | 0.000247524752475 | 0.000138657792568 | 0.124105960265    | 0.325689364097    | 0.457865168539    | 0.398648648649   | 0.000847457627119 | 0.0037037037037 | 0.0161290322581 |\n",
      "+------+------------------+--------+------------------+-------------------+-------------------+-------------------+-------------------+-------------------+-------------------+------------------+-------------------+-----------------+-----------------+\n",
      "| A(7) | 0.00877192982456 | 0.0025 | 0.00105708245243 | 0.000372023809524 | 0.000247524752475 | 0.000138657792568 | 0.000132450331126 | 0.0659819921216   | 0.194943820225    | 0.492342342342   | 0.419491525424    | 0.0037037037037 | 0.0161290322581 |\n",
      "+------+------------------+--------+------------------+-------------------+-------------------+-------------------+-------------------+-------------------+-------------------+------------------+-------------------+-----------------+-----------------+\n",
      "| A(8) | 0.00877192982456 | 0.0025 | 0.00105708245243 | 0.000372023809524 | 0.000247524752475 | 0.000138657792568 | 0.000132450331126 | 0.000140686550366 | 0.0342696629213   | 0.105855855856   | 0.485593220339    | 0.581481481481  | 0.0161290322581 |\n",
      "+------+------------------+--------+------------------+-------------------+-------------------+-------------------+-------------------+-------------------+-------------------+------------------+-------------------+-----------------+-----------------+\n",
      "| A(9) | 0.00877192982456 | 0.0025 | 0.00105708245243 | 0.000372023809524 | 0.000247524752475 | 0.000138657792568 | 0.000132450331126 | 0.000140686550366 | 0.000187265917603 | 0.00045045045045 | 0.0889830508475   | 0.388888888889  | 0.854838709677  |\n",
      "+------+------------------+--------+------------------+-------------------+-------------------+-------------------+-------------------+-------------------+-------------------+------------------+-------------------+-----------------+-----------------+\n",
      "CPD of C:\n",
      "+------+------------------+------------------+-----------------+----------------+----------------+----------------+----------------+-----------------+------------------+----------------+\n",
      "| A    | A(0)             | A(1)             | A(2)            | A(3)           | A(4)           | A(5)           | A(6)           | A(7)            | A(8)             | A(9)           |\n",
      "+------+------------------+------------------+-----------------+----------------+----------------+----------------+----------------+-----------------+------------------+----------------+\n",
      "| C(0) | 0.982905982906   | 0.808429118774   | 0.690179806362  | 0.550423402617 | 0.370313302517 | 0.25011820331  | 0.122945430638 | 0.0767085076709 | 0.00374531835206 | 0.015873015873 |\n",
      "+------+------------------+------------------+-----------------+----------------+----------------+----------------+----------------+-----------------+------------------+----------------+\n",
      "| C(1) | 0.00854700854701 | 0.187739463602   | 0.26694329184   | 0.291762894534 | 0.388803287108 | 0.389125295508 | 0.375410913872 | 0.361227336123  | 0.228464419476   | 0.015873015873 |\n",
      "+------+------------------+------------------+-----------------+----------------+----------------+----------------+----------------+-----------------+------------------+----------------+\n",
      "| C(2) | 0.00854700854701 | 0.00383141762452 | 0.0428769017981 | 0.157813702848 | 0.240883410375 | 0.360756501182 | 0.50164365549  | 0.562064156206  | 0.767790262172   | 0.968253968254 |\n",
      "+------+------------------+------------------+-----------------+----------------+----------------+----------------+----------------+-----------------+------------------+----------------+\n",
      "CPD of B:\n",
      "+------+------------------+------------------+-----------------+----------------+----------------+----------------+----------------+-----------------+------------------+----------------+\n",
      "| A    | A(0)             | A(1)             | A(2)            | A(3)           | A(4)           | A(5)           | A(6)           | A(7)            | A(8)             | A(9)           |\n",
      "+------+------------------+------------------+-----------------+----------------+----------------+----------------+----------------+-----------------+------------------+----------------+\n",
      "| B(0) | 0.982905982906   | 0.854406130268   | 0.673582295989  | 0.504234026174 | 0.398048279404 | 0.247281323877 | 0.142669296515 | 0.0599721059972 | 0.00374531835206 | 0.015873015873 |\n",
      "+------+------------------+------------------+-----------------+----------------+----------------+----------------+----------------+-----------------+------------------+----------------+\n",
      "| B(1) | 0.00854700854701 | 0.141762452107   | 0.258644536653  | 0.342571208622 | 0.364149974319 | 0.363593380615 | 0.367521367521 | 0.260808926081  | 0.183520599251   | 0.015873015873 |\n",
      "+------+------------------+------------------+-----------------+----------------+----------------+----------------+----------------+-----------------+------------------+----------------+\n",
      "| B(2) | 0.00854700854701 | 0.00383141762452 | 0.0677731673582 | 0.153194765204 | 0.237801746276 | 0.389125295508 | 0.489809335963 | 0.679218967922  | 0.812734082397   | 0.968253968254 |\n",
      "+------+------------------+------------------+-----------------+----------------+----------------+----------------+----------------+-----------------+------------------+----------------+\n",
      "CPD of D:\n",
      "+------+------------------+------------------+-----------------+----------------+----------------+----------------+----------------+----------------+------------------+----------------+\n",
      "| A    | A(0)             | A(1)             | A(2)            | A(3)           | A(4)           | A(5)           | A(6)           | A(7)           | A(8)             | A(9)           |\n",
      "+------+------------------+------------------+-----------------+----------------+----------------+----------------+----------------+----------------+------------------+----------------+\n",
      "| D(0) | 0.982905982906   | 0.785440613027   | 0.623789764869  | 0.485758275597 | 0.308680020544 | 0.284160756501 | 0.170282708744 | 0.068340306834 | 0.00374531835206 | 0.015873015873 |\n",
      "+------+------------------+------------------+-----------------+----------------+----------------+----------------+----------------+----------------+------------------+----------------+\n",
      "| D(1) | 0.00854700854701 | 0.210727969349   | 0.308437067773  | 0.370284834488 | 0.401129943503 | 0.372104018913 | 0.316239316239 | 0.285913528591 | 0.138576779026   | 0.015873015873 |\n",
      "+------+------------------+------------------+-----------------+----------------+----------------+----------------+----------------+----------------+------------------+----------------+\n",
      "| D(2) | 0.00854700854701 | 0.00383141762452 | 0.0677731673582 | 0.143956889915 | 0.290190035953 | 0.343735224586 | 0.513477975016 | 0.645746164575 | 0.857677902622   | 0.968253968254 |\n",
      "+------+------------------+------------------+-----------------+----------------+----------------+----------------+----------------+----------------+------------------+----------------+\n",
      "CPD of G:\n",
      "+------+-----------------+------------------+----------------+-----------------+----------------+----------------+----------------+----------------+----------------+-----------------+-----------------+-----------------+-----------------+\n",
      "| H    | H(0)            | H(1)             | H(2)           | H(3)            | H(4)           | H(5)           | H(6)           | H(7)           | H(8)           | H(9)            | H(10)           | H(11)           | H(12)           |\n",
      "+------+-----------------+------------------+----------------+-----------------+----------------+----------------+----------------+----------------+----------------+-----------------+-----------------+-----------------+-----------------+\n",
      "| G(0) | 0.941520467836  | 0.853333333333   | 0.553206483439 | 0.610615079365  | 0.489933993399 | 0.447494915881 | 0.355143487859 | 0.230913524667 | 0.146691635456 | 0.0366366366366 | 0.0689265536723 | 0.0123456790123 | 0.0537634408602 |\n",
      "+------+-----------------+------------------+----------------+-----------------+----------------+----------------+----------------+----------------+----------------+-----------------+-----------------+-----------------+-----------------+\n",
      "| G(1) | 0.0292397660819 | 0.138333333333   | 0.333333333333 | 0.301091269841  | 0.341914191419 | 0.350157145498 | 0.30348785872  | 0.366253986119 | 0.307365792759 | 0.329429429429  | 0.245197740113  | 0.204938271605  | 0.0537634408602 |\n",
      "+------+-----------------+------------------+----------------+-----------------+----------------+----------------+----------------+----------------+----------------+-----------------+-----------------+-----------------+-----------------+\n",
      "| G(2) | 0.0292397660819 | 0.00833333333333 | 0.113460183228 | 0.0882936507937 | 0.168151815182 | 0.202347938621 | 0.341368653422 | 0.402832489214 | 0.545942571785 | 0.633933933934  | 0.685875706215  | 0.782716049383  | 0.89247311828   |\n",
      "+------+-----------------+------------------+----------------+-----------------+----------------+----------------+----------------+----------------+----------------+-----------------+-----------------+-----------------+-----------------+\n",
      "CPD of H:\n",
      "+-------+------------+\n",
      "| H(0)  | 0.00291337 |\n",
      "+-------+------------+\n",
      "| H(1)  | 0.0102223  |\n",
      "+-------+------------+\n",
      "| H(2)  | 0.0241758  |\n",
      "+-------+------------+\n",
      "| H(3)  | 0.0686941  |\n",
      "+-------+------------+\n",
      "| H(4)  | 0.103246   |\n",
      "+-------+------------+\n",
      "| H(5)  | 0.184309   |\n",
      "+-------+------------+\n",
      "| H(6)  | 0.192947   |\n",
      "+-------+------------+\n",
      "| H(7)  | 0.181651   |\n",
      "+-------+------------+\n",
      "| H(8)  | 0.136468   |\n",
      "+-------+------------+\n",
      "| H(9)  | 0.056734   |\n",
      "+-------+------------+\n",
      "| H(10) | 0.0301559  |\n",
      "+-------+------------+\n",
      "| H(11) | 0.00690008 |\n",
      "+-------+------------+\n",
      "| H(12) | 0.00158446 |\n",
      "+-------+------------+\n",
      "(A _|_ G | H)\n",
      "(A _|_ G | H, C)\n",
      "(A _|_ G | H, B)\n",
      "(A _|_ G | H, D)\n",
      "(A _|_ G | H, C, B)\n",
      "(A _|_ G | H, C, D)\n",
      "(A _|_ G | H, B, D)\n",
      "(A _|_ G | H, C, B, D)\n",
      "(C _|_ H, B, D, G | A)\n",
      "(C _|_ G | H)\n",
      "(C _|_ B, D, G | A, H)\n",
      "(C _|_ H, D, G | A, B)\n",
      "(C _|_ H, B, G | A, D)\n",
      "(C _|_ H, B, D | A, G)\n",
      "(C _|_ G | H, B)\n",
      "(C _|_ G | H, D)\n",
      "(C _|_ D, G | A, H, B)\n",
      "(C _|_ B, G | A, H, D)\n",
      "(C _|_ B, D | A, H, G)\n",
      "(C _|_ H, G | A, B, D)\n",
      "(C _|_ H, D | A, B, G)\n",
      "(C _|_ H, B | A, D, G)\n",
      "(C _|_ G | H, B, D)\n",
      "(C _|_ G | A, H, B, D)\n",
      "(C _|_ D | A, H, B, G)\n",
      "(C _|_ B | A, H, D, G)\n",
      "(C _|_ H | A, B, D, G)\n",
      "(B _|_ H, C, D, G | A)\n",
      "(B _|_ G | H)\n",
      "(B _|_ C, D, G | A, H)\n",
      "(B _|_ H, D, G | A, C)\n",
      "(B _|_ H, C, G | A, D)\n",
      "(B _|_ H, C, D | A, G)\n",
      "(B _|_ G | H, C)\n",
      "(B _|_ G | H, D)\n",
      "(B _|_ D, G | A, H, C)\n",
      "(B _|_ C, G | A, H, D)\n",
      "(B _|_ C, D | A, H, G)\n",
      "(B _|_ H, G | A, C, D)\n",
      "(B _|_ H, D | A, C, G)\n",
      "(B _|_ H, C | A, D, G)\n",
      "(B _|_ G | H, C, D)\n",
      "(B _|_ G | A, H, C, D)\n",
      "(B _|_ D | A, H, C, G)\n",
      "(B _|_ C | A, H, D, G)\n",
      "(B _|_ H | A, C, D, G)\n",
      "(D _|_ H, C, B, G | A)\n",
      "(D _|_ G | H)\n",
      "(D _|_ C, B, G | A, H)\n",
      "(D _|_ H, B, G | A, C)\n",
      "(D _|_ H, C, G | A, B)\n",
      "(D _|_ H, C, B | A, G)\n",
      "(D _|_ G | H, C)\n",
      "(D _|_ G | H, B)\n",
      "(D _|_ B, G | A, H, C)\n",
      "(D _|_ C, G | A, H, B)\n",
      "(D _|_ C, B | A, H, G)\n",
      "(D _|_ H, G | A, C, B)\n",
      "(D _|_ H, B | A, C, G)\n",
      "(D _|_ H, C | A, B, G)\n",
      "(D _|_ G | H, C, B)\n",
      "(D _|_ G | A, H, C, B)\n",
      "(D _|_ B | A, H, C, G)\n",
      "(D _|_ C | A, H, B, G)\n",
      "(D _|_ H | A, C, B, G)\n",
      "(G _|_ C, B, D | A)\n",
      "(G _|_ A, C, B, D | H)\n",
      "(G _|_ C, B, D | A, H)\n",
      "(G _|_ B, D | A, C)\n",
      "(G _|_ C, D | A, B)\n",
      "(G _|_ C, B | A, D)\n",
      "(G _|_ A, B, D | H, C)\n",
      "(G _|_ A, C, D | H, B)\n",
      "(G _|_ A, C, B | H, D)\n",
      "(G _|_ B, D | A, H, C)\n",
      "(G _|_ C, D | A, H, B)\n",
      "(G _|_ C, B | A, H, D)\n",
      "(G _|_ D | A, C, B)\n",
      "(G _|_ B | A, C, D)\n",
      "(G _|_ C | A, B, D)\n",
      "(G _|_ A, D | H, C, B)\n",
      "(G _|_ A, B | H, C, D)\n",
      "(G _|_ A, C | H, B, D)\n",
      "(G _|_ D | A, H, C, B)\n",
      "(G _|_ B | A, H, C, D)\n",
      "(G _|_ C | A, H, B, D)\n",
      "(G _|_ A | H, C, B, D)\n",
      "(H _|_ C, B, D | A)\n",
      "(H _|_ B, D | A, C)\n",
      "(H _|_ C, D | A, B)\n",
      "(H _|_ C, B | A, D)\n",
      "(H _|_ C, B, D | A, G)\n",
      "(H _|_ D | A, C, B)\n",
      "(H _|_ B | A, C, D)\n",
      "(H _|_ B, D | A, C, G)\n",
      "(H _|_ C | A, B, D)\n",
      "(H _|_ C, D | A, B, G)\n",
      "(H _|_ C, B | A, D, G)\n",
      "(H _|_ D | A, C, B, G)\n",
      "(H _|_ B | A, C, D, G)\n",
      "(H _|_ C | A, B, D, G)\n"
     ]
    }
   ],
   "source": [
    "#a) Use the training data to select the best structure you want to use for Bayesian Network Learning. \n",
    "#Please use Hill Climbing with BIC score metric. (10pts)\n",
    "\n",
    "hc = HillClimbSearch(train, scoring_method=BicScore(train))\n",
    "best_model = hc.estimate()\n",
    "print \"Structure: \",(best_model.edges())\n",
    "\n",
    "#b) Use Bayesian Estimator to estimate the CPDs for your model and visulize the network with CPDs. (15pts)   \n",
    "\n",
    "# Defining the model\n",
    "model = BayesianModel(best_model.edges())\n",
    "\n",
    "# Learing CPDs using Bayesian Estimators\n",
    "model.fit(train, estimator=BayesianEstimator)\n",
    "for cpd in model.get_cpds():\n",
    "    print(\"CPD of {variable}:\".format(variable=cpd.variable))\n",
    "    print(cpd)\n",
    "print model.get_independencies()"
   ]
  },
  {
   "cell_type": "code",
   "execution_count": 3,
   "metadata": {
    "collapsed": false
   },
   "outputs": [
    {
     "name": "stdout",
     "output_type": "stream",
     "text": [
      "0.487\n"
     ]
    }
   ],
   "source": [
    "#c) Use the model to predict \"A\" using the testing dataset. Report the OS prediction accuracy. (10pts)\n",
    "\n",
    "test.index=range(len(test))\n",
    "predict_data = test.copy()\n",
    "predict_data.drop('A', axis=1, inplace=True)\n",
    "predict_data.drop('E', axis=1, inplace=True)\n",
    "predict_data.drop('F', axis=1, inplace=True)\n",
    "\n",
    "y_pred = model.predict(predict_data)\n",
    "print (y_pred[\"A\"]==test.A).sum()*1.0/len(test)"
   ]
  },
  {
   "cell_type": "markdown",
   "metadata": {},
   "source": [
    "# Q3. "
   ]
  },
  {
   "cell_type": "code",
   "execution_count": 4,
   "metadata": {
    "collapsed": true
   },
   "outputs": [],
   "source": [
    "data3 = pd.read_csv(\"https://serv.cusp.nyu.edu/classes/ML_2016_Spring/ML_2017/Q3.csv\")\n",
    "data4 = pd.read_csv(\"https://serv.cusp.nyu.edu/classes/ML_2016_Spring/ML_2017/Q3_2.csv\")"
   ]
  },
  {
   "cell_type": "code",
   "execution_count": 5,
   "metadata": {
    "collapsed": false
   },
   "outputs": [
    {
     "data": {
      "image/png": "[encoded data removed]",
      "text/plain": [
       "<matplotlib.figure.Figure at 0x7fc88001d7d0>"
      ]
     },
     "metadata": {},
     "output_type": "display_data"
    }
   ],
   "source": [
    "#a)\n",
    "## columns 9:33 in data3 is hour_0 .. hour_23\n",
    "X3_hour = data3.iloc[:,9:33]\n",
    "\n",
    "km = KMeans(random_state=324, n_clusters=3)\n",
    "label3_hour = km.fit(X3_hour).labels_\n",
    "\n",
    "res3_hour = X3_hour.copy()\n",
    "res3_hour['cluster'] = label3_hour\n",
    "plot3_hour = res3_hour.groupby('cluster').mean().transpose()\n",
    "plot3_hour\n",
    "\n",
    "fig, ax = plt.subplots(figsize=(20,5))\n",
    "plot3_hour.plot(ax=ax, grid=True, xticks=range(24), ylim=(0,0.15))\n",
    "ax.set_xlabel('Hour of Day', fontsize=20)\n",
    "ax.set_ylabel('Mean Proportion', fontsize=20)\n",
    "plt.show()"
   ]
  },
  {
   "cell_type": "markdown",
   "metadata": {},
   "source": [
    "b)\n",
    "\n",
    "Cluster 0 describes 30% of crimes; its rates are highest during the work day and low at night.  \n",
    "\n",
    "Cluster 1 describes 52% of crimes; its rates are relatively flat over the course of the day, but highest at night and lowest in the mornings.\n",
    "\n",
    "Cluster 2 (describing 18% of crimes) is sharply peaked at dinnertime with a smaller peak at lunchtime."
   ]
  },
  {
   "cell_type": "code",
   "execution_count": null,
   "metadata": {
    "collapsed": true
   },
   "outputs": [],
   "source": []
  },
  {
   "cell_type": "markdown",
   "metadata": {},
   "source": [
    "C)"
   ]
  },
  {
   "cell_type": "code",
   "execution_count": 6,
   "metadata": {
    "collapsed": false
   },
   "outputs": [
    {
     "name": "stdout",
     "output_type": "stream",
     "text": [
      "Counter({'BATTERY': 10, 'ROBBERY': 9, 'CRIMINAL DAMAGE': 5, 'ASSAULT': 4, 'WEAPONS VIOLATION': 3, 'NARCOTICS': 3, 'MOTOR VEHICLE THEFT': 3, 'CRIM SEXUAL ASSAULT': 2, 'BURGLARY': 2, 'SEX OFFENSE': 2, 'HOMICIDE': 1, 'DECEPTIVE PRACTICE': 1, 'ARSON': 1, 'LIQUOR LAW VIOLATION': 1, 'STALKING': 1, 'CRIMINAL TRESPASS': 1, 'INTERFERENCE WITH PUBLIC OFFICER': 1, 'OTHER OFFENSE': 1, 'OFFENSE INVOLVING CHILDREN': 1, 'PROSTITUTION': 1})\n"
     ]
    }
   ],
   "source": [
    "from collections import Counter\n",
    "data3['label'] = label3_hour\n",
    "list_crime = data3['crime_type'][data3['label']==0].apply(lambda x: x.split(\":\")[0])\n",
    "print Counter(list_crime)"
   ]
  },
  {
   "cell_type": "code",
   "execution_count": 7,
   "metadata": {
    "collapsed": false
   },
   "outputs": [
    {
     "name": "stdout",
     "output_type": "stream",
     "text": [
      "Counter({'DECEPTIVE PRACTICE': 8, 'OTHER OFFENSE': 2, 'BATTERY': 1, 'ASSAULT': 1, 'PUBLIC PEACE VIOLATION': 1})\n"
     ]
    }
   ],
   "source": [
    "list_crime = data3['crime_type'][data3['label']==1].apply(lambda x: x.split(\":\")[0])\n",
    "print Counter(list_crime)\n"
   ]
  },
  {
   "cell_type": "code",
   "execution_count": 8,
   "metadata": {
    "collapsed": false
   },
   "outputs": [
    {
     "name": "stdout",
     "output_type": "stream",
     "text": [
      "Counter({'OTHER OFFENSE': 14, 'NARCOTICS': 12, 'THEFT': 7, 'DECEPTIVE PRACTICE': 3, 'CRIMINAL TRESPASS': 3, 'OFFENSE INVOLVING CHILDREN': 3, 'BATTERY': 2, 'ASSAULT': 2, 'BURGLARY': 2, 'WEAPONS VIOLATION': 1, 'PUBLIC PEACE VIOLATION': 1, 'INTERFERENCE WITH PUBLIC OFFICER': 1, 'SEX OFFENSE': 1, 'GAMBLING': 1})\n"
     ]
    }
   ],
   "source": [
    "list_crime = data3['crime_type'][data3['label']==2].apply(lambda x: x.split(\":\")[0])\n",
    "print Counter(list_crime)"
   ]
  },
  {
   "cell_type": "code",
   "execution_count": 9,
   "metadata": {
    "collapsed": true
   },
   "outputs": [],
   "source": [
    "#Battery and robbery are mainly in the first cluster\n",
    "#deceptive practice is mainly in the second cluster\n",
    "#narotics and other office are mainly in the third cluster"
   ]
  },
  {
   "cell_type": "code",
   "execution_count": null,
   "metadata": {
    "collapsed": true
   },
   "outputs": [],
   "source": []
  },
  {
   "cell_type": "markdown",
   "metadata": {},
   "source": [
    "D)"
   ]
  },
  {
   "cell_type": "code",
   "execution_count": 10,
   "metadata": {
    "collapsed": false
   },
   "outputs": [
    {
     "data": {
      "image/png": "[encoded data removed]",
      "text/plain": [
       "<matplotlib.figure.Figure at 0x7fc83789a610>"
      ]
     },
     "metadata": {},
     "output_type": "display_data"
    }
   ],
   "source": [
    "fig, ax = plt.subplots(figsize=(10,5))\n",
    "\n",
    "## columns 2:9 in data3 is day_Sun .. day_Sat\n",
    "res3_day = data3.iloc[:,2:9]\n",
    "res3_day['cluster'] = label3_hour\n",
    "res3_day.groupby('cluster').mean().transpose().plot(ax=ax, grid=True, xticks=range(7), ylim=(0.05,0.2))\n",
    "ax.set_xlabel('Day of Week', fontsize=20)\n",
    "ax.set_ylabel('Mean Proportion', fontsize=20)\n",
    "plt.show()"
   ]
  },
  {
   "cell_type": "code",
   "execution_count": null,
   "metadata": {
    "collapsed": true
   },
   "outputs": [],
   "source": []
  },
  {
   "cell_type": "markdown",
   "metadata": {},
   "source": [
    "e)"
   ]
  },
  {
   "cell_type": "markdown",
   "metadata": {
    "collapsed": true
   },
   "source": [
    "Not included. "
   ]
  },
  {
   "cell_type": "code",
   "execution_count": null,
   "metadata": {
    "collapsed": true
   },
   "outputs": [],
   "source": []
  },
  {
   "cell_type": "markdown",
   "metadata": {},
   "source": [
    "f)\n"
   ]
  },
  {
   "cell_type": "code",
   "execution_count": 11,
   "metadata": {
    "collapsed": false
   },
   "outputs": [
    {
     "name": "stdout",
     "output_type": "stream",
     "text": [
      "P2    13\n",
      "Name: Category, dtype: int64\n",
      "P2     42\n",
      "P1P     9\n",
      "P1V     2\n",
      "Name: Category, dtype: int64\n",
      "P2     25\n",
      "P1V    22\n",
      "P1P     6\n",
      "Name: Category, dtype: int64\n"
     ]
    }
   ],
   "source": [
    "### f) How well do the three groups formed by clustering hour-of-day trends correspond to the FBI’s division between P1V, P1P, and P2 crimes?\n",
    "\n",
    "## FBI’s division in cluster 1\n",
    "print data3.iloc[label3_hour == 1, 1].value_counts()\n",
    "\n",
    "## FBI’s division in cluster 2\n",
    "print data3.iloc[label3_hour == 2, 1].value_counts()\n",
    "\n",
    "## FBI’s division in cluster 0\n",
    "print data3.iloc[label3_hour == 0, 1].value_counts()"
   ]
  },
  {
   "cell_type": "markdown",
   "metadata": {},
   "source": [
    "[('P2', 29), ('P1V', 22), ('P1P', 6)]\n",
    "[('P2', 10)]\n",
    "[('P2', 41), ('P1P', 9), ('P1V', 2)]"
   ]
  },
  {
   "cell_type": "code",
   "execution_count": 12,
   "metadata": {
    "collapsed": false
   },
   "outputs": [
    {
     "name": "stdout",
     "output_type": "stream",
     "text": [
      "K means \n",
      "[0 0 0 2 0 0 1 2 0 2 0 0 0 0 2 0 0 0 0 2 0 0 2 0 2 0 0 0 0 0 0 0 2 2 2 0 1\n",
      " 1 1 2 2 1 1 1 1 1 0 0 2 0 0 0 0 0 0 0 2 2 2 2 2 0 2 2 0 2 2 2 0 2 2 2 2 0\n",
      " 2 2 2 2 2 2 2 2 2 2 0 2 0 1 2 2 0 2 0 2 2 0 0 0 0 0 0 0 0 0 0 0 2 0 2 2 2\n",
      " 2 2 2 2 0 0 0 2]\n",
      "K means \n",
      "[0 0 0 2 0 0 1 2 0 2 0 0 0 0 2 0 0 0 0 2 0 0 2 0 2 0 0 0 0 0 0 0 2 2 2 0 1\n",
      " 1 1 2 2 1 1 1 1 1 0 0 2 0 0 0 0 0 0 0 2 2 2 2 2 0 2 2 0 2 2 2 0 2 2 2 2 0\n",
      " 2 2 2 2 2 2 2 2 2 2 0 2 0 1 2 2 0 2 0 2 2 0 0 0 0 0 0 0 0 0 0 0 2 0 2 2 2\n",
      " 2 2 2 2 0 0 0 2]\n",
      "[('P2', 29), ('P1V', 22), ('P1P', 6)]\n",
      "[('P2', 10)]\n",
      "[('P2', 41), ('P1P', 9), ('P1V', 2)]\n"
     ]
    },
    {
     "name": "stderr",
     "output_type": "stream",
     "text": [
      "/home/lingjing/anaconda2/lib/python2.7/site-packages/ipykernel/__main__.py:15: SettingWithCopyWarning: \n",
      "A value is trying to be set on a copy of a slice from a DataFrame.\n",
      "Try using .loc[row_indexer,col_indexer] = value instead\n",
      "\n",
      "See the caveats in the documentation: http://pandas.pydata.org/pandas-docs/stable/indexing.html#indexing-view-versus-copy\n"
     ]
    }
   ],
   "source": [
    "hours = filter(lambda col: 'hour' in col, data3.columns)\n",
    "data3hours = data3[hours]\n",
    "data3hours.head(3)\n",
    "# Cluster the data with K means into 3 clusters\n",
    "km=KMeans(random_state = 908, n_clusters = 3)\n",
    "kmeansclusters = km.fit(data3hours)\n",
    "print \"K means \\n\", kmeansclusters.labels_\n",
    "# Cluster the data with K means into 3 clusters\n",
    "km=KMeans(random_state = 908, n_clusters = 3)\n",
    "kmeansclusters = km.fit(data3hours)\n",
    "print \"K means \\n\", kmeansclusters.labels_\n",
    "meanscluster = pd.DataFrame(kmeansclusters.cluster_centers_.transpose(), columns = ['cluster0', 'cluster1', 'cluster2'])\n",
    "\n",
    "FBIdiv = data3[['Category']]\n",
    "FBIdiv['cluster'] = kmeansclusters.labels_\n",
    "\n",
    "FBIdiv.head(3)\n",
    "\n",
    "grouped = FBIdiv.groupby(['cluster']).aggregate(lambda x: tuple(x))\n",
    "grouped = grouped.reset_index()\n",
    "\n",
    "grouped\n",
    "\n",
    "# Cluster 0\n",
    "print sorted(zip(Counter(grouped.iloc[0]['Category']).keys(), Counter(grouped.iloc[0]['Category']).values()), \n",
    "             key = lambda x: x[1], reverse = True)\n",
    "\n",
    "# Cluster 1\n",
    "print sorted(zip(Counter(grouped.iloc[1]['Category']).keys(), Counter(grouped.iloc[1]['Category']).values()), \n",
    "             key = lambda x: x[1], reverse = True)\n",
    "\n",
    "# Cluster 2\n",
    "print sorted(zip(Counter(grouped.iloc[2]['Category']).keys(), Counter(grouped.iloc[2]['Category']).values()), \n",
    "             key = lambda x: x[1], reverse = True)"
   ]
  },
  {
   "cell_type": "markdown",
   "metadata": {},
   "source": [
    "g)"
   ]
  },
  {
   "cell_type": "code",
   "execution_count": 13,
   "metadata": {
    "collapsed": false
   },
   "outputs": [
    {
     "name": "stdout",
     "output_type": "stream",
     "text": [
      "For n_clusters = 2, the average silhouette_score is :0.23597275346\n",
      "For n_clusters = 3, the average silhouette_score is :0.225079941772\n",
      "For n_clusters = 4, the average silhouette_score is :0.222938839457\n",
      "For n_clusters = 5, the average silhouette_score is :0.230693060456\n",
      "For n_clusters = 6, the average silhouette_score is :0.170551534318\n",
      "For n_clusters = 7, the average silhouette_score is :0.168162084616\n",
      "For n_clusters = 8, the average silhouette_score is :0.1675616526\n",
      "Number of elements in cluster 0 : 4\n",
      "Number of elements in cluster 1 : 56\n",
      "Number of elements in cluster 2 : 2\n",
      "Number of elements in cluster 3 : 13\n",
      "Number of elements in cluster 4 : 44\n",
      "Number of elements in cluster 0 : 62\n",
      "Number of elements in cluster 1 : 57\n",
      "For n_clusters = 2, the average silhouette_score is :0.322075843221\n",
      "For n_clusters = 3, the average silhouette_score is :0.242871052851\n",
      "For n_clusters = 4, the average silhouette_score is :0.224057574891\n",
      "For n_clusters = 5, the average silhouette_score is :0.168519404431\n",
      "For n_clusters = 6, the average silhouette_score is :0.144548375649\n",
      "For n_clusters = 7, the average silhouette_score is :0.130988284974\n",
      "For n_clusters = 8, the average silhouette_score is :0.128901851583\n",
      "Number of elements in cluster 0 : 28\n",
      "Number of elements in cluster 1 : 91\n",
      "For n_clusters = 2, the average silhouette_score is :0.637764808067\n",
      "For n_clusters = 3, the average silhouette_score is :0.556847738297\n",
      "For n_clusters = 4, the average silhouette_score is :0.40557775076\n",
      "For n_clusters = 5, the average silhouette_score is :0.387703818875\n",
      "For n_clusters = 6, the average silhouette_score is :0.390076195102\n",
      "For n_clusters = 7, the average silhouette_score is :0.346218448204\n",
      "For n_clusters = 8, the average silhouette_score is :0.328998157644\n",
      "Number of elements in cluster 1 : 118\n",
      "Number of elements in cluster 2 : 1\n",
      "For n_clusters = 2, the average silhouette_score is :0.610064611355\n",
      "For n_clusters = 3, the average silhouette_score is :0.172687181466\n",
      "For n_clusters = 4, the average silhouette_score is :0.192151693748\n",
      "For n_clusters = 5, the average silhouette_score is :0.150252078225\n",
      "For n_clusters = 6, the average silhouette_score is :0.152296815722\n",
      "For n_clusters = 7, the average silhouette_score is :0.149262676161\n",
      "For n_clusters = 8, the average silhouette_score is :0.101304401234\n",
      "Number of elements in cluster 1 : 2\n",
      "Number of elements in cluster 2 : 117\n"
     ]
    }
   ],
   "source": [
    "import numpy as np\n",
    "%matplotlib inline\n",
    "import pandas as pd\n",
    "from sklearn.model_selection import train_test_split\n",
    "import matplotlib.pyplot as plt\n",
    "from pgmpy.estimators import BicScore, HillClimbSearch, BayesianEstimator\n",
    "from pgmpy.models import BayesianModel\n",
    "from IPython.display import Image, display\n",
    "from sklearn.cluster import KMeans\n",
    "from sklearn.metrics import silhouette_score\n",
    "from scipy.cluster.hierarchy import dendrogram, linkage, fcluster\n",
    "from sklearn.mixture import GaussianMixture\n",
    "## columns 2:9 in data3 is day_Sun .. day_Sat\n",
    "X3_day = data3.iloc[:,2:9]\n",
    "range_n_clusters = range(2,9)\n",
    "\n",
    "#### Kmeans\n",
    "\n",
    "for n_clusters in range_n_clusters:\n",
    "    silhouette = []\n",
    "    for i in range(100):\n",
    "        km = KMeans(random_state=i*i, n_clusters=n_clusters)\n",
    "        cluster_labels = km.fit(X3_day).labels_\n",
    "        silhouette.append(silhouette_score(X3_day, cluster_labels))\n",
    "    silhouette_avg = np.mean(silhouette)\n",
    "    print(\"For n_clusters = {},\".format(n_clusters)+\" the average silhouette_score is :{}\".format(silhouette_avg))\n",
    "\n",
    "# Choose n_clusters = 5 or 2\n",
    "\n",
    "km_g_n = 5\n",
    "km_g = KMeans(random_state=123, n_clusters=km_g_n)\n",
    "km_g_labels = km_g.fit(X3_day).labels_\n",
    "for i in range(km_g_n):\n",
    "    print('Number of elements in cluster {} : {}'.format(i,np.sum(km_g_labels==i)))\n",
    "\n",
    "km_g_n = 2\n",
    "km_g = KMeans(random_state=123, n_clusters=km_g_n)\n",
    "km_g_labels = km_g.fit(X3_day).labels_\n",
    "for i in range(km_g_n):\n",
    "    print('Number of elements in cluster {} : {}'.format(i,np.sum(km_g_labels==i)))\n",
    "\n",
    "#### Gaussian mixture models\n",
    "\n",
    "for n_clusters in range_n_clusters:\n",
    "    silhouette = []\n",
    "    for i in range(100):\n",
    "        gm = GaussianMixture(random_state=i*i, n_components=n_clusters)\n",
    "        cluster_labels = gm.fit(X3_day).predict(X3_day)\n",
    "        silhouette.append(silhouette_score(X3_day, cluster_labels))\n",
    "    silhouette_avg = np.mean(silhouette)\n",
    "    print(\"For n_clusters = {},\".format(n_clusters)+\" the average silhouette_score is :{}\".format(silhouette_avg))\n",
    "\n",
    "# Choose n_clusters = 2\n",
    "\n",
    "gm_g_n = 2\n",
    "gm_g = GaussianMixture(random_state=123, n_components=gm_g_n)\n",
    "gm_g_labels = gm_g.fit(X3_day).predict(X3_day)\n",
    "for i in range(gm_g_n):\n",
    "    print('Number of elements in cluster {} : {}'.format(i,np.sum(gm_g_labels==i)))\n",
    "\n",
    "####  Bottom-up hierarchical clustering with \"single link\" distance metric\n",
    "\n",
    "hc_single = linkage(X3_day, 'single')\n",
    "for n_clusters in range_n_clusters:\n",
    "    cluster_labels = fcluster(hc_single, n_clusters, criterion='maxclust')  \n",
    "    silhouette_avg = silhouette_score(X3_day, cluster_labels)\n",
    "    print(\"For n_clusters = {},\".format(n_clusters)+\" the average silhouette_score is :{}\".format(silhouette_avg))\n",
    "\n",
    "# Choose n_clusters = 2\n",
    "\n",
    "hc_s_n = 2\n",
    "hc_s_labels = fcluster(hc_single, hc_s_n, criterion='maxclust')\n",
    "for i in range(1,hc_s_n+1):\n",
    "    print('Number of elements in cluster {} : {}'.format(i,np.sum(hc_s_labels==i)))\n",
    "\n",
    "#### Bottom-up hierarchical clustering with \"complete link\" distance metric\n",
    "\n",
    "hc_complex = linkage(X3_day, 'complete')\n",
    "for n_clusters in range_n_clusters:\n",
    "    cluster_labels = fcluster(hc_complex, n_clusters, criterion='maxclust')  \n",
    "    silhouette_avg = silhouette_score(X3_day, cluster_labels)\n",
    "    print(\"For n_clusters = {},\".format(n_clusters)+\" the average silhouette_score is :{}\".format(silhouette_avg))\n",
    "\n",
    "# Choose n_clusters = 2\n",
    "\n",
    "hc_c_n = 2\n",
    "hc_c_labels = fcluster(hc_complex, hc_c_n, criterion='maxclust')\n",
    "for i in range(1,hc_c_n+1):\n",
    "    print('Number of elements in cluster {} : {}'.format(i,np.sum(hc_c_labels==i)))\n"
   ]
  },
  {
   "cell_type": "code",
   "execution_count": null,
   "metadata": {
    "collapsed": true
   },
   "outputs": [],
   "source": []
  },
  {
   "cell_type": "code",
   "execution_count": null,
   "metadata": {
    "collapsed": true
   },
   "outputs": [],
   "source": []
  }
 ],
 "metadata": {
  "kernelspec": {
   "display_name": "Python 2",
   "language": "python",
   "name": "python2"
  },
  "language_info": {
   "codemirror_mode": {
    "name": "ipython",
    "version": 2
   },
   "file_extension": ".py",
   "mimetype": "text/x-python",
   "name": "python",
   "nbconvert_exporter": "python",
   "pygments_lexer": "ipython2",
   "version": "2.7.13"
  }
 },
 "nbformat": 4,
 "nbformat_minor": 2
}
