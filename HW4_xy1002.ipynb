{
 "cells": [
  {
   "cell_type": "markdown",
   "metadata": {
    "deletable": true,
    "editable": true
   },
   "source": [
    "### Question 1 ( 10pts+5pts+10pts+5pts+10pts)\n",
    "\n",
    "In this question, you will model traffic counts in Pittsburgh using Gaussian process (GP) regression.  The included dataset, \"PittsburghTrafficCounts.csv\", represents the average daily traffic counts computed by traffic sensors at over 1,100 locations in Allegheny County.  The data was collected from years 2012-2014 and compiled by Carnegie Mellon University’s Traffic21 Institute; we have the longitude, latitude, and average daily count for each sensor.  \n",
    "\n",
    "Given this dataset, your goal is to learn a model of traffic count as a function of spatial location.  To do so, fit a Gaussian Process regression model to the observed data.  While you can decide on the precise kernel specification, you should try to achieve a good model fit, as quantified by a log marginal likelihood value greater than (i.e., less negative than) -1400.  Here are some hints for getting a good model fit:\n",
    "\n",
    "1) We recommend that you take the logarithm of the traffic counts, and then subtract the mean of this vector, before fitting the model.\n",
    "\n",
    "2) Since the data is noisy, don't forget to include a noise term (WhiteKernel) in your model.\n",
    "\n",
    "3) When fitting a GP with RBF kernel on multidimensional data, you can learn a separate length scale for each dimension, e.g., length_scale=(length_scale_x, length_scale_y). \n",
    "\n",
    "\n"
   ]
  },
  {
   "cell_type": "code",
   "execution_count": 1,
   "metadata": {
    "collapsed": false,
    "deletable": true,
    "editable": true
   },
   "outputs": [
    {
     "data": {
      "text/html": [
       "<div>\n",
       "<table border=\"1\" class=\"dataframe\">\n",
       "  <thead>\n",
       "    <tr style=\"text-align: right;\">\n",
       "      <th></th>\n",
       "      <th>Longitude</th>\n",
       "      <th>Latitude</th>\n",
       "      <th>AvgDailyTrafficCount</th>\n",
       "    </tr>\n",
       "  </thead>\n",
       "  <tbody>\n",
       "    <tr>\n",
       "      <th>0</th>\n",
       "      <td>-80.278366</td>\n",
       "      <td>40.468606</td>\n",
       "      <td>84.0</td>\n",
       "    </tr>\n",
       "    <tr>\n",
       "      <th>1</th>\n",
       "      <td>-80.162117</td>\n",
       "      <td>40.384598</td>\n",
       "      <td>95.0</td>\n",
       "    </tr>\n",
       "    <tr>\n",
       "      <th>2</th>\n",
       "      <td>-80.221205</td>\n",
       "      <td>40.366778</td>\n",
       "      <td>97.0</td>\n",
       "    </tr>\n",
       "    <tr>\n",
       "      <th>3</th>\n",
       "      <td>-80.142455</td>\n",
       "      <td>40.622084</td>\n",
       "      <td>111.0</td>\n",
       "    </tr>\n",
       "    <tr>\n",
       "      <th>4</th>\n",
       "      <td>-80.131975</td>\n",
       "      <td>40.544915</td>\n",
       "      <td>125.0</td>\n",
       "    </tr>\n",
       "  </tbody>\n",
       "</table>\n",
       "</div>"
      ],
      "text/plain": [
       "   Longitude   Latitude  AvgDailyTrafficCount\n",
       "0 -80.278366  40.468606                  84.0\n",
       "1 -80.162117  40.384598                  95.0\n",
       "2 -80.221205  40.366778                  97.0\n",
       "3 -80.142455  40.622084                 111.0\n",
       "4 -80.131975  40.544915                 125.0"
      ]
     },
     "execution_count": 1,
     "metadata": {},
     "output_type": "execute_result"
    }
   ],
   "source": [
    "import pandas as pd\n",
    "import numpy as np\n",
    "Data1=pd.read_csv(\"https://serv.cusp.nyu.edu/classes/ML_2016_Spring/ML_2017/PittsburghTrafficCounts.csv\")\n",
    "Data1.head()"
   ]
  },
  {
   "cell_type": "markdown",
   "metadata": {
    "deletable": true,
    "editable": true
   },
   "source": [
    "\n",
    "### Your Python code should provide the following outputs:\n",
    "\n",
    "\n",
    "\n",
    "\n",
    "\n",
    "\n"
   ]
  },
  {
   "cell_type": "code",
   "execution_count": 2,
   "metadata": {
    "collapsed": false,
    "deletable": true,
    "editable": true
   },
   "outputs": [],
   "source": [
    "import numpy as np\n",
    "from matplotlib import pyplot as pl\n",
    "from sklearn.gaussian_process import GaussianProcessRegressor\n",
    "from sklearn.gaussian_process.kernels import RBF, ConstantKernel,WhiteKernel\n",
    "%matplotlib inline"
   ]
  },
  {
   "cell_type": "code",
   "execution_count": 3,
   "metadata": {
    "collapsed": false,
    "deletable": true,
    "editable": true
   },
   "outputs": [
    {
     "data": {
      "text/plain": [
       "1115"
      ]
     },
     "execution_count": 3,
     "metadata": {},
     "output_type": "execute_result"
    }
   ],
   "source": [
    "len(Data1)"
   ]
  },
  {
   "cell_type": "code",
   "execution_count": 4,
   "metadata": {
    "collapsed": false,
    "deletable": true,
    "editable": true
   },
   "outputs": [],
   "source": [
    "X = Data1.iloc[:,:2]\n",
    "Y = np.log(Data1.iloc[:,2]) - np.log(Data1.iloc[:,2]).mean()\n"
   ]
  },
  {
   "cell_type": "markdown",
   "metadata": {
    "deletable": true,
    "editable": true
   },
   "source": [
    "**1) The kernel after parameter optimization and fitting to the observed data.**\n",
    "\n",
    "**2) The log marginal likelihood of the training data.  **\n",
    "\n"
   ]
  },
  {
   "cell_type": "code",
   "execution_count": 5,
   "metadata": {
    "collapsed": false,
    "deletable": true,
    "editable": true
   },
   "outputs": [
    {
     "data": {
      "text/plain": [
       "GaussianProcessRegressor(alpha=1e-10, copy_X_train=True,\n",
       "             kernel=1**2 * RBF(length_scale=100) + WhiteKernel(noise_level=1),\n",
       "             n_restarts_optimizer=10, normalize_y=False,\n",
       "             optimizer='fmin_l_bfgs_b', random_state=1)"
      ]
     },
     "execution_count": 5,
     "metadata": {},
     "output_type": "execute_result"
    }
   ],
   "source": [
    "kernel = 1* RBF(length_scale=100.0, length_scale_bounds=(1e-3, 1e3)) \\\n",
    "    + WhiteKernel(noise_level=1, noise_level_bounds=(1e-10, 1e10))\n",
    "gp = GaussianProcessRegressor(kernel=kernel,\n",
    "                              n_restarts_optimizer=10,random_state=1)\n",
    "# Fit to data using Maximum Likelihood Estimation of the parameters\n",
    "gp.fit(X, Y)"
   ]
  },
  {
   "cell_type": "code",
   "execution_count": 6,
   "metadata": {
    "collapsed": false,
    "deletable": true,
    "editable": true
   },
   "outputs": [
    {
     "name": "stdout",
     "output_type": "stream",
     "text": [
      "-1365.02775338\n",
      "0.662**2 * RBF(length_scale=0.0355) + WhiteKernel(noise_level=0.567)\n"
     ]
    }
   ],
   "source": [
    "print gp.log_marginal_likelihood_value_\n",
    "print gp.kernel_"
   ]
  },
  {
   "cell_type": "markdown",
   "metadata": {
    "deletable": true,
    "editable": true
   },
   "source": [
    "**3) Show a 2-D plot of the model's predictions over a mesh grid of longitude/latitude (with color corresponding to the model's predictions) and overlay a 2-D scatter plot of sensor locations (with color corresponding to the observed values).**"
   ]
  },
  {
   "cell_type": "code",
   "execution_count": 7,
   "metadata": {
    "collapsed": false,
    "deletable": true,
    "editable": true
   },
   "outputs": [
    {
     "data": {
      "image/png": "[encoded data removed]",
      "text/plain": [
       "<matplotlib.figure.Figure at 0x108a777d0>"
      ]
     },
     "metadata": {},
     "output_type": "display_data"
    }
   ],
   "source": [
    "h = .02  # step size in the mesh\n",
    "x_min, x_max = X.iloc[:, 0].min(), X.iloc[:, 0].max()\n",
    "y_min, y_max = X.iloc[:, 1].min(), X.iloc[:, 1].max()\n",
    "\n",
    "xx, yy = np.meshgrid(np.arange(x_min, x_max, h),\n",
    "                     np.arange(y_min, y_max, h))\n",
    "\n",
    "pl.figure(figsize=(10, 10))\n",
    "    # Plot the predicted probabilities. For that, we will assign a color to\n",
    "    # each point in the mesh [x_min, m_max]x[y_min, y_max].\n",
    "pl.subplot(1, 1, 1)\n",
    "Z = gp.predict(np.c_[xx.ravel(), yy.ravel()])\n",
    "# Put the result into a color plot\n",
    "Z = Z.reshape((xx.shape[0], xx.shape[1]))\n",
    "pl.imshow(Z, extent=(x_min, x_max, y_min, y_max), origin=\"lower\")\n",
    "\n",
    "# Plot also the training points\n",
    "pl.scatter(X.iloc[:, 0], X.iloc[:, 1], c = Y, edgecolors = 'b')\n",
    "pl.xlabel('Longitude')\n",
    "pl.ylabel('Latitude')\n",
    "pl.xlim(xx.min(), xx.max())\n",
    "pl.ylim(yy.min(), yy.max())\n",
    "pl.xticks(())\n",
    "pl.yticks(())\n",
    "pl.title(\"%s, LML: %.3f\" %\n",
    "          (\"RBF\", gp.log_marginal_likelihood_value_))\n",
    "\n",
    "pl.tight_layout()\n"
   ]
  },
  {
   "cell_type": "markdown",
   "metadata": {
    "deletable": true,
    "editable": true
   },
   "source": [
    "**4) What percentage of sensors have average traffic counts more than two standard deviations higher or lower than the model predicts given their spatial location?**"
   ]
  },
  {
   "cell_type": "code",
   "execution_count": 8,
   "metadata": {
    "collapsed": true,
    "deletable": true,
    "editable": true
   },
   "outputs": [],
   "source": [
    "y_pred, y_std = gp.predict(X, return_std=True)"
   ]
  },
  {
   "cell_type": "code",
   "execution_count": 9,
   "metadata": {
    "collapsed": false,
    "deletable": true,
    "editable": true
   },
   "outputs": [
    {
     "data": {
      "text/plain": [
       "49"
      ]
     },
     "execution_count": 9,
     "metadata": {},
     "output_type": "execute_result"
    }
   ],
   "source": [
    "len(Y[(Y > y_pred + 2 * y_std) | (Y < y_pred - 2 * y_std)])"
   ]
  },
  {
   "cell_type": "code",
   "execution_count": 10,
   "metadata": {
    "collapsed": false,
    "deletable": true,
    "editable": true
   },
   "outputs": [
    {
     "name": "stdout",
     "output_type": "stream",
     "text": [
      "Percentage of sensors have average traffic counts more than two standard deviations higher or lower than the model predicts given their spatial location is %4.394619.\n"
     ]
    }
   ],
   "source": [
    "p = len(Y[(Y > y_pred + 2 * y_std) | (Y < y_pred - 2 * y_std)]) * 100.0/ len(Y) \n",
    "print('Percentage of sensors have average traffic counts more than two standard \\\n",
    "deviations higher or lower than the model predicts given their spatial location is %' + '%2f.'%p)"
   ]
  },
  {
   "cell_type": "markdown",
   "metadata": {
    "deletable": true,
    "editable": true
   },
   "source": [
    "** 5) Show a 2-D scatter plot of the sensor locations, with three colors corresponding to observed values a) more than two standard deviations higher than predicted, b) more then two standard deviations lower than predicted, and c) within two standard deviations of the predicted values.**\n",
    "\n",
    "\n"
   ]
  },
  {
   "cell_type": "code",
   "execution_count": 11,
   "metadata": {
    "collapsed": false,
    "deletable": true,
    "editable": true
   },
   "outputs": [],
   "source": [
    "a = Data1[(Y > y_pred + 2 * y_std)]\n",
    "b = Data1[(Y < y_pred - 2 * y_std)]\n",
    "c = Data1[(Y > y_pred - 2 * y_std) & (Y < y_pred + 2 * y_std) ]"
   ]
  },
  {
   "cell_type": "code",
   "execution_count": 12,
   "metadata": {
    "collapsed": false,
    "deletable": true,
    "editable": true
   },
   "outputs": [
    {
     "data": {
      "text/plain": [
       "<matplotlib.legend.Legend at 0x108a7f8d0>"
      ]
     },
     "execution_count": 12,
     "metadata": {},
     "output_type": "execute_result"
    },
    {
     "data": {
      "image/png": "[encoded data removed]",
      "text/plain": [
       "<matplotlib.figure.Figure at 0x108a77610>"
      ]
     },
     "metadata": {},
     "output_type": "display_data"
    }
   ],
   "source": [
    "pl.figure(figsize=(10, 10))\n",
    "pl.scatter(a.iloc[:, 0], a.iloc[:, 1], c = 'r', label = '2 std higher')\n",
    "pl.scatter(b.iloc[:, 0], b.iloc[:, 1], c = 'g', label = '2 std lower')\n",
    "pl.scatter(c.iloc[:, 0], c.iloc[:, 1], c = 'y', label = 'within 2 std')\n",
    "pl.xlabel('Longitude')\n",
    "pl.ylabel('Latitude')\n",
    "pl.xlim(xx.min(), xx.max())\n",
    "pl.ylim(yy.min(), yy.max())\n",
    "pl.xticks(())\n",
    "pl.yticks(())\n",
    "pl.legend()\n"
   ]
  },
  {
   "cell_type": "code",
   "execution_count": null,
   "metadata": {
    "collapsed": true,
    "deletable": true,
    "editable": true
   },
   "outputs": [],
   "source": []
  },
  {
   "cell_type": "markdown",
   "metadata": {
    "collapsed": true,
    "deletable": true,
    "editable": true
   },
   "source": [
    "### Question 2: Cluster-based anomaly detection (10pts, 2.5pts+2.5pts+2.5pts+2.5pts)\n",
    "\n",
    "Given an unlabeled dataset with two real-valued attributes, we perform cluster-based anomaly detection by running k-means, choosing the number of clusters k automatically using the Schwarz criterion.  Four clusters are formed:\n",
    "\n",
    "A: 100 points, center (0, 0), standard deviation 0.1\n",
    "\n",
    "B: 150 points, center (35, 5), standard deviation 5\n",
    "\n",
    "C: 2 points, center (15, 20), standard deviation 1\n",
    "\n",
    "D: 200 points, center (10, 10), standard deviation 1\n",
    "\n",
    "Given the four points below, which of these points are, and are not, likely to be anomalies?  Choose “Anomaly” or “Not Anomaly”, and provide a brief explanation, for each point. \n",
    "(Hint: your answers should take into account the size and standard deviation of each cluster as well as the distances to cluster centers.)\n",
    "\n",
    "\n",
    "\n",
    "\n",
    "\n",
    "\n"
   ]
  },
  {
   "cell_type": "markdown",
   "metadata": {
    "collapsed": true,
    "deletable": true,
    "editable": true
   },
   "source": [
    "(1, 0)\t\tAnomaly / Not Anomaly\n",
    "\n",
    "** Anomaly** : Since this point is 10 standard deviation away from the center, so it is anomaly point."
   ]
  },
  {
   "cell_type": "markdown",
   "metadata": {
    "collapsed": true,
    "deletable": true,
    "editable": true
   },
   "source": [
    "(35, 5)\t\tAnomaly / Not Anomaly\n",
    "\n",
    "**Not Anomaly** : This point is right on the center."
   ]
  },
  {
   "cell_type": "markdown",
   "metadata": {
    "collapsed": true,
    "deletable": true,
    "editable": true
   },
   "source": [
    "\n",
    "(15, 19)\tAnomaly / Not Anomaly\n",
    "\n",
    "**Not Anomaly** : It is 1 standard deviation away, but the cluster size is very small to detect anomaly."
   ]
  },
  {
   "cell_type": "markdown",
   "metadata": {
    "collapsed": true,
    "deletable": true,
    "editable": true
   },
   "source": [
    "(10, 11)\tAnomaly / Not Anomaly\n",
    "\n",
    "**Not Anomaly** : It is 1 satndard deviation away from the center, is not really likely to be anomaly. "
   ]
  },
  {
   "cell_type": "code",
   "execution_count": null,
   "metadata": {
    "collapsed": true,
    "deletable": true,
    "editable": true
   },
   "outputs": [],
   "source": []
  },
  {
   "cell_type": "markdown",
   "metadata": {
    "deletable": true,
    "editable": true
   },
   "source": [
    "### Question 3: Anomaly detection (5pts+10pts+10pts+10pts+10pts+5pts)\n",
    "\n",
    "For this question, use the \"County Health Indicators dataset\" provided to identify the most anomalous counties. Please list the top 5 most anomalous counties by following models: \n",
    "\n",
    "\n"
   ]
  },
  {
   "cell_type": "code",
   "execution_count": 32,
   "metadata": {
    "collapsed": false
   },
   "outputs": [],
   "source": [
    "import pandas as pd\n",
    "import numpy as np"
   ]
  },
  {
   "cell_type": "code",
   "execution_count": 3,
   "metadata": {
    "collapsed": false,
    "deletable": true,
    "editable": true
   },
   "outputs": [
    {
     "data": {
      "text/html": [
       "<div>\n",
       "<table border=\"1\" class=\"dataframe\">\n",
       "  <thead>\n",
       "    <tr style=\"text-align: right;\">\n",
       "      <th></th>\n",
       "      <th>County</th>\n",
       "      <th>'\\% Reporting Fair/Poor Health'</th>\n",
       "      <th>'Physically Unhealthy Days Per Month'</th>\n",
       "      <th>'Mentally Unhealthy Days Per Month'</th>\n",
       "      <th>'\\% Low birth weight births'</th>\n",
       "      <th>'\\% Smokers'</th>\n",
       "      <th>'\\% Obese'</th>\n",
       "      <th>'Food Environment Index'</th>\n",
       "      <th>'\\% Physically Inactive'</th>\n",
       "      <th>'\\% With Access To Exercise'</th>\n",
       "      <th>...</th>\n",
       "      <th>'\\% Children in Poverty'</th>\n",
       "      <th>'80/20 Income Ratio'</th>\n",
       "      <th>'\\% Single-Parent Households'</th>\n",
       "      <th>'Association Rate'</th>\n",
       "      <th>'Violent Crime Rate'</th>\n",
       "      <th>'Injury Death Rate'</th>\n",
       "      <th>'Average Daily PM2.5'</th>\n",
       "      <th>'\\% Severe Housing Problems'</th>\n",
       "      <th>'\\% Drive Alone'</th>\n",
       "      <th>'\\% Long Commute - Drives Alone'</th>\n",
       "    </tr>\n",
       "  </thead>\n",
       "  <tbody>\n",
       "    <tr>\n",
       "      <th>0</th>\n",
       "      <td>Autauga, Alabama</td>\n",
       "      <td>19</td>\n",
       "      <td>4.4</td>\n",
       "      <td>4.3</td>\n",
       "      <td>9</td>\n",
       "      <td>19</td>\n",
       "      <td>31</td>\n",
       "      <td>7.1</td>\n",
       "      <td>29</td>\n",
       "      <td>71</td>\n",
       "      <td>...</td>\n",
       "      <td>18</td>\n",
       "      <td>4.3</td>\n",
       "      <td>27</td>\n",
       "      <td>13.8</td>\n",
       "      <td>254</td>\n",
       "      <td>76</td>\n",
       "      <td>12.9</td>\n",
       "      <td>14</td>\n",
       "      <td>89</td>\n",
       "      <td>42</td>\n",
       "    </tr>\n",
       "    <tr>\n",
       "      <th>1</th>\n",
       "      <td>Baldwin, Alabama</td>\n",
       "      <td>16</td>\n",
       "      <td>4.1</td>\n",
       "      <td>4.2</td>\n",
       "      <td>9</td>\n",
       "      <td>19</td>\n",
       "      <td>27</td>\n",
       "      <td>7.6</td>\n",
       "      <td>25</td>\n",
       "      <td>72</td>\n",
       "      <td>...</td>\n",
       "      <td>20</td>\n",
       "      <td>4.5</td>\n",
       "      <td>28</td>\n",
       "      <td>12.0</td>\n",
       "      <td>221</td>\n",
       "      <td>70</td>\n",
       "      <td>13.1</td>\n",
       "      <td>15</td>\n",
       "      <td>84</td>\n",
       "      <td>37</td>\n",
       "    </tr>\n",
       "    <tr>\n",
       "      <th>2</th>\n",
       "      <td>Barbour, Alabama</td>\n",
       "      <td>26</td>\n",
       "      <td>4.9</td>\n",
       "      <td>4.7</td>\n",
       "      <td>12</td>\n",
       "      <td>21</td>\n",
       "      <td>41</td>\n",
       "      <td>5.1</td>\n",
       "      <td>33</td>\n",
       "      <td>45</td>\n",
       "      <td>...</td>\n",
       "      <td>38</td>\n",
       "      <td>5.3</td>\n",
       "      <td>54</td>\n",
       "      <td>8.1</td>\n",
       "      <td>147</td>\n",
       "      <td>64</td>\n",
       "      <td>12.6</td>\n",
       "      <td>18</td>\n",
       "      <td>84</td>\n",
       "      <td>35</td>\n",
       "    </tr>\n",
       "    <tr>\n",
       "      <th>3</th>\n",
       "      <td>Bibb, Alabama</td>\n",
       "      <td>22</td>\n",
       "      <td>4.8</td>\n",
       "      <td>4.6</td>\n",
       "      <td>12</td>\n",
       "      <td>21</td>\n",
       "      <td>40</td>\n",
       "      <td>7.4</td>\n",
       "      <td>33</td>\n",
       "      <td>33</td>\n",
       "      <td>...</td>\n",
       "      <td>27</td>\n",
       "      <td>4.3</td>\n",
       "      <td>32</td>\n",
       "      <td>9.8</td>\n",
       "      <td>236</td>\n",
       "      <td>75</td>\n",
       "      <td>12.9</td>\n",
       "      <td>13</td>\n",
       "      <td>84</td>\n",
       "      <td>46</td>\n",
       "    </tr>\n",
       "    <tr>\n",
       "      <th>4</th>\n",
       "      <td>Blount, Alabama</td>\n",
       "      <td>21</td>\n",
       "      <td>4.6</td>\n",
       "      <td>4.5</td>\n",
       "      <td>7</td>\n",
       "      <td>19</td>\n",
       "      <td>32</td>\n",
       "      <td>8.3</td>\n",
       "      <td>29</td>\n",
       "      <td>26</td>\n",
       "      <td>...</td>\n",
       "      <td>24</td>\n",
       "      <td>4.1</td>\n",
       "      <td>28</td>\n",
       "      <td>8.5</td>\n",
       "      <td>219</td>\n",
       "      <td>89</td>\n",
       "      <td>12.7</td>\n",
       "      <td>12</td>\n",
       "      <td>85</td>\n",
       "      <td>59</td>\n",
       "    </tr>\n",
       "  </tbody>\n",
       "</table>\n",
       "<p>5 rows × 31 columns</p>\n",
       "</div>"
      ],
      "text/plain": [
       "             County '\\% Reporting Fair/Poor Health'  \\\n",
       "0  Autauga, Alabama                              19   \n",
       "1  Baldwin, Alabama                              16   \n",
       "2  Barbour, Alabama                              26   \n",
       "3     Bibb, Alabama                              22   \n",
       "4   Blount, Alabama                              21   \n",
       "\n",
       "  'Physically Unhealthy Days Per Month' 'Mentally Unhealthy Days Per Month'  \\\n",
       "0                                   4.4                                 4.3   \n",
       "1                                   4.1                                 4.2   \n",
       "2                                   4.9                                 4.7   \n",
       "3                                   4.8                                 4.6   \n",
       "4                                   4.6                                 4.5   \n",
       "\n",
       "  '\\% Low birth weight births' '\\% Smokers'  '\\% Obese'  \\\n",
       "0                            9           19          31   \n",
       "1                            9           19          27   \n",
       "2                           12           21          41   \n",
       "3                           12           21          40   \n",
       "4                            7           19          32   \n",
       "\n",
       "   'Food Environment Index'  '\\% Physically Inactive'  \\\n",
       "0                       7.1                        29   \n",
       "1                       7.6                        25   \n",
       "2                       5.1                        33   \n",
       "3                       7.4                        33   \n",
       "4                       8.3                        29   \n",
       "\n",
       "  '\\% With Access To Exercise'               ...                 \\\n",
       "0                           71               ...                  \n",
       "1                           72               ...                  \n",
       "2                           45               ...                  \n",
       "3                           33               ...                  \n",
       "4                           26               ...                  \n",
       "\n",
       "  '\\% Children in Poverty' '80/20 Income Ratio' '\\% Single-Parent Households'  \\\n",
       "0                       18                  4.3                            27   \n",
       "1                       20                  4.5                            28   \n",
       "2                       38                  5.3                            54   \n",
       "3                       27                  4.3                            32   \n",
       "4                       24                  4.1                            28   \n",
       "\n",
       "  'Association Rate' 'Violent Crime Rate' 'Injury Death Rate'  \\\n",
       "0               13.8                  254                  76   \n",
       "1               12.0                  221                  70   \n",
       "2                8.1                  147                  64   \n",
       "3                9.8                  236                  75   \n",
       "4                8.5                  219                  89   \n",
       "\n",
       "  'Average Daily PM2.5' '\\% Severe Housing Problems' '\\% Drive Alone'  \\\n",
       "0                  12.9                           14               89   \n",
       "1                  13.1                           15               84   \n",
       "2                  12.6                           18               84   \n",
       "3                  12.9                           13               84   \n",
       "4                  12.7                           12               85   \n",
       "\n",
       "  '\\% Long Commute - Drives Alone'  \n",
       "0                               42  \n",
       "1                               37  \n",
       "2                               35  \n",
       "3                               46  \n",
       "4                               59  \n",
       "\n",
       "[5 rows x 31 columns]"
      ]
     },
     "execution_count": 3,
     "metadata": {},
     "output_type": "execute_result"
    }
   ],
   "source": [
    "Data3=pd.read_csv(\"https://serv.cusp.nyu.edu/classes/ML_2016_Spring/ML_2017/2016CountyHealthIndicators.csv\")\n",
    "Data3.head()"
   ]
  },
  {
   "cell_type": "code",
   "execution_count": 10,
   "metadata": {
    "collapsed": false
   },
   "outputs": [
    {
     "data": {
      "text/plain": [
       "(3141, 31)"
      ]
     },
     "execution_count": 10,
     "metadata": {},
     "output_type": "execute_result"
    }
   ],
   "source": [
    "Data3.shape"
   ]
  },
  {
   "cell_type": "markdown",
   "metadata": {},
   "source": [
    "Data preprocessing hints: a. convert the strings to float(except the first column). b. drop all nan's. \n",
    "\n"
   ]
  },
  {
   "cell_type": "code",
   "execution_count": 96,
   "metadata": {
    "collapsed": false
   },
   "outputs": [
    {
     "data": {
      "text/plain": [
       "(2486, 31)"
      ]
     },
     "execution_count": 96,
     "metadata": {},
     "output_type": "execute_result"
    }
   ],
   "source": [
    "Data3.replace('?',np.nan, inplace = True)\n",
    "Data3.iloc[:,1:] = Data3.iloc[:,1:].apply(lambda x: x.astype(float),axis=1)\n",
    "Data3.dropna(how = 'any', inplace = True)\n",
    "Data3.reset_index(drop=True, inplace=True)\n",
    "Data3.shape"
   ]
  },
  {
   "cell_type": "markdown",
   "metadata": {
    "collapsed": true,
    "deletable": true,
    "editable": true
   },
   "source": [
    "**(1) Pick up features [\"'\\% Smokers'\",\"'\\% Obese'\",\"'Violent Crime Rate'\",\"'80/20 Income Ratio'\",\"'\\% Children in Poverty'\",\"'Average Daily PM2.5'\"] and use pd.cut() to categorize each feature into 5 categories: 0,1,2,3,4. **\n",
    "\n",
    "a. Use HillClimbSearch and BicScore to learn the baysian network structure. \n",
    "\n",
    "b. Which 5 counties have lowest logliklihood values? Please show the counties' name with its loglikelihood values. \n",
    "\n",
    "\n",
    "\n"
   ]
  },
  {
   "cell_type": "code",
   "execution_count": 97,
   "metadata": {
    "collapsed": false
   },
   "outputs": [
    {
     "data": {
      "text/plain": [
       "(2486, 6)"
      ]
     },
     "execution_count": 97,
     "metadata": {},
     "output_type": "execute_result"
    }
   ],
   "source": [
    "# convert to categorical\n",
    "x = Data3[[\"'\\% Smokers'\",\"'\\% Obese'\",\"'Violent Crime Rate'\",\\\n",
    "               \"'80/20 Income Ratio'\",\"'\\% Children in Poverty'\",\"'Average Daily PM2.5'\"]]\n",
    "xx=[]\n",
    "for i in range(6):\n",
    "    a=pd.cut(np.asarray(x)[:,i],5,labels=[0,1,2,3,4])\n",
    "    xx.append(a)\n",
    "x3=np.asarray(xx).T\n",
    "x3.shape"
   ]
  },
  {
   "cell_type": "code",
   "execution_count": 98,
   "metadata": {
    "collapsed": false
   },
   "outputs": [
    {
     "data": {
      "text/html": [
       "<div>\n",
       "<table border=\"1\" class=\"dataframe\">\n",
       "  <thead>\n",
       "    <tr style=\"text-align: right;\">\n",
       "      <th></th>\n",
       "      <th>County</th>\n",
       "      <th>T1</th>\n",
       "      <th>T2</th>\n",
       "      <th>T3</th>\n",
       "      <th>T4</th>\n",
       "      <th>T5</th>\n",
       "      <th>T6</th>\n",
       "    </tr>\n",
       "  </thead>\n",
       "  <tbody>\n",
       "    <tr>\n",
       "      <th>0</th>\n",
       "      <td>Autauga, Alabama</td>\n",
       "      <td>1</td>\n",
       "      <td>2</td>\n",
       "      <td>0</td>\n",
       "      <td>1</td>\n",
       "      <td>1</td>\n",
       "      <td>3</td>\n",
       "    </tr>\n",
       "    <tr>\n",
       "      <th>1</th>\n",
       "      <td>Baldwin, Alabama</td>\n",
       "      <td>1</td>\n",
       "      <td>2</td>\n",
       "      <td>0</td>\n",
       "      <td>1</td>\n",
       "      <td>1</td>\n",
       "      <td>3</td>\n",
       "    </tr>\n",
       "    <tr>\n",
       "      <th>2</th>\n",
       "      <td>Barbour, Alabama</td>\n",
       "      <td>2</td>\n",
       "      <td>4</td>\n",
       "      <td>0</td>\n",
       "      <td>2</td>\n",
       "      <td>3</td>\n",
       "      <td>3</td>\n",
       "    </tr>\n",
       "    <tr>\n",
       "      <th>3</th>\n",
       "      <td>Bibb, Alabama</td>\n",
       "      <td>2</td>\n",
       "      <td>4</td>\n",
       "      <td>0</td>\n",
       "      <td>1</td>\n",
       "      <td>2</td>\n",
       "      <td>3</td>\n",
       "    </tr>\n",
       "    <tr>\n",
       "      <th>4</th>\n",
       "      <td>Blount, Alabama</td>\n",
       "      <td>1</td>\n",
       "      <td>2</td>\n",
       "      <td>0</td>\n",
       "      <td>1</td>\n",
       "      <td>2</td>\n",
       "      <td>3</td>\n",
       "    </tr>\n",
       "  </tbody>\n",
       "</table>\n",
       "</div>"
      ],
      "text/plain": [
       "             County  T1  T2  T3  T4  T5  T6\n",
       "0  Autauga, Alabama   1   2   0   1   1   3\n",
       "1  Baldwin, Alabama   1   2   0   1   1   3\n",
       "2  Barbour, Alabama   2   4   0   2   3   3\n",
       "3     Bibb, Alabama   2   4   0   1   2   3\n",
       "4   Blount, Alabama   1   2   0   1   2   3"
      ]
     },
     "execution_count": 98,
     "metadata": {},
     "output_type": "execute_result"
    }
   ],
   "source": [
    "data3=pd.concat((Data3.County,pd.DataFrame(x3)),axis=1)\n",
    "data3.columns=[\"County\",\"T1\",\"T2\",\"T3\",\"T4\",\"T5\",\"T6\"]\n",
    "data3.head()"
   ]
  },
  {
   "cell_type": "code",
   "execution_count": 99,
   "metadata": {
    "collapsed": false
   },
   "outputs": [
    {
     "name": "stdout",
     "output_type": "stream",
     "text": [
      "[('T4', 'T5'), ('T5', 'T3'), ('T5', 'T1'), ('T1', 'T6'), ('T1', 'T2')]\n"
     ]
    }
   ],
   "source": [
    "from pgmpy.estimators import HillClimbSearch\n",
    "from pgmpy.estimators import BdeuScore, K2Score, BicScore\n",
    "from pgmpy.models import BayesianModel\n",
    "from pgmpy.estimators import MaximumLikelihoodEstimator, BayesianEstimator\n",
    "\n",
    "data=data3.iloc[:,1:]\n",
    "hc = HillClimbSearch(data, scoring_method=BicScore(data))\n",
    "best_model = hc.estimate()\n",
    "print(best_model.edges())\n",
    "model = BayesianModel(best_model.edges())\n",
    "\n",
    "# Learing CPDs using Maximum Likelihood Estimators\n",
    "model.fit(data, estimator=MaximumLikelihoodEstimator)"
   ]
  },
  {
   "cell_type": "code",
   "execution_count": 100,
   "metadata": {
    "collapsed": false
   },
   "outputs": [],
   "source": [
    "from pgmpy.inference import VariableElimination\n",
    "infer = VariableElimination(model)\n",
    "def logLiklihood(x,infer):\n",
    "    a=x.T1\n",
    "    b=x.T2\n",
    "    c=x.T3\n",
    "    d=x.T4\n",
    "    e=x.T5\n",
    "    f=x.T6\n",
    "    return np.log((infer.query(['T1'], evidence={'T5': e}) ['T1']).values[a])+np.log(\n",
    "    (infer.query(['T2'], evidence={'T1': a}) ['T2']).values[b])+np.log(\n",
    "    (infer.query(['T3'], evidence={'T5': e}) ['T3']).values[c])+np.log(\n",
    "    (infer.query(['T4']) ['T4']).values[d])+np.log(    \n",
    "    (infer.query(['T5'], evidence={'T4': d}) ['T5']).values[e])+np.log(\n",
    "    (infer.query(['T6'], evidence={'T1': a}) ['T6']).values[f])"
   ]
  },
  {
   "cell_type": "code",
   "execution_count": 101,
   "metadata": {
    "collapsed": false
   },
   "outputs": [],
   "source": [
    "data3.dropna(how = 'any', inplace = True)\n",
    "data3.iloc[:,1:] = data3.iloc[:,1:].apply(lambda x: x.astype(int),axis=1)"
   ]
  },
  {
   "cell_type": "code",
   "execution_count": 102,
   "metadata": {
    "collapsed": false
   },
   "outputs": [
    {
     "data": {
      "text/plain": [
       "-2.9615278669004046"
      ]
     },
     "execution_count": 102,
     "metadata": {},
     "output_type": "execute_result"
    }
   ],
   "source": [
    "logLiklihood(data3.iloc[0,1:],infer)"
   ]
  },
  {
   "cell_type": "code",
   "execution_count": 103,
   "metadata": {
    "collapsed": true
   },
   "outputs": [],
   "source": [
    "exmp=data3.iloc[:,:].apply(lambda x: logLiklihood(x,infer),axis=1)"
   ]
  },
  {
   "cell_type": "code",
   "execution_count": 104,
   "metadata": {
    "collapsed": false
   },
   "outputs": [
    {
     "data": {
      "text/plain": [
       "1444   -16.608495\n",
       "182    -14.827149\n",
       "1577   -14.686742\n",
       "1007   -14.457849\n",
       "248    -13.671439\n",
       "dtype: float64"
      ]
     },
     "execution_count": 104,
     "metadata": {},
     "output_type": "execute_result"
    }
   ],
   "source": [
    "exmp.sort_values()[:5]"
   ]
  },
  {
   "cell_type": "code",
   "execution_count": 115,
   "metadata": {
    "collapsed": false
   },
   "outputs": [
    {
     "data": {
      "text/html": [
       "<div>\n",
       "<table border=\"1\" class=\"dataframe\">\n",
       "  <thead>\n",
       "    <tr style=\"text-align: right;\">\n",
       "      <th></th>\n",
       "      <th>County</th>\n",
       "      <th>'\\% Reporting Fair/Poor Health'</th>\n",
       "      <th>'Physically Unhealthy Days Per Month'</th>\n",
       "      <th>'Mentally Unhealthy Days Per Month'</th>\n",
       "      <th>'\\% Low birth weight births'</th>\n",
       "      <th>'\\% Smokers'</th>\n",
       "      <th>'\\% Obese'</th>\n",
       "      <th>'Food Environment Index'</th>\n",
       "      <th>'\\% Physically Inactive'</th>\n",
       "      <th>'\\% With Access To Exercise'</th>\n",
       "      <th>...</th>\n",
       "      <th>'\\% Children in Poverty'</th>\n",
       "      <th>'80/20 Income Ratio'</th>\n",
       "      <th>'\\% Single-Parent Households'</th>\n",
       "      <th>'Association Rate'</th>\n",
       "      <th>'Violent Crime Rate'</th>\n",
       "      <th>'Injury Death Rate'</th>\n",
       "      <th>'Average Daily PM2.5'</th>\n",
       "      <th>'\\% Severe Housing Problems'</th>\n",
       "      <th>'\\% Drive Alone'</th>\n",
       "      <th>'\\% Long Commute - Drives Alone'</th>\n",
       "    </tr>\n",
       "  </thead>\n",
       "  <tbody>\n",
       "    <tr>\n",
       "      <th>1444</th>\n",
       "      <td>New York, New York</td>\n",
       "      <td>14.0</td>\n",
       "      <td>3.5</td>\n",
       "      <td>3.5</td>\n",
       "      <td>9.0</td>\n",
       "      <td>13.0</td>\n",
       "      <td>15.0</td>\n",
       "      <td>7.8</td>\n",
       "      <td>18.0</td>\n",
       "      <td>98.0</td>\n",
       "      <td>...</td>\n",
       "      <td>24.0</td>\n",
       "      <td>8.7</td>\n",
       "      <td>41.0</td>\n",
       "      <td>13.0</td>\n",
       "      <td>620.0</td>\n",
       "      <td>32.0</td>\n",
       "      <td>10.8</td>\n",
       "      <td>25.0</td>\n",
       "      <td>6.0</td>\n",
       "      <td>63.0</td>\n",
       "    </tr>\n",
       "    <tr>\n",
       "      <th>182</th>\n",
       "      <td>San Francisco, California</td>\n",
       "      <td>11.0</td>\n",
       "      <td>3.2</td>\n",
       "      <td>3.1</td>\n",
       "      <td>7.0</td>\n",
       "      <td>12.0</td>\n",
       "      <td>15.0</td>\n",
       "      <td>7.3</td>\n",
       "      <td>14.0</td>\n",
       "      <td>100.0</td>\n",
       "      <td>...</td>\n",
       "      <td>14.0</td>\n",
       "      <td>6.9</td>\n",
       "      <td>28.0</td>\n",
       "      <td>8.8</td>\n",
       "      <td>703.0</td>\n",
       "      <td>55.0</td>\n",
       "      <td>8.0</td>\n",
       "      <td>27.0</td>\n",
       "      <td>36.0</td>\n",
       "      <td>46.0</td>\n",
       "    </tr>\n",
       "    <tr>\n",
       "      <th>1577</th>\n",
       "      <td>Rolette, North Dakota</td>\n",
       "      <td>29.0</td>\n",
       "      <td>5.1</td>\n",
       "      <td>4.5</td>\n",
       "      <td>10.0</td>\n",
       "      <td>38.0</td>\n",
       "      <td>41.0</td>\n",
       "      <td>6.9</td>\n",
       "      <td>34.0</td>\n",
       "      <td>21.0</td>\n",
       "      <td>...</td>\n",
       "      <td>41.0</td>\n",
       "      <td>7.7</td>\n",
       "      <td>59.0</td>\n",
       "      <td>6.2</td>\n",
       "      <td>29.0</td>\n",
       "      <td>104.0</td>\n",
       "      <td>9.6</td>\n",
       "      <td>21.0</td>\n",
       "      <td>84.0</td>\n",
       "      <td>14.0</td>\n",
       "    </tr>\n",
       "    <tr>\n",
       "      <th>1007</th>\n",
       "      <td>Suffolk, Massachusetts</td>\n",
       "      <td>16.0</td>\n",
       "      <td>3.5</td>\n",
       "      <td>3.8</td>\n",
       "      <td>9.0</td>\n",
       "      <td>15.0</td>\n",
       "      <td>21.0</td>\n",
       "      <td>7.6</td>\n",
       "      <td>20.0</td>\n",
       "      <td>100.0</td>\n",
       "      <td>...</td>\n",
       "      <td>32.0</td>\n",
       "      <td>7.6</td>\n",
       "      <td>52.0</td>\n",
       "      <td>10.1</td>\n",
       "      <td>910.0</td>\n",
       "      <td>46.0</td>\n",
       "      <td>10.4</td>\n",
       "      <td>26.0</td>\n",
       "      <td>41.0</td>\n",
       "      <td>46.0</td>\n",
       "    </tr>\n",
       "    <tr>\n",
       "      <th>248</th>\n",
       "      <td>District of Columbia, District of Columbia</td>\n",
       "      <td>13.0</td>\n",
       "      <td>2.8</td>\n",
       "      <td>3.2</td>\n",
       "      <td>10.0</td>\n",
       "      <td>16.0</td>\n",
       "      <td>22.0</td>\n",
       "      <td>8.0</td>\n",
       "      <td>17.0</td>\n",
       "      <td>100.0</td>\n",
       "      <td>...</td>\n",
       "      <td>29.0</td>\n",
       "      <td>7.0</td>\n",
       "      <td>57.0</td>\n",
       "      <td>28.9</td>\n",
       "      <td>1259.0</td>\n",
       "      <td>58.0</td>\n",
       "      <td>12.7</td>\n",
       "      <td>22.0</td>\n",
       "      <td>34.0</td>\n",
       "      <td>44.0</td>\n",
       "    </tr>\n",
       "  </tbody>\n",
       "</table>\n",
       "<p>5 rows × 31 columns</p>\n",
       "</div>"
      ],
      "text/plain": [
       "                                          County  \\\n",
       "1444                          New York, New York   \n",
       "182                    San Francisco, California   \n",
       "1577                       Rolette, North Dakota   \n",
       "1007                      Suffolk, Massachusetts   \n",
       "248   District of Columbia, District of Columbia   \n",
       "\n",
       "      '\\% Reporting Fair/Poor Health'  'Physically Unhealthy Days Per Month'  \\\n",
       "1444                             14.0                                    3.5   \n",
       "182                              11.0                                    3.2   \n",
       "1577                             29.0                                    5.1   \n",
       "1007                             16.0                                    3.5   \n",
       "248                              13.0                                    2.8   \n",
       "\n",
       "      'Mentally Unhealthy Days Per Month'  '\\% Low birth weight births'  \\\n",
       "1444                                  3.5                           9.0   \n",
       "182                                   3.1                           7.0   \n",
       "1577                                  4.5                          10.0   \n",
       "1007                                  3.8                           9.0   \n",
       "248                                   3.2                          10.0   \n",
       "\n",
       "      '\\% Smokers'  '\\% Obese'  'Food Environment Index'  \\\n",
       "1444          13.0        15.0                       7.8   \n",
       "182           12.0        15.0                       7.3   \n",
       "1577          38.0        41.0                       6.9   \n",
       "1007          15.0        21.0                       7.6   \n",
       "248           16.0        22.0                       8.0   \n",
       "\n",
       "      '\\% Physically Inactive'  '\\% With Access To Exercise'  \\\n",
       "1444                      18.0                          98.0   \n",
       "182                       14.0                         100.0   \n",
       "1577                      34.0                          21.0   \n",
       "1007                      20.0                         100.0   \n",
       "248                       17.0                         100.0   \n",
       "\n",
       "                    ...                 '\\% Children in Poverty'  \\\n",
       "1444                ...                                     24.0   \n",
       "182                 ...                                     14.0   \n",
       "1577                ...                                     41.0   \n",
       "1007                ...                                     32.0   \n",
       "248                 ...                                     29.0   \n",
       "\n",
       "      '80/20 Income Ratio'  '\\% Single-Parent Households'  'Association Rate'  \\\n",
       "1444                   8.7                           41.0                13.0   \n",
       "182                    6.9                           28.0                 8.8   \n",
       "1577                   7.7                           59.0                 6.2   \n",
       "1007                   7.6                           52.0                10.1   \n",
       "248                    7.0                           57.0                28.9   \n",
       "\n",
       "      'Violent Crime Rate'  'Injury Death Rate'  'Average Daily PM2.5'  \\\n",
       "1444                 620.0                 32.0                   10.8   \n",
       "182                  703.0                 55.0                    8.0   \n",
       "1577                  29.0                104.0                    9.6   \n",
       "1007                 910.0                 46.0                   10.4   \n",
       "248                 1259.0                 58.0                   12.7   \n",
       "\n",
       "      '\\% Severe Housing Problems'  '\\% Drive Alone'  \\\n",
       "1444                          25.0               6.0   \n",
       "182                           27.0              36.0   \n",
       "1577                          21.0              84.0   \n",
       "1007                          26.0              41.0   \n",
       "248                           22.0              34.0   \n",
       "\n",
       "      '\\% Long Commute - Drives Alone'  \n",
       "1444                              63.0  \n",
       "182                               46.0  \n",
       "1577                              14.0  \n",
       "1007                              46.0  \n",
       "248                               44.0  \n",
       "\n",
       "[5 rows x 31 columns]"
      ]
     },
     "execution_count": 115,
     "metadata": {},
     "output_type": "execute_result"
    }
   ],
   "source": [
    "Data3.iloc[[1444,182,1577,1007,248],:]"
   ]
  },
  {
   "cell_type": "markdown",
   "metadata": {},
   "source": [
    "**(2) Cluster based anomaly detection.**\n",
    "\n",
    "a.Cluster with k-means. Please set k= 3.Compute each record's distance to the nearest cluster center and report the five counties which have top five highest distances.\n",
    "\n"
   ]
  },
  {
   "cell_type": "code",
   "execution_count": 106,
   "metadata": {
    "collapsed": true
   },
   "outputs": [],
   "source": [
    "X = Data3.iloc[:,1:]\n",
    "y = Data3.iloc[:,:1]"
   ]
  },
  {
   "cell_type": "code",
   "execution_count": 107,
   "metadata": {
    "collapsed": false
   },
   "outputs": [
    {
     "name": "stdout",
     "output_type": "stream",
     "text": [
      "                         County        score\n",
      "1890      Shannon, South Dakota  1970.018443\n",
      "1294   St. Louis City, Missouri  1332.735955\n",
      "96         Crittenden, Arkansas  1208.900834\n",
      "2304  Petersburg City, Virginia  1017.910163\n",
      "995    Baltimore City, Maryland   918.374430\n"
     ]
    }
   ],
   "source": [
    "from sklearn.cluster import KMeans\n",
    "n=3\n",
    "KM=KMeans(n_clusters=n,random_state=999)\n",
    "scor=KM.fit_predict(X)\n",
    "res=pd.DataFrame(KM.transform(X))\n",
    "res=pd.concat((Data3.County,res.min(1)),axis=1)\n",
    "res.columns=[\"County\",\"score\"]\n",
    "print res.sort_values(\"score\",ascending=False)[:5]"
   ]
  },
  {
   "cell_type": "markdown",
   "metadata": {},
   "source": [
    "**b. Cluster with Gaussian Mixture. Please repeat (2)a but use loglikelihood for each record.**\n",
    "\n",
    "\n",
    "\n"
   ]
  },
  {
   "cell_type": "code",
   "execution_count": 111,
   "metadata": {
    "collapsed": false
   },
   "outputs": [
    {
     "data": {
      "text/plain": [
       "GaussianMixture(covariance_type='full', init_params='kmeans', max_iter=100,\n",
       "        means_init=None, n_components=5, n_init=1, precisions_init=None,\n",
       "        random_state=999, reg_covar=1e-06, tol=0.001, verbose=0,\n",
       "        verbose_interval=10, warm_start=False, weights_init=None)"
      ]
     },
     "execution_count": 111,
     "metadata": {},
     "output_type": "execute_result"
    }
   ],
   "source": [
    "from sklearn.mixture import GaussianMixture\n",
    "GM=GaussianMixture(n_components=5,random_state=999)\n",
    "GM.fit(Data3.iloc[:,1:])"
   ]
  },
  {
   "cell_type": "code",
   "execution_count": 112,
   "metadata": {
    "collapsed": false
   },
   "outputs": [
    {
     "data": {
      "text/html": [
       "<div>\n",
       "<table border=\"1\" class=\"dataframe\">\n",
       "  <thead>\n",
       "    <tr style=\"text-align: right;\">\n",
       "      <th></th>\n",
       "      <th>0</th>\n",
       "    </tr>\n",
       "  </thead>\n",
       "  <tbody>\n",
       "    <tr>\n",
       "      <th>1890</th>\n",
       "      <td>-165.208741</td>\n",
       "    </tr>\n",
       "    <tr>\n",
       "      <th>1417</th>\n",
       "      <td>-162.836570</td>\n",
       "    </tr>\n",
       "    <tr>\n",
       "      <th>1577</th>\n",
       "      <td>-134.374146</td>\n",
       "    </tr>\n",
       "    <tr>\n",
       "      <th>248</th>\n",
       "      <td>-132.904180</td>\n",
       "    </tr>\n",
       "    <tr>\n",
       "      <th>66</th>\n",
       "      <td>-132.617130</td>\n",
       "    </tr>\n",
       "  </tbody>\n",
       "</table>\n",
       "</div>"
      ],
      "text/plain": [
       "               0\n",
       "1890 -165.208741\n",
       "1417 -162.836570\n",
       "1577 -134.374146\n",
       "248  -132.904180\n",
       "66   -132.617130"
      ]
     },
     "execution_count": 112,
     "metadata": {},
     "output_type": "execute_result"
    }
   ],
   "source": [
    "pd.DataFrame(GM.score_samples(X)).sort_values(0)[:5]"
   ]
  },
  {
   "cell_type": "code",
   "execution_count": 113,
   "metadata": {
    "collapsed": false
   },
   "outputs": [
    {
     "data": {
      "text/html": [
       "<div>\n",
       "<table border=\"1\" class=\"dataframe\">\n",
       "  <thead>\n",
       "    <tr style=\"text-align: right;\">\n",
       "      <th></th>\n",
       "      <th>County</th>\n",
       "      <th>'\\% Reporting Fair/Poor Health'</th>\n",
       "      <th>'Physically Unhealthy Days Per Month'</th>\n",
       "      <th>'Mentally Unhealthy Days Per Month'</th>\n",
       "      <th>'\\% Low birth weight births'</th>\n",
       "      <th>'\\% Smokers'</th>\n",
       "      <th>'\\% Obese'</th>\n",
       "      <th>'Food Environment Index'</th>\n",
       "      <th>'\\% Physically Inactive'</th>\n",
       "      <th>'\\% With Access To Exercise'</th>\n",
       "      <th>...</th>\n",
       "      <th>'\\% Children in Poverty'</th>\n",
       "      <th>'80/20 Income Ratio'</th>\n",
       "      <th>'\\% Single-Parent Households'</th>\n",
       "      <th>'Association Rate'</th>\n",
       "      <th>'Violent Crime Rate'</th>\n",
       "      <th>'Injury Death Rate'</th>\n",
       "      <th>'Average Daily PM2.5'</th>\n",
       "      <th>'\\% Severe Housing Problems'</th>\n",
       "      <th>'\\% Drive Alone'</th>\n",
       "      <th>'\\% Long Commute - Drives Alone'</th>\n",
       "    </tr>\n",
       "  </thead>\n",
       "  <tbody>\n",
       "    <tr>\n",
       "      <th>1890</th>\n",
       "      <td>Shannon, South Dakota</td>\n",
       "      <td>33.0</td>\n",
       "      <td>5.9</td>\n",
       "      <td>4.7</td>\n",
       "      <td>7.0</td>\n",
       "      <td>41.0</td>\n",
       "      <td>45.0</td>\n",
       "      <td>1.6</td>\n",
       "      <td>24.0</td>\n",
       "      <td>2.0</td>\n",
       "      <td>...</td>\n",
       "      <td>54.0</td>\n",
       "      <td>6.5</td>\n",
       "      <td>68.0</td>\n",
       "      <td>2.8</td>\n",
       "      <td>0.0</td>\n",
       "      <td>200.0</td>\n",
       "      <td>11.8</td>\n",
       "      <td>44.0</td>\n",
       "      <td>64.0</td>\n",
       "      <td>22.0</td>\n",
       "    </tr>\n",
       "    <tr>\n",
       "      <th>1417</th>\n",
       "      <td>Bronx, New York</td>\n",
       "      <td>29.0</td>\n",
       "      <td>5.0</td>\n",
       "      <td>4.3</td>\n",
       "      <td>10.0</td>\n",
       "      <td>19.0</td>\n",
       "      <td>29.0</td>\n",
       "      <td>7.0</td>\n",
       "      <td>29.0</td>\n",
       "      <td>99.0</td>\n",
       "      <td>...</td>\n",
       "      <td>43.0</td>\n",
       "      <td>6.4</td>\n",
       "      <td>63.0</td>\n",
       "      <td>2.6</td>\n",
       "      <td>620.0</td>\n",
       "      <td>38.0</td>\n",
       "      <td>10.8</td>\n",
       "      <td>38.0</td>\n",
       "      <td>23.0</td>\n",
       "      <td>50.0</td>\n",
       "    </tr>\n",
       "    <tr>\n",
       "      <th>1577</th>\n",
       "      <td>Rolette, North Dakota</td>\n",
       "      <td>29.0</td>\n",
       "      <td>5.1</td>\n",
       "      <td>4.5</td>\n",
       "      <td>10.0</td>\n",
       "      <td>38.0</td>\n",
       "      <td>41.0</td>\n",
       "      <td>6.9</td>\n",
       "      <td>34.0</td>\n",
       "      <td>21.0</td>\n",
       "      <td>...</td>\n",
       "      <td>41.0</td>\n",
       "      <td>7.7</td>\n",
       "      <td>59.0</td>\n",
       "      <td>6.2</td>\n",
       "      <td>29.0</td>\n",
       "      <td>104.0</td>\n",
       "      <td>9.6</td>\n",
       "      <td>21.0</td>\n",
       "      <td>84.0</td>\n",
       "      <td>14.0</td>\n",
       "    </tr>\n",
       "    <tr>\n",
       "      <th>248</th>\n",
       "      <td>District of Columbia, District of Columbia</td>\n",
       "      <td>13.0</td>\n",
       "      <td>2.8</td>\n",
       "      <td>3.2</td>\n",
       "      <td>10.0</td>\n",
       "      <td>16.0</td>\n",
       "      <td>22.0</td>\n",
       "      <td>8.0</td>\n",
       "      <td>17.0</td>\n",
       "      <td>100.0</td>\n",
       "      <td>...</td>\n",
       "      <td>29.0</td>\n",
       "      <td>7.0</td>\n",
       "      <td>57.0</td>\n",
       "      <td>28.9</td>\n",
       "      <td>1259.0</td>\n",
       "      <td>58.0</td>\n",
       "      <td>12.7</td>\n",
       "      <td>22.0</td>\n",
       "      <td>34.0</td>\n",
       "      <td>44.0</td>\n",
       "    </tr>\n",
       "    <tr>\n",
       "      <th>66</th>\n",
       "      <td>Apache, Arizona</td>\n",
       "      <td>30.0</td>\n",
       "      <td>5.7</td>\n",
       "      <td>5.3</td>\n",
       "      <td>7.0</td>\n",
       "      <td>26.0</td>\n",
       "      <td>33.0</td>\n",
       "      <td>0.5</td>\n",
       "      <td>22.0</td>\n",
       "      <td>22.0</td>\n",
       "      <td>...</td>\n",
       "      <td>40.0</td>\n",
       "      <td>6.3</td>\n",
       "      <td>52.0</td>\n",
       "      <td>3.5</td>\n",
       "      <td>94.0</td>\n",
       "      <td>173.0</td>\n",
       "      <td>9.8</td>\n",
       "      <td>36.0</td>\n",
       "      <td>75.0</td>\n",
       "      <td>42.0</td>\n",
       "    </tr>\n",
       "  </tbody>\n",
       "</table>\n",
       "<p>5 rows × 31 columns</p>\n",
       "</div>"
      ],
      "text/plain": [
       "                                          County  \\\n",
       "1890                       Shannon, South Dakota   \n",
       "1417                             Bronx, New York   \n",
       "1577                       Rolette, North Dakota   \n",
       "248   District of Columbia, District of Columbia   \n",
       "66                               Apache, Arizona   \n",
       "\n",
       "      '\\% Reporting Fair/Poor Health'  'Physically Unhealthy Days Per Month'  \\\n",
       "1890                             33.0                                    5.9   \n",
       "1417                             29.0                                    5.0   \n",
       "1577                             29.0                                    5.1   \n",
       "248                              13.0                                    2.8   \n",
       "66                               30.0                                    5.7   \n",
       "\n",
       "      'Mentally Unhealthy Days Per Month'  '\\% Low birth weight births'  \\\n",
       "1890                                  4.7                           7.0   \n",
       "1417                                  4.3                          10.0   \n",
       "1577                                  4.5                          10.0   \n",
       "248                                   3.2                          10.0   \n",
       "66                                    5.3                           7.0   \n",
       "\n",
       "      '\\% Smokers'  '\\% Obese'  'Food Environment Index'  \\\n",
       "1890          41.0        45.0                       1.6   \n",
       "1417          19.0        29.0                       7.0   \n",
       "1577          38.0        41.0                       6.9   \n",
       "248           16.0        22.0                       8.0   \n",
       "66            26.0        33.0                       0.5   \n",
       "\n",
       "      '\\% Physically Inactive'  '\\% With Access To Exercise'  \\\n",
       "1890                      24.0                           2.0   \n",
       "1417                      29.0                          99.0   \n",
       "1577                      34.0                          21.0   \n",
       "248                       17.0                         100.0   \n",
       "66                        22.0                          22.0   \n",
       "\n",
       "                    ...                 '\\% Children in Poverty'  \\\n",
       "1890                ...                                     54.0   \n",
       "1417                ...                                     43.0   \n",
       "1577                ...                                     41.0   \n",
       "248                 ...                                     29.0   \n",
       "66                  ...                                     40.0   \n",
       "\n",
       "      '80/20 Income Ratio'  '\\% Single-Parent Households'  'Association Rate'  \\\n",
       "1890                   6.5                           68.0                 2.8   \n",
       "1417                   6.4                           63.0                 2.6   \n",
       "1577                   7.7                           59.0                 6.2   \n",
       "248                    7.0                           57.0                28.9   \n",
       "66                     6.3                           52.0                 3.5   \n",
       "\n",
       "      'Violent Crime Rate'  'Injury Death Rate'  'Average Daily PM2.5'  \\\n",
       "1890                   0.0                200.0                   11.8   \n",
       "1417                 620.0                 38.0                   10.8   \n",
       "1577                  29.0                104.0                    9.6   \n",
       "248                 1259.0                 58.0                   12.7   \n",
       "66                    94.0                173.0                    9.8   \n",
       "\n",
       "      '\\% Severe Housing Problems'  '\\% Drive Alone'  \\\n",
       "1890                          44.0              64.0   \n",
       "1417                          38.0              23.0   \n",
       "1577                          21.0              84.0   \n",
       "248                           22.0              34.0   \n",
       "66                            36.0              75.0   \n",
       "\n",
       "      '\\% Long Commute - Drives Alone'  \n",
       "1890                              22.0  \n",
       "1417                              50.0  \n",
       "1577                              14.0  \n",
       "248                               44.0  \n",
       "66                                42.0  \n",
       "\n",
       "[5 rows x 31 columns]"
      ]
     },
     "execution_count": 113,
     "metadata": {},
     "output_type": "execute_result"
    }
   ],
   "source": [
    "Data3.iloc[[1890,1417,1577,248,66],:]"
   ]
  },
  {
   "cell_type": "markdown",
   "metadata": {},
   "source": [
    "(3) Choose one more anomaly detection model you prefer and report the top 5 most anomalous counties by the model you choose. \n",
    "\n"
   ]
  },
  {
   "cell_type": "code",
   "execution_count": 130,
   "metadata": {
    "collapsed": false
   },
   "outputs": [
    {
     "data": {
      "text/plain": [
       "IsolationForest(bootstrap=False, contamination=0.1, max_features=1.0,\n",
       "        max_samples=100, n_estimators=100, n_jobs=1,\n",
       "        random_state=<mtrand.RandomState object at 0x1069c1780>, verbose=0)"
      ]
     },
     "execution_count": 130,
     "metadata": {},
     "output_type": "execute_result"
    }
   ],
   "source": [
    "#Isolation Forest\n",
    "from sklearn.ensemble import IsolationForest\n",
    "\n",
    "rng = np.random.RandomState(42)\n",
    "\n",
    "# fit the model\n",
    "clf = IsolationForest(max_samples=100, random_state=rng)\n",
    "clf.fit(X)\n",
    "\n"
   ]
  },
  {
   "cell_type": "code",
   "execution_count": 161,
   "metadata": {
    "collapsed": false
   },
   "outputs": [
    {
     "name": "stderr",
     "output_type": "stream",
     "text": [
      "/usr/local/lib/python2.7/site-packages/ipykernel/__main__.py:3: FutureWarning: sort(columns=....) is deprecated, use sort_values(by=.....)\n",
      "  app.launch_new_instance()\n"
     ]
    },
    {
     "data": {
      "text/html": [
       "<div>\n",
       "<table border=\"1\" class=\"dataframe\">\n",
       "  <thead>\n",
       "    <tr style=\"text-align: right;\">\n",
       "      <th></th>\n",
       "      <th>County</th>\n",
       "      <th>score</th>\n",
       "    </tr>\n",
       "  </thead>\n",
       "  <tbody>\n",
       "    <tr>\n",
       "      <th>1890</th>\n",
       "      <td>Shannon, South Dakota</td>\n",
       "      <td>-0.151165</td>\n",
       "    </tr>\n",
       "    <tr>\n",
       "      <th>1164</th>\n",
       "      <td>Coahoma, Mississippi</td>\n",
       "      <td>-0.103224</td>\n",
       "    </tr>\n",
       "    <tr>\n",
       "      <th>1577</th>\n",
       "      <td>Rolette, North Dakota</td>\n",
       "      <td>-0.096641</td>\n",
       "    </tr>\n",
       "    <tr>\n",
       "      <th>66</th>\n",
       "      <td>Apache, Arizona</td>\n",
       "      <td>-0.087290</td>\n",
       "    </tr>\n",
       "    <tr>\n",
       "      <th>23</th>\n",
       "      <td>Dallas, Alabama</td>\n",
       "      <td>-0.086162</td>\n",
       "    </tr>\n",
       "  </tbody>\n",
       "</table>\n",
       "</div>"
      ],
      "text/plain": [
       "                     County     score\n",
       "1890  Shannon, South Dakota -0.151165\n",
       "1164   Coahoma, Mississippi -0.103224\n",
       "1577  Rolette, North Dakota -0.096641\n",
       "66          Apache, Arizona -0.087290\n",
       "23          Dallas, Alabama -0.086162"
      ]
     },
     "execution_count": 161,
     "metadata": {},
     "output_type": "execute_result"
    }
   ],
   "source": [
    "score = pd.concat((Data3.County,pd.DataFrame(clf.decision_function(X))),axis=1)\n",
    "score.columns=[\"County\",\"score\"]\n",
    "score.sort('score',inplace=True)\n",
    "score[:5]"
   ]
  },
  {
   "cell_type": "markdown",
   "metadata": {},
   "source": [
    "(4) Compare and contrast the results from different models, and provide some intuitions on why each county was found to be anomalous.  \n",
    "\n",
    "\n",
    "\n"
   ]
  },
  {
   "cell_type": "code",
   "execution_count": 167,
   "metadata": {
    "collapsed": false
   },
   "outputs": [
    {
     "data": {
      "text/html": [
       "<div>\n",
       "<table border=\"1\" class=\"dataframe\">\n",
       "  <thead>\n",
       "    <tr style=\"text-align: right;\">\n",
       "      <th></th>\n",
       "      <th>County</th>\n",
       "      <th>'\\% Reporting Fair/Poor Health'</th>\n",
       "      <th>'Physically Unhealthy Days Per Month'</th>\n",
       "      <th>'Mentally Unhealthy Days Per Month'</th>\n",
       "      <th>'\\% Low birth weight births'</th>\n",
       "      <th>'\\% Smokers'</th>\n",
       "      <th>'\\% Obese'</th>\n",
       "      <th>'Food Environment Index'</th>\n",
       "      <th>'\\% Physically Inactive'</th>\n",
       "      <th>'\\% With Access To Exercise'</th>\n",
       "      <th>...</th>\n",
       "      <th>'\\% Children in Poverty'</th>\n",
       "      <th>'80/20 Income Ratio'</th>\n",
       "      <th>'\\% Single-Parent Households'</th>\n",
       "      <th>'Association Rate'</th>\n",
       "      <th>'Violent Crime Rate'</th>\n",
       "      <th>'Injury Death Rate'</th>\n",
       "      <th>'Average Daily PM2.5'</th>\n",
       "      <th>'\\% Severe Housing Problems'</th>\n",
       "      <th>'\\% Drive Alone'</th>\n",
       "      <th>'\\% Long Commute - Drives Alone'</th>\n",
       "    </tr>\n",
       "  </thead>\n",
       "  <tbody>\n",
       "    <tr>\n",
       "      <th>1890</th>\n",
       "      <td>Shannon, South Dakota</td>\n",
       "      <td>33.0</td>\n",
       "      <td>5.9</td>\n",
       "      <td>4.7</td>\n",
       "      <td>7.0</td>\n",
       "      <td>41.0</td>\n",
       "      <td>45.0</td>\n",
       "      <td>1.6</td>\n",
       "      <td>24.0</td>\n",
       "      <td>2.0</td>\n",
       "      <td>...</td>\n",
       "      <td>54.0</td>\n",
       "      <td>6.5</td>\n",
       "      <td>68.0</td>\n",
       "      <td>2.8</td>\n",
       "      <td>0.0</td>\n",
       "      <td>200.0</td>\n",
       "      <td>11.8</td>\n",
       "      <td>44.0</td>\n",
       "      <td>64.0</td>\n",
       "      <td>22.0</td>\n",
       "    </tr>\n",
       "    <tr>\n",
       "      <th>1577</th>\n",
       "      <td>Rolette, North Dakota</td>\n",
       "      <td>29.0</td>\n",
       "      <td>5.1</td>\n",
       "      <td>4.5</td>\n",
       "      <td>10.0</td>\n",
       "      <td>38.0</td>\n",
       "      <td>41.0</td>\n",
       "      <td>6.9</td>\n",
       "      <td>34.0</td>\n",
       "      <td>21.0</td>\n",
       "      <td>...</td>\n",
       "      <td>41.0</td>\n",
       "      <td>7.7</td>\n",
       "      <td>59.0</td>\n",
       "      <td>6.2</td>\n",
       "      <td>29.0</td>\n",
       "      <td>104.0</td>\n",
       "      <td>9.6</td>\n",
       "      <td>21.0</td>\n",
       "      <td>84.0</td>\n",
       "      <td>14.0</td>\n",
       "    </tr>\n",
       "    <tr>\n",
       "      <th>66</th>\n",
       "      <td>Apache, Arizona</td>\n",
       "      <td>30.0</td>\n",
       "      <td>5.7</td>\n",
       "      <td>5.3</td>\n",
       "      <td>7.0</td>\n",
       "      <td>26.0</td>\n",
       "      <td>33.0</td>\n",
       "      <td>0.5</td>\n",
       "      <td>22.0</td>\n",
       "      <td>22.0</td>\n",
       "      <td>...</td>\n",
       "      <td>40.0</td>\n",
       "      <td>6.3</td>\n",
       "      <td>52.0</td>\n",
       "      <td>3.5</td>\n",
       "      <td>94.0</td>\n",
       "      <td>173.0</td>\n",
       "      <td>9.8</td>\n",
       "      <td>36.0</td>\n",
       "      <td>75.0</td>\n",
       "      <td>42.0</td>\n",
       "    </tr>\n",
       "    <tr>\n",
       "      <th>248</th>\n",
       "      <td>District of Columbia, District of Columbia</td>\n",
       "      <td>13.0</td>\n",
       "      <td>2.8</td>\n",
       "      <td>3.2</td>\n",
       "      <td>10.0</td>\n",
       "      <td>16.0</td>\n",
       "      <td>22.0</td>\n",
       "      <td>8.0</td>\n",
       "      <td>17.0</td>\n",
       "      <td>100.0</td>\n",
       "      <td>...</td>\n",
       "      <td>29.0</td>\n",
       "      <td>7.0</td>\n",
       "      <td>57.0</td>\n",
       "      <td>28.9</td>\n",
       "      <td>1259.0</td>\n",
       "      <td>58.0</td>\n",
       "      <td>12.7</td>\n",
       "      <td>22.0</td>\n",
       "      <td>34.0</td>\n",
       "      <td>44.0</td>\n",
       "    </tr>\n",
       "  </tbody>\n",
       "</table>\n",
       "<p>4 rows × 31 columns</p>\n",
       "</div>"
      ],
      "text/plain": [
       "                                          County  \\\n",
       "1890                       Shannon, South Dakota   \n",
       "1577                       Rolette, North Dakota   \n",
       "66                               Apache, Arizona   \n",
       "248   District of Columbia, District of Columbia   \n",
       "\n",
       "      '\\% Reporting Fair/Poor Health'  'Physically Unhealthy Days Per Month'  \\\n",
       "1890                             33.0                                    5.9   \n",
       "1577                             29.0                                    5.1   \n",
       "66                               30.0                                    5.7   \n",
       "248                              13.0                                    2.8   \n",
       "\n",
       "      'Mentally Unhealthy Days Per Month'  '\\% Low birth weight births'  \\\n",
       "1890                                  4.7                           7.0   \n",
       "1577                                  4.5                          10.0   \n",
       "66                                    5.3                           7.0   \n",
       "248                                   3.2                          10.0   \n",
       "\n",
       "      '\\% Smokers'  '\\% Obese'  'Food Environment Index'  \\\n",
       "1890          41.0        45.0                       1.6   \n",
       "1577          38.0        41.0                       6.9   \n",
       "66            26.0        33.0                       0.5   \n",
       "248           16.0        22.0                       8.0   \n",
       "\n",
       "      '\\% Physically Inactive'  '\\% With Access To Exercise'  \\\n",
       "1890                      24.0                           2.0   \n",
       "1577                      34.0                          21.0   \n",
       "66                        22.0                          22.0   \n",
       "248                       17.0                         100.0   \n",
       "\n",
       "                    ...                 '\\% Children in Poverty'  \\\n",
       "1890                ...                                     54.0   \n",
       "1577                ...                                     41.0   \n",
       "66                  ...                                     40.0   \n",
       "248                 ...                                     29.0   \n",
       "\n",
       "      '80/20 Income Ratio'  '\\% Single-Parent Households'  'Association Rate'  \\\n",
       "1890                   6.5                           68.0                 2.8   \n",
       "1577                   7.7                           59.0                 6.2   \n",
       "66                     6.3                           52.0                 3.5   \n",
       "248                    7.0                           57.0                28.9   \n",
       "\n",
       "      'Violent Crime Rate'  'Injury Death Rate'  'Average Daily PM2.5'  \\\n",
       "1890                   0.0                200.0                   11.8   \n",
       "1577                  29.0                104.0                    9.6   \n",
       "66                    94.0                173.0                    9.8   \n",
       "248                 1259.0                 58.0                   12.7   \n",
       "\n",
       "      '\\% Severe Housing Problems'  '\\% Drive Alone'  \\\n",
       "1890                          44.0              64.0   \n",
       "1577                          21.0              84.0   \n",
       "66                            36.0              75.0   \n",
       "248                           22.0              34.0   \n",
       "\n",
       "      '\\% Long Commute - Drives Alone'  \n",
       "1890                              22.0  \n",
       "1577                              14.0  \n",
       "66                                42.0  \n",
       "248                               44.0  \n",
       "\n",
       "[4 rows x 31 columns]"
      ]
     },
     "execution_count": 167,
     "metadata": {},
     "output_type": "execute_result"
    }
   ],
   "source": [
    "Abn = Data3.iloc[[1890,1577,66,248],:]\n",
    "Abn"
   ]
  },
  {
   "cell_type": "markdown",
   "metadata": {},
   "source": [
    "** Those counties shown above show up in two or more approaches that I use to detect abnomaly.**"
   ]
  },
  {
   "cell_type": "code",
   "execution_count": 172,
   "metadata": {
    "collapsed": false
   },
   "outputs": [
    {
     "data": {
      "text/html": [
       "<div>\n",
       "<table border=\"1\" class=\"dataframe\">\n",
       "  <thead>\n",
       "    <tr style=\"text-align: right;\">\n",
       "      <th></th>\n",
       "      <th>'\\% Reporting Fair/Poor Health'</th>\n",
       "      <th>'Physically Unhealthy Days Per Month'</th>\n",
       "      <th>'Mentally Unhealthy Days Per Month'</th>\n",
       "      <th>'\\% Low birth weight births'</th>\n",
       "      <th>'\\% Smokers'</th>\n",
       "      <th>'\\% Obese'</th>\n",
       "      <th>'Food Environment Index'</th>\n",
       "      <th>'\\% Physically Inactive'</th>\n",
       "      <th>'\\% With Access To Exercise'</th>\n",
       "      <th>'\\% Excessive Drinking'</th>\n",
       "      <th>...</th>\n",
       "      <th>'\\% Children in Poverty'</th>\n",
       "      <th>'80/20 Income Ratio'</th>\n",
       "      <th>'\\% Single-Parent Households'</th>\n",
       "      <th>'Association Rate'</th>\n",
       "      <th>'Violent Crime Rate'</th>\n",
       "      <th>'Injury Death Rate'</th>\n",
       "      <th>'Average Daily PM2.5'</th>\n",
       "      <th>'\\% Severe Housing Problems'</th>\n",
       "      <th>'\\% Drive Alone'</th>\n",
       "      <th>'\\% Long Commute - Drives Alone'</th>\n",
       "    </tr>\n",
       "  </thead>\n",
       "  <tbody>\n",
       "    <tr>\n",
       "      <th>1890</th>\n",
       "      <td>15.796058</td>\n",
       "      <td>2.034191</td>\n",
       "      <td>0.946903</td>\n",
       "      <td>-1.222446</td>\n",
       "      <td>22.430008</td>\n",
       "      <td>13.977072</td>\n",
       "      <td>-5.493242</td>\n",
       "      <td>-3.162108</td>\n",
       "      <td>-61.002011</td>\n",
       "      <td>-0.604988</td>\n",
       "      <td>...</td>\n",
       "      <td>30.15527</td>\n",
       "      <td>1.954867</td>\n",
       "      <td>34.654063</td>\n",
       "      <td>-9.931175</td>\n",
       "      <td>-267.538616</td>\n",
       "      <td>125.545455</td>\n",
       "      <td>0.079928</td>\n",
       "      <td>29.041432</td>\n",
       "      <td>-16.197908</td>\n",
       "      <td>-8.881738</td>\n",
       "    </tr>\n",
       "    <tr>\n",
       "      <th>1577</th>\n",
       "      <td>11.796058</td>\n",
       "      <td>1.234191</td>\n",
       "      <td>0.746903</td>\n",
       "      <td>1.777554</td>\n",
       "      <td>19.430008</td>\n",
       "      <td>9.977072</td>\n",
       "      <td>-0.193242</td>\n",
       "      <td>6.837892</td>\n",
       "      <td>-42.002011</td>\n",
       "      <td>3.395012</td>\n",
       "      <td>...</td>\n",
       "      <td>17.15527</td>\n",
       "      <td>3.154867</td>\n",
       "      <td>25.654063</td>\n",
       "      <td>-6.531175</td>\n",
       "      <td>-238.538616</td>\n",
       "      <td>29.545455</td>\n",
       "      <td>-2.120072</td>\n",
       "      <td>6.041432</td>\n",
       "      <td>3.802092</td>\n",
       "      <td>-16.881738</td>\n",
       "    </tr>\n",
       "    <tr>\n",
       "      <th>66</th>\n",
       "      <td>12.796058</td>\n",
       "      <td>1.834191</td>\n",
       "      <td>1.546903</td>\n",
       "      <td>-1.222446</td>\n",
       "      <td>7.430008</td>\n",
       "      <td>1.977072</td>\n",
       "      <td>-6.593242</td>\n",
       "      <td>-5.162108</td>\n",
       "      <td>-41.002011</td>\n",
       "      <td>-1.604988</td>\n",
       "      <td>...</td>\n",
       "      <td>16.15527</td>\n",
       "      <td>1.754867</td>\n",
       "      <td>18.654063</td>\n",
       "      <td>-9.231175</td>\n",
       "      <td>-173.538616</td>\n",
       "      <td>98.545455</td>\n",
       "      <td>-1.920072</td>\n",
       "      <td>21.041432</td>\n",
       "      <td>-5.197908</td>\n",
       "      <td>11.118262</td>\n",
       "    </tr>\n",
       "    <tr>\n",
       "      <th>248</th>\n",
       "      <td>-4.203942</td>\n",
       "      <td>-1.065809</td>\n",
       "      <td>-0.553097</td>\n",
       "      <td>1.777554</td>\n",
       "      <td>-2.569992</td>\n",
       "      <td>-9.022928</td>\n",
       "      <td>0.906758</td>\n",
       "      <td>-10.162108</td>\n",
       "      <td>36.997989</td>\n",
       "      <td>8.395012</td>\n",
       "      <td>...</td>\n",
       "      <td>5.15527</td>\n",
       "      <td>2.454867</td>\n",
       "      <td>23.654063</td>\n",
       "      <td>16.168825</td>\n",
       "      <td>991.461384</td>\n",
       "      <td>-16.454545</td>\n",
       "      <td>0.979928</td>\n",
       "      <td>7.041432</td>\n",
       "      <td>-46.197908</td>\n",
       "      <td>13.118262</td>\n",
       "    </tr>\n",
       "  </tbody>\n",
       "</table>\n",
       "<p>4 rows × 30 columns</p>\n",
       "</div>"
      ],
      "text/plain": [
       "      '\\% Reporting Fair/Poor Health'  'Physically Unhealthy Days Per Month'  \\\n",
       "1890                        15.796058                               2.034191   \n",
       "1577                        11.796058                               1.234191   \n",
       "66                          12.796058                               1.834191   \n",
       "248                         -4.203942                              -1.065809   \n",
       "\n",
       "      'Mentally Unhealthy Days Per Month'  '\\% Low birth weight births'  \\\n",
       "1890                             0.946903                     -1.222446   \n",
       "1577                             0.746903                      1.777554   \n",
       "66                               1.546903                     -1.222446   \n",
       "248                             -0.553097                      1.777554   \n",
       "\n",
       "      '\\% Smokers'  '\\% Obese'  'Food Environment Index'  \\\n",
       "1890     22.430008   13.977072                 -5.493242   \n",
       "1577     19.430008    9.977072                 -0.193242   \n",
       "66        7.430008    1.977072                 -6.593242   \n",
       "248      -2.569992   -9.022928                  0.906758   \n",
       "\n",
       "      '\\% Physically Inactive'  '\\% With Access To Exercise'  \\\n",
       "1890                 -3.162108                    -61.002011   \n",
       "1577                  6.837892                    -42.002011   \n",
       "66                   -5.162108                    -41.002011   \n",
       "248                 -10.162108                     36.997989   \n",
       "\n",
       "      '\\% Excessive Drinking'                ...                 \\\n",
       "1890                -0.604988                ...                  \n",
       "1577                 3.395012                ...                  \n",
       "66                  -1.604988                ...                  \n",
       "248                  8.395012                ...                  \n",
       "\n",
       "      '\\% Children in Poverty'  '80/20 Income Ratio'  \\\n",
       "1890                  30.15527              1.954867   \n",
       "1577                  17.15527              3.154867   \n",
       "66                    16.15527              1.754867   \n",
       "248                    5.15527              2.454867   \n",
       "\n",
       "      '\\% Single-Parent Households'  'Association Rate'  'Violent Crime Rate'  \\\n",
       "1890                      34.654063           -9.931175           -267.538616   \n",
       "1577                      25.654063           -6.531175           -238.538616   \n",
       "66                        18.654063           -9.231175           -173.538616   \n",
       "248                       23.654063           16.168825            991.461384   \n",
       "\n",
       "      'Injury Death Rate'  'Average Daily PM2.5'  \\\n",
       "1890           125.545455               0.079928   \n",
       "1577            29.545455              -2.120072   \n",
       "66              98.545455              -1.920072   \n",
       "248            -16.454545               0.979928   \n",
       "\n",
       "      '\\% Severe Housing Problems'  '\\% Drive Alone'  \\\n",
       "1890                     29.041432        -16.197908   \n",
       "1577                      6.041432          3.802092   \n",
       "66                       21.041432         -5.197908   \n",
       "248                       7.041432        -46.197908   \n",
       "\n",
       "      '\\% Long Commute - Drives Alone'  \n",
       "1890                         -8.881738  \n",
       "1577                        -16.881738  \n",
       "66                           11.118262  \n",
       "248                          13.118262  \n",
       "\n",
       "[4 rows x 30 columns]"
      ]
     },
     "execution_count": 172,
     "metadata": {},
     "output_type": "execute_result"
    }
   ],
   "source": [
    "Abn.iloc[:,1:] - X.mean()"
   ]
  },
  {
   "cell_type": "markdown",
   "metadata": {},
   "source": [
    "** And from the chart above we can see that most of these counties tend to have a higher percentage of poor health, smokers, Children in poverty, Single parent hoseholds, injury death rate and severe housing problems. At the same time, they have lower assciation rate, violent crime rate, and access to exercise percentage. **"
   ]
  },
  {
   "cell_type": "code",
   "execution_count": null,
   "metadata": {
    "collapsed": true
   },
   "outputs": [],
   "source": []
  }
 ],
 "metadata": {
  "anaconda-cloud": {},
  "kernelspec": {
   "display_name": "Python 2",
   "language": "python",
   "name": "python2"
  },
  "language_info": {
   "codemirror_mode": {
    "name": "ipython",
    "version": 2
   },
   "file_extension": ".py",
   "mimetype": "text/x-python",
   "name": "python",
   "nbconvert_exporter": "python",
   "pygments_lexer": "ipython2",
   "version": "2.7.13"
  }
 },
 "nbformat": 4,
 "nbformat_minor": 1
}
